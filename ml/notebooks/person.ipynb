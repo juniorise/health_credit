{
 "cells": [
  {
   "cell_type": "code",
   "execution_count": 308,
   "metadata": {},
   "outputs": [],
   "source": [
    "# python version: 3.8.11\n",
    "\n",
    "import sys\n",
    "sys.path.append('..')\n"
   ]
  },
  {
   "cell_type": "code",
   "execution_count": 309,
   "metadata": {},
   "outputs": [],
   "source": [
    "import pandas as pd\n",
    "import matplotlib\n"
   ]
  },
  {
   "cell_type": "code",
   "execution_count": 310,
   "metadata": {},
   "outputs": [
    {
     "data": {
      "text/html": [
       "<div>\n",
       "<style scoped>\n",
       "    .dataframe tbody tr th:only-of-type {\n",
       "        vertical-align: middle;\n",
       "    }\n",
       "\n",
       "    .dataframe tbody tr th {\n",
       "        vertical-align: top;\n",
       "    }\n",
       "\n",
       "    .dataframe thead th {\n",
       "        text-align: right;\n",
       "    }\n",
       "</style>\n",
       "<table border=\"1\" class=\"dataframe\">\n",
       "  <thead>\n",
       "    <tr style=\"text-align: right;\">\n",
       "      <th></th>\n",
       "      <th>type</th>\n",
       "      <th>sourceName</th>\n",
       "      <th>sourceVersion</th>\n",
       "      <th>unit</th>\n",
       "      <th>creationDate</th>\n",
       "      <th>startDate</th>\n",
       "      <th>endDate</th>\n",
       "      <th>value</th>\n",
       "    </tr>\n",
       "  </thead>\n",
       "  <tbody>\n",
       "    <tr>\n",
       "      <th>0</th>\n",
       "      <td>HKQuantityTypeIdentifierHeight</td>\n",
       "      <td>ヘルスケア</td>\n",
       "      <td>10.1.1</td>\n",
       "      <td>cm</td>\n",
       "      <td>2016-12-25 13:07:19 +0900</td>\n",
       "      <td>2016-12-25 13:07:19 +0900</td>\n",
       "      <td>2016-12-25 13:07:19 +0900</td>\n",
       "      <td>183</td>\n",
       "    </tr>\n",
       "    <tr>\n",
       "      <th>1</th>\n",
       "      <td>HKQuantityTypeIdentifierBodyMass</td>\n",
       "      <td>ヘルスケア</td>\n",
       "      <td>10.1.1</td>\n",
       "      <td>kg</td>\n",
       "      <td>2016-12-25 13:07:19 +0900</td>\n",
       "      <td>2016-12-25 13:07:19 +0900</td>\n",
       "      <td>2016-12-25 13:07:19 +0900</td>\n",
       "      <td>85</td>\n",
       "    </tr>\n",
       "    <tr>\n",
       "      <th>2</th>\n",
       "      <td>HKQuantityTypeIdentifierHeartRate</td>\n",
       "      <td>石井大輔のApple Watch</td>\n",
       "      <td>6.1.3</td>\n",
       "      <td>count/min</td>\n",
       "      <td>2020-06-13 02:50:42 +0900</td>\n",
       "      <td>2020-06-13 02:50:23 +0900</td>\n",
       "      <td>2020-06-13 02:50:23 +0900</td>\n",
       "      <td>79.5536</td>\n",
       "    </tr>\n",
       "    <tr>\n",
       "      <th>3</th>\n",
       "      <td>HKQuantityTypeIdentifierHeartRate</td>\n",
       "      <td>石井大輔のApple Watch</td>\n",
       "      <td>6.1.3</td>\n",
       "      <td>count/min</td>\n",
       "      <td>2020-06-13 02:55:24 +0900</td>\n",
       "      <td>2020-06-13 02:55:10 +0900</td>\n",
       "      <td>2020-06-13 02:55:10 +0900</td>\n",
       "      <td>81</td>\n",
       "    </tr>\n",
       "    <tr>\n",
       "      <th>4</th>\n",
       "      <td>HKQuantityTypeIdentifierHeartRate</td>\n",
       "      <td>石井大輔のApple Watch</td>\n",
       "      <td>6.1.3</td>\n",
       "      <td>count/min</td>\n",
       "      <td>2020-06-13 03:01:15 +0900</td>\n",
       "      <td>2020-06-13 02:57:08 +0900</td>\n",
       "      <td>2020-06-13 02:57:08 +0900</td>\n",
       "      <td>85</td>\n",
       "    </tr>\n",
       "    <tr>\n",
       "      <th>5</th>\n",
       "      <td>HKQuantityTypeIdentifierHeartRate</td>\n",
       "      <td>石井大輔のApple Watch</td>\n",
       "      <td>6.1.3</td>\n",
       "      <td>count/min</td>\n",
       "      <td>2020-06-13 03:06:23 +0900</td>\n",
       "      <td>2020-06-13 03:02:43 +0900</td>\n",
       "      <td>2020-06-13 03:02:43 +0900</td>\n",
       "      <td>89</td>\n",
       "    </tr>\n",
       "    <tr>\n",
       "      <th>6</th>\n",
       "      <td>HKQuantityTypeIdentifierHeartRate</td>\n",
       "      <td>石井大輔のApple Watch</td>\n",
       "      <td>6.1.3</td>\n",
       "      <td>count/min</td>\n",
       "      <td>2020-06-13 03:12:22 +0900</td>\n",
       "      <td>2020-06-13 03:08:34 +0900</td>\n",
       "      <td>2020-06-13 03:08:34 +0900</td>\n",
       "      <td>89</td>\n",
       "    </tr>\n",
       "    <tr>\n",
       "      <th>7</th>\n",
       "      <td>HKQuantityTypeIdentifierHeartRate</td>\n",
       "      <td>石井大輔のApple Watch</td>\n",
       "      <td>6.1.3</td>\n",
       "      <td>count/min</td>\n",
       "      <td>2020-06-13 03:16:02 +0900</td>\n",
       "      <td>2020-06-13 03:14:43 +0900</td>\n",
       "      <td>2020-06-13 03:14:43 +0900</td>\n",
       "      <td>90</td>\n",
       "    </tr>\n",
       "    <tr>\n",
       "      <th>8</th>\n",
       "      <td>HKQuantityTypeIdentifierHeartRate</td>\n",
       "      <td>石井大輔のApple Watch</td>\n",
       "      <td>6.1.3</td>\n",
       "      <td>count/min</td>\n",
       "      <td>2020-06-13 03:20:45 +0900</td>\n",
       "      <td>2020-06-13 03:19:02 +0900</td>\n",
       "      <td>2020-06-13 03:19:02 +0900</td>\n",
       "      <td>88</td>\n",
       "    </tr>\n",
       "    <tr>\n",
       "      <th>9</th>\n",
       "      <td>HKQuantityTypeIdentifierHeartRate</td>\n",
       "      <td>石井大輔のApple Watch</td>\n",
       "      <td>6.1.3</td>\n",
       "      <td>count/min</td>\n",
       "      <td>2020-06-13 03:27:36 +0900</td>\n",
       "      <td>2020-06-13 03:22:03 +0900</td>\n",
       "      <td>2020-06-13 03:22:03 +0900</td>\n",
       "      <td>88</td>\n",
       "    </tr>\n",
       "  </tbody>\n",
       "</table>\n",
       "</div>"
      ],
      "text/plain": [
       "                                type        sourceName sourceVersion  \\\n",
       "0     HKQuantityTypeIdentifierHeight             ヘルスケア        10.1.1   \n",
       "1   HKQuantityTypeIdentifierBodyMass             ヘルスケア        10.1.1   \n",
       "2  HKQuantityTypeIdentifierHeartRate  石井大輔のApple Watch         6.1.3   \n",
       "3  HKQuantityTypeIdentifierHeartRate  石井大輔のApple Watch         6.1.3   \n",
       "4  HKQuantityTypeIdentifierHeartRate  石井大輔のApple Watch         6.1.3   \n",
       "5  HKQuantityTypeIdentifierHeartRate  石井大輔のApple Watch         6.1.3   \n",
       "6  HKQuantityTypeIdentifierHeartRate  石井大輔のApple Watch         6.1.3   \n",
       "7  HKQuantityTypeIdentifierHeartRate  石井大輔のApple Watch         6.1.3   \n",
       "8  HKQuantityTypeIdentifierHeartRate  石井大輔のApple Watch         6.1.3   \n",
       "9  HKQuantityTypeIdentifierHeartRate  石井大輔のApple Watch         6.1.3   \n",
       "\n",
       "        unit               creationDate                  startDate  \\\n",
       "0         cm  2016-12-25 13:07:19 +0900  2016-12-25 13:07:19 +0900   \n",
       "1         kg  2016-12-25 13:07:19 +0900  2016-12-25 13:07:19 +0900   \n",
       "2  count/min  2020-06-13 02:50:42 +0900  2020-06-13 02:50:23 +0900   \n",
       "3  count/min  2020-06-13 02:55:24 +0900  2020-06-13 02:55:10 +0900   \n",
       "4  count/min  2020-06-13 03:01:15 +0900  2020-06-13 02:57:08 +0900   \n",
       "5  count/min  2020-06-13 03:06:23 +0900  2020-06-13 03:02:43 +0900   \n",
       "6  count/min  2020-06-13 03:12:22 +0900  2020-06-13 03:08:34 +0900   \n",
       "7  count/min  2020-06-13 03:16:02 +0900  2020-06-13 03:14:43 +0900   \n",
       "8  count/min  2020-06-13 03:20:45 +0900  2020-06-13 03:19:02 +0900   \n",
       "9  count/min  2020-06-13 03:27:36 +0900  2020-06-13 03:22:03 +0900   \n",
       "\n",
       "                     endDate    value  \n",
       "0  2016-12-25 13:07:19 +0900      183  \n",
       "1  2016-12-25 13:07:19 +0900       85  \n",
       "2  2020-06-13 02:50:23 +0900  79.5536  \n",
       "3  2020-06-13 02:55:10 +0900       81  \n",
       "4  2020-06-13 02:57:08 +0900       85  \n",
       "5  2020-06-13 03:02:43 +0900       89  \n",
       "6  2020-06-13 03:08:34 +0900       89  \n",
       "7  2020-06-13 03:14:43 +0900       90  \n",
       "8  2020-06-13 03:19:02 +0900       88  \n",
       "9  2020-06-13 03:22:03 +0900       88  "
      ]
     },
     "execution_count": 310,
     "metadata": {},
     "output_type": "execute_result"
    }
   ],
   "source": [
    "# df = pd.read_csv(\n",
    "#     \"../datasets/person/AppleWatch - HeartRate StepCount etc 8440 rows - analysis.csv\")\n",
    "\n",
    "df = pd.read_csv(\n",
    "    \"../datasets/person/AppleWatch - HeartRate StepCount etc 92406 rows - export20200620105726.csv\",\n",
    "    low_memory=False\n",
    ")\n",
    "\n",
    "df.head(10)\n"
   ]
  },
  {
   "cell_type": "code",
   "execution_count": 311,
   "metadata": {},
   "outputs": [
    {
     "data": {
      "text/plain": [
       "array(['ヘルスケア', '石井大輔のApple\\xa0Watch', 'Daisuke’s iPhone',\n",
       "       \"Daisuke's iPhone\", 'H Band', '時計'], dtype=object)"
      ]
     },
     "execution_count": 311,
     "metadata": {},
     "output_type": "execute_result"
    }
   ],
   "source": [
    "df.sourceName.unique()\n"
   ]
  },
  {
   "cell_type": "code",
   "execution_count": 312,
   "metadata": {},
   "outputs": [],
   "source": [
    "df = df[df.sourceName == \"石井大輔のApple\\xa0Watch\"]\n"
   ]
  },
  {
   "cell_type": "code",
   "execution_count": 313,
   "metadata": {},
   "outputs": [
    {
     "data": {
      "text/plain": [
       "array(['HKQuantityTypeIdentifierHeartRate',\n",
       "       'HKQuantityTypeIdentifierStepCount',\n",
       "       'HKQuantityTypeIdentifierDistanceWalkingRunning',\n",
       "       'HKQuantityTypeIdentifierBasalEnergyBurned',\n",
       "       'HKQuantityTypeIdentifierActiveEnergyBurned',\n",
       "       'HKQuantityTypeIdentifierFlightsClimbed',\n",
       "       'HKQuantityTypeIdentifierAppleExerciseTime',\n",
       "       'HKQuantityTypeIdentifierRestingHeartRate',\n",
       "       'HKQuantityTypeIdentifierWalkingHeartRateAverage',\n",
       "       'HKQuantityTypeIdentifierAppleStandTime',\n",
       "       'HKCategoryTypeIdentifierAppleStandHour',\n",
       "       'HKCategoryTypeIdentifierMindfulSession',\n",
       "       'HKCategoryTypeIdentifierHighHeartRateEvent',\n",
       "       'HKQuantityTypeIdentifierHeartRateVariabilitySDNN'], dtype=object)"
      ]
     },
     "execution_count": 313,
     "metadata": {},
     "output_type": "execute_result"
    }
   ],
   "source": [
    "df.type.unique()\n"
   ]
  },
  {
   "cell_type": "code",
   "execution_count": 314,
   "metadata": {},
   "outputs": [
    {
     "data": {
      "text/plain": [
       "array(['HKQuantityTypeIdentifierHeartRate',\n",
       "       'HKQuantityTypeIdentifierStepCount',\n",
       "       'HKQuantityTypeIdentifierActiveEnergyBurned',\n",
       "       'HKQuantityTypeIdentifierDistanceWalkingRunning'], dtype=object)"
      ]
     },
     "execution_count": 314,
     "metadata": {},
     "output_type": "execute_result"
    }
   ],
   "source": [
    "heart_rate_df = df[df.type == \"HKQuantityTypeIdentifierHeartRate\"]\n",
    "step_count_df = df[df.type == \"HKQuantityTypeIdentifierStepCount\"]\n",
    "energy_burned_df = df[df.type == \"HKQuantityTypeIdentifierActiveEnergyBurned\"]\n",
    "distance_df = df[df.type == \"HKQuantityTypeIdentifierDistanceWalkingRunning\"]\n",
    "\n",
    "df = pd.concat([heart_rate_df, step_count_df, energy_burned_df, distance_df])\n",
    "df.type.unique()"
   ]
  },
  {
   "cell_type": "code",
   "execution_count": 315,
   "metadata": {},
   "outputs": [
    {
     "name": "stdout",
     "output_type": "stream",
     "text": [
      "<class 'pandas.core.frame.DataFrame'>\n",
      "Int64Index: 7201 entries, 2 to 70951\n",
      "Data columns (total 8 columns):\n",
      " #   Column         Non-Null Count  Dtype \n",
      "---  ------         --------------  ----- \n",
      " 0   type           7201 non-null   object\n",
      " 1   sourceName     7201 non-null   object\n",
      " 2   sourceVersion  7201 non-null   object\n",
      " 3   unit           7201 non-null   object\n",
      " 4   creationDate   7201 non-null   object\n",
      " 5   startDate      7201 non-null   object\n",
      " 6   endDate        7201 non-null   object\n",
      " 7   value          7201 non-null   object\n",
      "dtypes: object(8)\n",
      "memory usage: 506.3+ KB\n"
     ]
    }
   ],
   "source": [
    "df.info()\n"
   ]
  },
  {
   "cell_type": "code",
   "execution_count": 316,
   "metadata": {},
   "outputs": [],
   "source": [
    "df['value'] = pd.to_numeric(df['value'])\n",
    "\n",
    "df['creationDate'] = pd.to_datetime(df['creationDate'])\n",
    "df['startDate'] = pd.to_datetime(df['startDate'])\n",
    "df['endDate'] = pd.to_datetime(df['endDate'])\n"
   ]
  },
  {
   "cell_type": "code",
   "execution_count": 317,
   "metadata": {},
   "outputs": [
    {
     "data": {
      "image/png": "[encoded data removed]",
      "text/plain": [
       "<Figure size 432x288 with 1 Axes>"
      ]
     },
     "metadata": {
      "needs_background": "light"
     },
     "output_type": "display_data"
    },
    {
     "data": {
      "image/png": "[encoded data removed]",
      "text/plain": [
       "<Figure size 432x288 with 1 Axes>"
      ]
     },
     "metadata": {
      "needs_background": "light"
     },
     "output_type": "display_data"
    },
    {
     "data": {
      "image/png": "[encoded data removed]",
      "text/plain": [
       "<Figure size 432x288 with 1 Axes>"
      ]
     },
     "metadata": {
      "needs_background": "light"
     },
     "output_type": "display_data"
    },
    {
     "data": {
      "image/png": "[encoded data removed]",
      "text/plain": [
       "<Figure size 432x288 with 1 Axes>"
      ]
     },
     "metadata": {
      "needs_background": "light"
     },
     "output_type": "display_data"
    }
   ],
   "source": [
    "for type in df.type.unique():\n",
    "    ydf = df[df.type == type]\n",
    "    ydf.plot(x='endDate', y='value', label=type)"
   ]
  },
  {
   "cell_type": "code",
   "execution_count": 318,
   "metadata": {},
   "outputs": [
    {
     "data": {
      "text/plain": [
       "array(['HKQuantityTypeIdentifierHeartRate',\n",
       "       'HKQuantityTypeIdentifierStepCount',\n",
       "       'HKQuantityTypeIdentifierActiveEnergyBurned',\n",
       "       'HKQuantityTypeIdentifierDistanceWalkingRunning'], dtype=object)"
      ]
     },
     "execution_count": 318,
     "metadata": {},
     "output_type": "execute_result"
    }
   ],
   "source": [
    "df.type.unique()\n"
   ]
  },
  {
   "cell_type": "code",
   "execution_count": 319,
   "metadata": {},
   "outputs": [
    {
     "data": {
      "text/html": [
       "<div>\n",
       "<style scoped>\n",
       "    .dataframe tbody tr th:only-of-type {\n",
       "        vertical-align: middle;\n",
       "    }\n",
       "\n",
       "    .dataframe tbody tr th {\n",
       "        vertical-align: top;\n",
       "    }\n",
       "\n",
       "    .dataframe thead th {\n",
       "        text-align: right;\n",
       "    }\n",
       "</style>\n",
       "<table border=\"1\" class=\"dataframe\">\n",
       "  <thead>\n",
       "    <tr style=\"text-align: right;\">\n",
       "      <th></th>\n",
       "      <th>value</th>\n",
       "    </tr>\n",
       "  </thead>\n",
       "  <tbody>\n",
       "    <tr>\n",
       "      <th>count</th>\n",
       "      <td>511.000000</td>\n",
       "    </tr>\n",
       "    <tr>\n",
       "      <th>mean</th>\n",
       "      <td>0.042916</td>\n",
       "    </tr>\n",
       "    <tr>\n",
       "      <th>std</th>\n",
       "      <td>0.065834</td>\n",
       "    </tr>\n",
       "    <tr>\n",
       "      <th>min</th>\n",
       "      <td>0.000705</td>\n",
       "    </tr>\n",
       "    <tr>\n",
       "      <th>25%</th>\n",
       "      <td>0.011994</td>\n",
       "    </tr>\n",
       "    <tr>\n",
       "      <th>50%</th>\n",
       "      <td>0.027543</td>\n",
       "    </tr>\n",
       "    <tr>\n",
       "      <th>75%</th>\n",
       "      <td>0.047114</td>\n",
       "    </tr>\n",
       "    <tr>\n",
       "      <th>max</th>\n",
       "      <td>0.638335</td>\n",
       "    </tr>\n",
       "  </tbody>\n",
       "</table>\n",
       "</div>"
      ],
      "text/plain": [
       "            value\n",
       "count  511.000000\n",
       "mean     0.042916\n",
       "std      0.065834\n",
       "min      0.000705\n",
       "25%      0.011994\n",
       "50%      0.027543\n",
       "75%      0.047114\n",
       "max      0.638335"
      ]
     },
     "execution_count": 319,
     "metadata": {},
     "output_type": "execute_result"
    }
   ],
   "source": [
    "step_df = df[df.type == \"HKQuantityTypeIdentifierDistanceWalkingRunning\"]\n",
    "step_df.describe()\n"
   ]
  },
  {
   "cell_type": "code",
   "execution_count": 320,
   "metadata": {},
   "outputs": [
    {
     "data": {
      "text/html": [
       "<div>\n",
       "<style scoped>\n",
       "    .dataframe tbody tr th:only-of-type {\n",
       "        vertical-align: middle;\n",
       "    }\n",
       "\n",
       "    .dataframe tbody tr th {\n",
       "        vertical-align: top;\n",
       "    }\n",
       "\n",
       "    .dataframe thead th {\n",
       "        text-align: right;\n",
       "    }\n",
       "</style>\n",
       "<table border=\"1\" class=\"dataframe\">\n",
       "  <thead>\n",
       "    <tr style=\"text-align: right;\">\n",
       "      <th></th>\n",
       "      <th>type</th>\n",
       "      <th>sourceName</th>\n",
       "      <th>sourceVersion</th>\n",
       "      <th>unit</th>\n",
       "      <th>creationDate</th>\n",
       "      <th>startDate</th>\n",
       "      <th>endDate</th>\n",
       "      <th>value</th>\n",
       "    </tr>\n",
       "  </thead>\n",
       "  <tbody>\n",
       "    <tr>\n",
       "      <th>35562</th>\n",
       "      <td>HKQuantityTypeIdentifierStepCount</td>\n",
       "      <td>石井大輔のApple Watch</td>\n",
       "      <td>6.1.3</td>\n",
       "      <td>count</td>\n",
       "      <td>2020-06-13 03:01:23+09:00</td>\n",
       "      <td>2020-06-13 02:58:36+09:00</td>\n",
       "      <td>2020-06-13 02:58:43+09:00</td>\n",
       "      <td>10.0</td>\n",
       "    </tr>\n",
       "    <tr>\n",
       "      <th>35563</th>\n",
       "      <td>HKQuantityTypeIdentifierStepCount</td>\n",
       "      <td>石井大輔のApple Watch</td>\n",
       "      <td>6.1.3</td>\n",
       "      <td>count</td>\n",
       "      <td>2020-06-13 03:12:22+09:00</td>\n",
       "      <td>2020-06-13 03:07:53+09:00</td>\n",
       "      <td>2020-06-13 03:07:56+09:00</td>\n",
       "      <td>8.0</td>\n",
       "    </tr>\n",
       "    <tr>\n",
       "      <th>35564</th>\n",
       "      <td>HKQuantityTypeIdentifierStepCount</td>\n",
       "      <td>石井大輔のApple Watch</td>\n",
       "      <td>6.1.3</td>\n",
       "      <td>count</td>\n",
       "      <td>2020-06-13 03:12:22+09:00</td>\n",
       "      <td>2020-06-13 03:10:01+09:00</td>\n",
       "      <td>2020-06-13 03:10:19+09:00</td>\n",
       "      <td>29.0</td>\n",
       "    </tr>\n",
       "    <tr>\n",
       "      <th>35565</th>\n",
       "      <td>HKQuantityTypeIdentifierStepCount</td>\n",
       "      <td>石井大輔のApple Watch</td>\n",
       "      <td>6.1.3</td>\n",
       "      <td>count</td>\n",
       "      <td>2020-06-13 03:12:22+09:00</td>\n",
       "      <td>2020-06-13 03:11:05+09:00</td>\n",
       "      <td>2020-06-13 03:11:49+09:00</td>\n",
       "      <td>17.0</td>\n",
       "    </tr>\n",
       "    <tr>\n",
       "      <th>35567</th>\n",
       "      <td>HKQuantityTypeIdentifierStepCount</td>\n",
       "      <td>石井大輔のApple Watch</td>\n",
       "      <td>6.1.3</td>\n",
       "      <td>count</td>\n",
       "      <td>2020-06-13 03:25:00+09:00</td>\n",
       "      <td>2020-06-13 03:13:16+09:00</td>\n",
       "      <td>2020-06-13 03:13:18+09:00</td>\n",
       "      <td>12.0</td>\n",
       "    </tr>\n",
       "  </tbody>\n",
       "</table>\n",
       "</div>"
      ],
      "text/plain": [
       "                                    type        sourceName sourceVersion  \\\n",
       "35562  HKQuantityTypeIdentifierStepCount  石井大輔のApple Watch         6.1.3   \n",
       "35563  HKQuantityTypeIdentifierStepCount  石井大輔のApple Watch         6.1.3   \n",
       "35564  HKQuantityTypeIdentifierStepCount  石井大輔のApple Watch         6.1.3   \n",
       "35565  HKQuantityTypeIdentifierStepCount  石井大輔のApple Watch         6.1.3   \n",
       "35567  HKQuantityTypeIdentifierStepCount  石井大輔のApple Watch         6.1.3   \n",
       "\n",
       "        unit              creationDate                 startDate  \\\n",
       "35562  count 2020-06-13 03:01:23+09:00 2020-06-13 02:58:36+09:00   \n",
       "35563  count 2020-06-13 03:12:22+09:00 2020-06-13 03:07:53+09:00   \n",
       "35564  count 2020-06-13 03:12:22+09:00 2020-06-13 03:10:01+09:00   \n",
       "35565  count 2020-06-13 03:12:22+09:00 2020-06-13 03:11:05+09:00   \n",
       "35567  count 2020-06-13 03:25:00+09:00 2020-06-13 03:13:16+09:00   \n",
       "\n",
       "                        endDate  value  \n",
       "35562 2020-06-13 02:58:43+09:00   10.0  \n",
       "35563 2020-06-13 03:07:56+09:00    8.0  \n",
       "35564 2020-06-13 03:10:19+09:00   29.0  \n",
       "35565 2020-06-13 03:11:49+09:00   17.0  \n",
       "35567 2020-06-13 03:13:18+09:00   12.0  "
      ]
     },
     "execution_count": 320,
     "metadata": {},
     "output_type": "execute_result"
    }
   ],
   "source": [
    "step_df = df[df.type == \"HKQuantityTypeIdentifierStepCount\"]\n",
    "step_df.head(5)\n"
   ]
  }
 ],
 "metadata": {
  "kernelspec": {
   "display_name": "Python 3.8.11 ('base')",
   "language": "python",
   "name": "python3"
  },
  "language_info": {
   "codemirror_mode": {
    "name": "ipython",
    "version": 3
   },
   "file_extension": ".py",
   "mimetype": "text/x-python",
   "name": "python",
   "nbconvert_exporter": "python",
   "pygments_lexer": "ipython3",
   "version": "3.8.11"
  },
  "orig_nbformat": 4,
  "vscode": {
   "interpreter": {
    "hash": "40d3a090f54c6569ab1632332b64b2c03c39dcf918b08424e98f38b5ae0af88f"
   }
  }
 },
 "nbformat": 4,
 "nbformat_minor": 2
}
