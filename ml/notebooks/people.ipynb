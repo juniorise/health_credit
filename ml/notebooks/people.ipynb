{
 "cells": [
  {
   "cell_type": "markdown",
   "metadata": {},
   "source": [
    "## Import"
   ]
  },
  {
   "cell_type": "code",
   "execution_count": 1102,
   "metadata": {},
   "outputs": [],
   "source": [
    "import sys\n",
    "sys.path.append('..')\n"
   ]
  },
  {
   "cell_type": "code",
   "execution_count": 1103,
   "metadata": {},
   "outputs": [],
   "source": [
    "import pandas as pd\n",
    "import matplotlib.pyplot as plt\n",
    "import seaborn as sns\n",
    "import numpy as np\n",
    "import category_encoders as ce\n",
    "\n",
    "from sklearn.tree import DecisionTreeClassifier\n",
    "from sklearn.model_selection import train_test_split\n",
    "from sklearn.preprocessing import StandardScaler\n",
    "from sklearn.svm import SVC\n",
    "from sklearn.neighbors import KNeighborsClassifier\n",
    "from sklearn.metrics import f1_score, confusion_matrix, classification_report\n"
   ]
  },
  {
   "cell_type": "markdown",
   "metadata": {},
   "source": [
    "## 1. Data Analysis"
   ]
  },
  {
   "cell_type": "code",
   "execution_count": 1104,
   "metadata": {},
   "outputs": [
    {
     "data": {
      "text/html": [
       "<div>\n",
       "<style scoped>\n",
       "    .dataframe tbody tr th:only-of-type {\n",
       "        vertical-align: middle;\n",
       "    }\n",
       "\n",
       "    .dataframe tbody tr th {\n",
       "        vertical-align: top;\n",
       "    }\n",
       "\n",
       "    .dataframe thead th {\n",
       "        text-align: right;\n",
       "    }\n",
       "</style>\n",
       "<table border=\"1\" class=\"dataframe\">\n",
       "  <thead>\n",
       "    <tr style=\"text-align: right;\">\n",
       "      <th></th>\n",
       "      <th>Unnamed: 0</th>\n",
       "      <th>X1</th>\n",
       "      <th>age</th>\n",
       "      <th>gender</th>\n",
       "      <th>height</th>\n",
       "      <th>weight</th>\n",
       "      <th>steps</th>\n",
       "      <th>hear_rate</th>\n",
       "      <th>calories</th>\n",
       "      <th>distance</th>\n",
       "      <th>entropy_heart</th>\n",
       "      <th>entropy_setps</th>\n",
       "      <th>resting_heart</th>\n",
       "      <th>corr_heart_steps</th>\n",
       "      <th>norm_heart</th>\n",
       "      <th>intensity_karvonen</th>\n",
       "      <th>sd_norm_heart</th>\n",
       "      <th>steps_times_distance</th>\n",
       "      <th>device</th>\n",
       "      <th>activity</th>\n",
       "    </tr>\n",
       "  </thead>\n",
       "  <tbody>\n",
       "    <tr>\n",
       "      <th>0</th>\n",
       "      <td>1</td>\n",
       "      <td>1</td>\n",
       "      <td>20</td>\n",
       "      <td>1</td>\n",
       "      <td>168.0</td>\n",
       "      <td>65.4</td>\n",
       "      <td>10.771429</td>\n",
       "      <td>78.531302</td>\n",
       "      <td>0.344533</td>\n",
       "      <td>0.008327</td>\n",
       "      <td>6.221612</td>\n",
       "      <td>6.116349</td>\n",
       "      <td>59.0</td>\n",
       "      <td>1.000000</td>\n",
       "      <td>19.531302</td>\n",
       "      <td>0.138520</td>\n",
       "      <td>1.000000</td>\n",
       "      <td>0.089692</td>\n",
       "      <td>apple watch</td>\n",
       "      <td>Lying</td>\n",
       "    </tr>\n",
       "    <tr>\n",
       "      <th>1</th>\n",
       "      <td>2</td>\n",
       "      <td>2</td>\n",
       "      <td>20</td>\n",
       "      <td>1</td>\n",
       "      <td>168.0</td>\n",
       "      <td>65.4</td>\n",
       "      <td>11.475325</td>\n",
       "      <td>78.453390</td>\n",
       "      <td>3.287625</td>\n",
       "      <td>0.008896</td>\n",
       "      <td>6.221612</td>\n",
       "      <td>6.116349</td>\n",
       "      <td>59.0</td>\n",
       "      <td>1.000000</td>\n",
       "      <td>19.453390</td>\n",
       "      <td>0.137967</td>\n",
       "      <td>1.000000</td>\n",
       "      <td>0.102088</td>\n",
       "      <td>apple watch</td>\n",
       "      <td>Lying</td>\n",
       "    </tr>\n",
       "    <tr>\n",
       "      <th>2</th>\n",
       "      <td>3</td>\n",
       "      <td>3</td>\n",
       "      <td>20</td>\n",
       "      <td>1</td>\n",
       "      <td>168.0</td>\n",
       "      <td>65.4</td>\n",
       "      <td>12.179221</td>\n",
       "      <td>78.540825</td>\n",
       "      <td>9.484000</td>\n",
       "      <td>0.009466</td>\n",
       "      <td>6.221612</td>\n",
       "      <td>6.116349</td>\n",
       "      <td>59.0</td>\n",
       "      <td>1.000000</td>\n",
       "      <td>19.540825</td>\n",
       "      <td>0.138587</td>\n",
       "      <td>1.000000</td>\n",
       "      <td>0.115287</td>\n",
       "      <td>apple watch</td>\n",
       "      <td>Lying</td>\n",
       "    </tr>\n",
       "    <tr>\n",
       "      <th>3</th>\n",
       "      <td>4</td>\n",
       "      <td>4</td>\n",
       "      <td>20</td>\n",
       "      <td>1</td>\n",
       "      <td>168.0</td>\n",
       "      <td>65.4</td>\n",
       "      <td>12.883117</td>\n",
       "      <td>78.628260</td>\n",
       "      <td>10.154556</td>\n",
       "      <td>0.010035</td>\n",
       "      <td>6.221612</td>\n",
       "      <td>6.116349</td>\n",
       "      <td>59.0</td>\n",
       "      <td>1.000000</td>\n",
       "      <td>19.628260</td>\n",
       "      <td>0.139208</td>\n",
       "      <td>1.000000</td>\n",
       "      <td>0.129286</td>\n",
       "      <td>apple watch</td>\n",
       "      <td>Lying</td>\n",
       "    </tr>\n",
       "    <tr>\n",
       "      <th>4</th>\n",
       "      <td>5</td>\n",
       "      <td>5</td>\n",
       "      <td>20</td>\n",
       "      <td>1</td>\n",
       "      <td>168.0</td>\n",
       "      <td>65.4</td>\n",
       "      <td>13.587013</td>\n",
       "      <td>78.715695</td>\n",
       "      <td>10.825111</td>\n",
       "      <td>0.010605</td>\n",
       "      <td>6.221612</td>\n",
       "      <td>6.116349</td>\n",
       "      <td>59.0</td>\n",
       "      <td>0.982816</td>\n",
       "      <td>19.715695</td>\n",
       "      <td>0.139828</td>\n",
       "      <td>0.241567</td>\n",
       "      <td>0.144088</td>\n",
       "      <td>apple watch</td>\n",
       "      <td>Lying</td>\n",
       "    </tr>\n",
       "  </tbody>\n",
       "</table>\n",
       "</div>"
      ],
      "text/plain": [
       "   Unnamed: 0  X1  age  gender  height  weight      steps  hear_rate  \\\n",
       "0           1   1   20       1   168.0    65.4  10.771429  78.531302   \n",
       "1           2   2   20       1   168.0    65.4  11.475325  78.453390   \n",
       "2           3   3   20       1   168.0    65.4  12.179221  78.540825   \n",
       "3           4   4   20       1   168.0    65.4  12.883117  78.628260   \n",
       "4           5   5   20       1   168.0    65.4  13.587013  78.715695   \n",
       "\n",
       "    calories  distance  entropy_heart  entropy_setps  resting_heart  \\\n",
       "0   0.344533  0.008327       6.221612       6.116349           59.0   \n",
       "1   3.287625  0.008896       6.221612       6.116349           59.0   \n",
       "2   9.484000  0.009466       6.221612       6.116349           59.0   \n",
       "3  10.154556  0.010035       6.221612       6.116349           59.0   \n",
       "4  10.825111  0.010605       6.221612       6.116349           59.0   \n",
       "\n",
       "   corr_heart_steps  norm_heart  intensity_karvonen  sd_norm_heart  \\\n",
       "0          1.000000   19.531302            0.138520       1.000000   \n",
       "1          1.000000   19.453390            0.137967       1.000000   \n",
       "2          1.000000   19.540825            0.138587       1.000000   \n",
       "3          1.000000   19.628260            0.139208       1.000000   \n",
       "4          0.982816   19.715695            0.139828       0.241567   \n",
       "\n",
       "   steps_times_distance       device activity  \n",
       "0              0.089692  apple watch    Lying  \n",
       "1              0.102088  apple watch    Lying  \n",
       "2              0.115287  apple watch    Lying  \n",
       "3              0.129286  apple watch    Lying  \n",
       "4              0.144088  apple watch    Lying  "
      ]
     },
     "execution_count": 1104,
     "metadata": {},
     "output_type": "execute_result"
    }
   ],
   "source": [
    "# display first 10 rows\n",
    "df = pd.read_csv('../datasets/people/aw_fb_data.csv')\n",
    "\n",
    "df.head(5)\n"
   ]
  },
  {
   "cell_type": "code",
   "execution_count": 1105,
   "metadata": {},
   "outputs": [
    {
     "name": "stdout",
     "output_type": "stream",
     "text": [
      "<class 'pandas.core.frame.DataFrame'>\n",
      "RangeIndex: 6264 entries, 0 to 6263\n",
      "Data columns (total 20 columns):\n",
      " #   Column                Non-Null Count  Dtype  \n",
      "---  ------                --------------  -----  \n",
      " 0   Unnamed: 0            6264 non-null   int64  \n",
      " 1   X1                    6264 non-null   int64  \n",
      " 2   age                   6264 non-null   int64  \n",
      " 3   gender                6264 non-null   int64  \n",
      " 4   height                6264 non-null   float64\n",
      " 5   weight                6264 non-null   float64\n",
      " 6   steps                 6264 non-null   float64\n",
      " 7   hear_rate             6264 non-null   float64\n",
      " 8   calories              6264 non-null   float64\n",
      " 9   distance              6264 non-null   float64\n",
      " 10  entropy_heart         6264 non-null   float64\n",
      " 11  entropy_setps         6264 non-null   float64\n",
      " 12  resting_heart         6264 non-null   float64\n",
      " 13  corr_heart_steps      6264 non-null   float64\n",
      " 14  norm_heart            6264 non-null   float64\n",
      " 15  intensity_karvonen    6264 non-null   float64\n",
      " 16  sd_norm_heart         6264 non-null   float64\n",
      " 17  steps_times_distance  6264 non-null   float64\n",
      " 18  device                6264 non-null   object \n",
      " 19  activity              6264 non-null   object \n",
      "dtypes: float64(14), int64(4), object(2)\n",
      "memory usage: 978.9+ KB\n"
     ]
    }
   ],
   "source": [
    "df.info()\n"
   ]
  },
  {
   "cell_type": "code",
   "execution_count": 1106,
   "metadata": {},
   "outputs": [
    {
     "data": {
      "text/html": [
       "<div>\n",
       "<style scoped>\n",
       "    .dataframe tbody tr th:only-of-type {\n",
       "        vertical-align: middle;\n",
       "    }\n",
       "\n",
       "    .dataframe tbody tr th {\n",
       "        vertical-align: top;\n",
       "    }\n",
       "\n",
       "    .dataframe thead th {\n",
       "        text-align: right;\n",
       "    }\n",
       "</style>\n",
       "<table border=\"1\" class=\"dataframe\">\n",
       "  <thead>\n",
       "    <tr style=\"text-align: right;\">\n",
       "      <th></th>\n",
       "      <th>Unnamed: 0</th>\n",
       "      <th>X1</th>\n",
       "      <th>age</th>\n",
       "      <th>gender</th>\n",
       "      <th>height</th>\n",
       "      <th>weight</th>\n",
       "      <th>steps</th>\n",
       "      <th>hear_rate</th>\n",
       "      <th>calories</th>\n",
       "      <th>distance</th>\n",
       "      <th>entropy_heart</th>\n",
       "      <th>entropy_setps</th>\n",
       "      <th>resting_heart</th>\n",
       "      <th>corr_heart_steps</th>\n",
       "      <th>norm_heart</th>\n",
       "      <th>intensity_karvonen</th>\n",
       "      <th>sd_norm_heart</th>\n",
       "      <th>steps_times_distance</th>\n",
       "    </tr>\n",
       "  </thead>\n",
       "  <tbody>\n",
       "    <tr>\n",
       "      <th>count</th>\n",
       "      <td>6264.000000</td>\n",
       "      <td>6264.000000</td>\n",
       "      <td>6264.000000</td>\n",
       "      <td>6264.000000</td>\n",
       "      <td>6264.000000</td>\n",
       "      <td>6264.000000</td>\n",
       "      <td>6264.000000</td>\n",
       "      <td>6264.000000</td>\n",
       "      <td>6264.000000</td>\n",
       "      <td>6264.000000</td>\n",
       "      <td>6264.000000</td>\n",
       "      <td>6264.000000</td>\n",
       "      <td>6264.000000</td>\n",
       "      <td>6264.000000</td>\n",
       "      <td>6264.000000</td>\n",
       "      <td>6264.000000</td>\n",
       "      <td>6264.000000</td>\n",
       "      <td>6264.000000</td>\n",
       "    </tr>\n",
       "    <tr>\n",
       "      <th>mean</th>\n",
       "      <td>3132.500000</td>\n",
       "      <td>1771.144317</td>\n",
       "      <td>29.158525</td>\n",
       "      <td>0.476533</td>\n",
       "      <td>169.709052</td>\n",
       "      <td>69.614464</td>\n",
       "      <td>109.562268</td>\n",
       "      <td>86.142331</td>\n",
       "      <td>19.471823</td>\n",
       "      <td>13.832555</td>\n",
       "      <td>6.030314</td>\n",
       "      <td>5.739984</td>\n",
       "      <td>65.869938</td>\n",
       "      <td>0.306447</td>\n",
       "      <td>20.272393</td>\n",
       "      <td>0.155479</td>\n",
       "      <td>8.110854</td>\n",
       "      <td>590.035239</td>\n",
       "    </tr>\n",
       "    <tr>\n",
       "      <th>std</th>\n",
       "      <td>1808.405375</td>\n",
       "      <td>1097.988748</td>\n",
       "      <td>8.908978</td>\n",
       "      <td>0.499489</td>\n",
       "      <td>10.324698</td>\n",
       "      <td>13.451878</td>\n",
       "      <td>222.797908</td>\n",
       "      <td>28.648385</td>\n",
       "      <td>27.309765</td>\n",
       "      <td>45.941437</td>\n",
       "      <td>0.765574</td>\n",
       "      <td>1.256348</td>\n",
       "      <td>21.203017</td>\n",
       "      <td>0.775418</td>\n",
       "      <td>28.388116</td>\n",
       "      <td>0.210927</td>\n",
       "      <td>12.535080</td>\n",
       "      <td>4063.838530</td>\n",
       "    </tr>\n",
       "    <tr>\n",
       "      <th>min</th>\n",
       "      <td>1.000000</td>\n",
       "      <td>1.000000</td>\n",
       "      <td>18.000000</td>\n",
       "      <td>0.000000</td>\n",
       "      <td>143.000000</td>\n",
       "      <td>43.000000</td>\n",
       "      <td>1.000000</td>\n",
       "      <td>2.222222</td>\n",
       "      <td>0.056269</td>\n",
       "      <td>0.000440</td>\n",
       "      <td>0.000000</td>\n",
       "      <td>0.000000</td>\n",
       "      <td>3.000000</td>\n",
       "      <td>-1.000000</td>\n",
       "      <td>-76.000000</td>\n",
       "      <td>-2.714286</td>\n",
       "      <td>0.000000</td>\n",
       "      <td>0.000690</td>\n",
       "    </tr>\n",
       "    <tr>\n",
       "      <th>25%</th>\n",
       "      <td>1566.750000</td>\n",
       "      <td>789.750000</td>\n",
       "      <td>23.000000</td>\n",
       "      <td>0.000000</td>\n",
       "      <td>160.000000</td>\n",
       "      <td>60.000000</td>\n",
       "      <td>5.159534</td>\n",
       "      <td>75.598079</td>\n",
       "      <td>0.735875</td>\n",
       "      <td>0.019135</td>\n",
       "      <td>6.108524</td>\n",
       "      <td>5.909440</td>\n",
       "      <td>58.134333</td>\n",
       "      <td>-0.467303</td>\n",
       "      <td>1.148883</td>\n",
       "      <td>0.009819</td>\n",
       "      <td>0.264722</td>\n",
       "      <td>0.659260</td>\n",
       "    </tr>\n",
       "    <tr>\n",
       "      <th>50%</th>\n",
       "      <td>3132.500000</td>\n",
       "      <td>1720.000000</td>\n",
       "      <td>28.000000</td>\n",
       "      <td>0.000000</td>\n",
       "      <td>168.000000</td>\n",
       "      <td>68.000000</td>\n",
       "      <td>10.092029</td>\n",
       "      <td>77.267680</td>\n",
       "      <td>4.000000</td>\n",
       "      <td>0.181719</td>\n",
       "      <td>6.189825</td>\n",
       "      <td>6.157197</td>\n",
       "      <td>75.000000</td>\n",
       "      <td>0.665829</td>\n",
       "      <td>9.820254</td>\n",
       "      <td>0.079529</td>\n",
       "      <td>2.893503</td>\n",
       "      <td>13.368619</td>\n",
       "    </tr>\n",
       "    <tr>\n",
       "      <th>75%</th>\n",
       "      <td>4698.250000</td>\n",
       "      <td>2759.250000</td>\n",
       "      <td>33.000000</td>\n",
       "      <td>1.000000</td>\n",
       "      <td>180.000000</td>\n",
       "      <td>77.300000</td>\n",
       "      <td>105.847222</td>\n",
       "      <td>95.669118</td>\n",
       "      <td>20.500000</td>\n",
       "      <td>15.697188</td>\n",
       "      <td>6.247928</td>\n",
       "      <td>6.247928</td>\n",
       "      <td>76.138701</td>\n",
       "      <td>1.000000</td>\n",
       "      <td>27.077336</td>\n",
       "      <td>0.211868</td>\n",
       "      <td>9.679672</td>\n",
       "      <td>93.728562</td>\n",
       "    </tr>\n",
       "    <tr>\n",
       "      <th>max</th>\n",
       "      <td>6264.000000</td>\n",
       "      <td>3670.000000</td>\n",
       "      <td>56.000000</td>\n",
       "      <td>1.000000</td>\n",
       "      <td>191.000000</td>\n",
       "      <td>115.000000</td>\n",
       "      <td>1714.000000</td>\n",
       "      <td>194.333333</td>\n",
       "      <td>97.500000</td>\n",
       "      <td>335.000000</td>\n",
       "      <td>6.475733</td>\n",
       "      <td>6.475733</td>\n",
       "      <td>155.000000</td>\n",
       "      <td>1.000000</td>\n",
       "      <td>156.319444</td>\n",
       "      <td>1.297980</td>\n",
       "      <td>74.457929</td>\n",
       "      <td>51520.000000</td>\n",
       "    </tr>\n",
       "  </tbody>\n",
       "</table>\n",
       "</div>"
      ],
      "text/plain": [
       "        Unnamed: 0           X1          age       gender       height  \\\n",
       "count  6264.000000  6264.000000  6264.000000  6264.000000  6264.000000   \n",
       "mean   3132.500000  1771.144317    29.158525     0.476533   169.709052   \n",
       "std    1808.405375  1097.988748     8.908978     0.499489    10.324698   \n",
       "min       1.000000     1.000000    18.000000     0.000000   143.000000   \n",
       "25%    1566.750000   789.750000    23.000000     0.000000   160.000000   \n",
       "50%    3132.500000  1720.000000    28.000000     0.000000   168.000000   \n",
       "75%    4698.250000  2759.250000    33.000000     1.000000   180.000000   \n",
       "max    6264.000000  3670.000000    56.000000     1.000000   191.000000   \n",
       "\n",
       "            weight        steps    hear_rate     calories     distance  \\\n",
       "count  6264.000000  6264.000000  6264.000000  6264.000000  6264.000000   \n",
       "mean     69.614464   109.562268    86.142331    19.471823    13.832555   \n",
       "std      13.451878   222.797908    28.648385    27.309765    45.941437   \n",
       "min      43.000000     1.000000     2.222222     0.056269     0.000440   \n",
       "25%      60.000000     5.159534    75.598079     0.735875     0.019135   \n",
       "50%      68.000000    10.092029    77.267680     4.000000     0.181719   \n",
       "75%      77.300000   105.847222    95.669118    20.500000    15.697188   \n",
       "max     115.000000  1714.000000   194.333333    97.500000   335.000000   \n",
       "\n",
       "       entropy_heart  entropy_setps  resting_heart  corr_heart_steps  \\\n",
       "count    6264.000000    6264.000000    6264.000000       6264.000000   \n",
       "mean        6.030314       5.739984      65.869938          0.306447   \n",
       "std         0.765574       1.256348      21.203017          0.775418   \n",
       "min         0.000000       0.000000       3.000000         -1.000000   \n",
       "25%         6.108524       5.909440      58.134333         -0.467303   \n",
       "50%         6.189825       6.157197      75.000000          0.665829   \n",
       "75%         6.247928       6.247928      76.138701          1.000000   \n",
       "max         6.475733       6.475733     155.000000          1.000000   \n",
       "\n",
       "        norm_heart  intensity_karvonen  sd_norm_heart  steps_times_distance  \n",
       "count  6264.000000         6264.000000    6264.000000           6264.000000  \n",
       "mean     20.272393            0.155479       8.110854            590.035239  \n",
       "std      28.388116            0.210927      12.535080           4063.838530  \n",
       "min     -76.000000           -2.714286       0.000000              0.000690  \n",
       "25%       1.148883            0.009819       0.264722              0.659260  \n",
       "50%       9.820254            0.079529       2.893503             13.368619  \n",
       "75%      27.077336            0.211868       9.679672             93.728562  \n",
       "max     156.319444            1.297980      74.457929          51520.000000  "
      ]
     },
     "execution_count": 1106,
     "metadata": {},
     "output_type": "execute_result"
    }
   ],
   "source": [
    "df.describe()\n"
   ]
  },
  {
   "cell_type": "code",
   "execution_count": 1107,
   "metadata": {},
   "outputs": [
    {
     "data": {
      "text/plain": [
       "(6264, 20)"
      ]
     },
     "execution_count": 1107,
     "metadata": {},
     "output_type": "execute_result"
    }
   ],
   "source": [
    "# display shape of the dataset\n",
    "df.shape\n"
   ]
  },
  {
   "cell_type": "markdown",
   "metadata": {},
   "source": [
    "The dataset contains 6264 rows and 20 columns."
   ]
  },
  {
   "cell_type": "code",
   "execution_count": 1108,
   "metadata": {},
   "outputs": [
    {
     "data": {
      "text/plain": [
       "array(['Lying', 'Sitting', 'Self Pace walk', 'Running 3 METs',\n",
       "       'Running 5 METs', 'Running 7 METs'], dtype=object)"
      ]
     },
     "execution_count": 1108,
     "metadata": {},
     "output_type": "execute_result"
    }
   ],
   "source": [
    "# unique value of \"activity\" column\n",
    "df['activity'].unique()\n"
   ]
  },
  {
   "cell_type": "markdown",
   "metadata": {},
   "source": [
    "According to result above, there are 7 differet activities."
   ]
  },
  {
   "cell_type": "code",
   "execution_count": 1109,
   "metadata": {},
   "outputs": [
    {
     "data": {
      "text/plain": [
       "Lying             1379\n",
       "Running 7 METs    1114\n",
       "Running 5 METs    1002\n",
       "Running 3 METs     950\n",
       "Sitting            930\n",
       "Self Pace walk     889\n",
       "Name: activity, dtype: int64"
      ]
     },
     "execution_count": 1109,
     "metadata": {},
     "output_type": "execute_result"
    }
   ],
   "source": [
    "# count total number of each activity\n",
    "df.activity.value_counts()\n"
   ]
  },
  {
   "cell_type": "code",
   "execution_count": 1110,
   "metadata": {},
   "outputs": [
    {
     "data": {
      "text/plain": [
       "float64    14\n",
       "int64       4\n",
       "object      2\n",
       "dtype: int64"
      ]
     },
     "execution_count": 1110,
     "metadata": {},
     "output_type": "execute_result"
    }
   ],
   "source": [
    "# display type of data\n",
    "df.dtypes.value_counts()\n"
   ]
  },
  {
   "cell_type": "markdown",
   "metadata": {},
   "source": [
    "### Plot object type data"
   ]
  },
  {
   "cell_type": "code",
   "execution_count": 1111,
   "metadata": {},
   "outputs": [
    {
     "data": {
      "image/png": "[encoded data removed]",
      "text/plain": [
       "<Figure size 1080x288 with 2 Axes>"
      ]
     },
     "metadata": {},
     "output_type": "display_data"
    }
   ],
   "source": [
    "fig, (ax1, ax2) = plt.subplots(1, 2, figsize=(15, 4))\n",
    "df['device'].value_counts().plot.pie(autopct='%.2f%%', ax=ax1)\n",
    "df['activity'].value_counts().plot.pie(autopct='%.2f%%', ax=ax2)\n",
    "plt.show()\n"
   ]
  },
  {
   "cell_type": "markdown",
   "metadata": {},
   "source": [
    "### Plot activities of each device on heatmap"
   ]
  },
  {
   "cell_type": "code",
   "execution_count": 1112,
   "metadata": {},
   "outputs": [
    {
     "data": {
      "text/plain": [
       "<AxesSubplot:xlabel='device', ylabel='activity'>"
      ]
     },
     "execution_count": 1112,
     "metadata": {},
     "output_type": "execute_result"
    },
    {
     "data": {
      "image/png": "[encoded data removed]",
      "text/plain": [
       "<Figure size 432x288 with 2 Axes>"
      ]
     },
     "metadata": {
      "needs_background": "light"
     },
     "output_type": "display_data"
    }
   ],
   "source": [
    "sns.heatmap(pd.crosstab(df[\"activity\"], df[\"device\"]), annot=True, fmt='d')\n"
   ]
  },
  {
   "cell_type": "markdown",
   "metadata": {},
   "source": [
    "## 2. Data Preprocessing"
   ]
  },
  {
   "cell_type": "markdown",
   "metadata": {},
   "source": [
    "Prepare useful columns that will be used for building model"
   ]
  },
  {
   "cell_type": "code",
   "execution_count": 1113,
   "metadata": {},
   "outputs": [],
   "source": [
    "df = df[[\"steps\", \"calories\", \"entropy_heart\", \"entropy_setps\",\n",
    "         \"corr_heart_steps\", \"intensity_karvonen\", \"sd_norm_heart\", \"device\", \"activity\"]]\n"
   ]
  },
  {
   "cell_type": "code",
   "execution_count": 1114,
   "metadata": {},
   "outputs": [
    {
     "data": {
      "text/plain": [
       "steps                 0\n",
       "calories              0\n",
       "entropy_heart         0\n",
       "entropy_setps         0\n",
       "corr_heart_steps      0\n",
       "intensity_karvonen    0\n",
       "sd_norm_heart         0\n",
       "device                0\n",
       "activity              0\n",
       "dtype: int64"
      ]
     },
     "execution_count": 1114,
     "metadata": {},
     "output_type": "execute_result"
    }
   ],
   "source": [
    "# display null value\n",
    "df.isna().sum()\n"
   ]
  },
  {
   "cell_type": "markdown",
   "metadata": {},
   "source": [
    "Plot columns on heatmap to see correlation"
   ]
  },
  {
   "cell_type": "code",
   "execution_count": 1115,
   "metadata": {},
   "outputs": [
    {
     "data": {
      "image/png": "[encoded data removed]",
      "text/plain": [
       "<Figure size 432x288 with 2 Axes>"
      ]
     },
     "metadata": {
      "needs_background": "light"
     },
     "output_type": "display_data"
    }
   ],
   "source": [
    "ax = plt.subplots()\n",
    "ax = sns.heatmap(df.corr(), annot=True, cmap=\"Blues\")\n"
   ]
  },
  {
   "cell_type": "code",
   "execution_count": 1116,
   "metadata": {},
   "outputs": [
    {
     "data": {
      "text/plain": [
       "<AxesSubplot:>"
      ]
     },
     "execution_count": 1116,
     "metadata": {},
     "output_type": "execute_result"
    },
    {
     "data": {
      "image/png": "[encoded data removed]",
      "text/plain": [
       "<Figure size 432x288 with 1 Axes>"
      ]
     },
     "metadata": {
      "needs_background": "light"
     },
     "output_type": "display_data"
    }
   ],
   "source": [
    "df.boxplot(meanline=True, showmeans=True)\n"
   ]
  },
  {
   "cell_type": "markdown",
   "metadata": {},
   "source": [
    "According to the boxplot above, we are able to know that the dataset contains outlier."
   ]
  },
  {
   "cell_type": "code",
   "execution_count": 1117,
   "metadata": {},
   "outputs": [],
   "source": [
    "# remove outlier using interquartile range (IQR)\n",
    "def outlier(col):\n",
    "    Q3, Q1 = np.nanpercentile(col, [75, 25])\n",
    "    IQR = Q3 - Q1\n",
    "    UL = Q3 + 1.5*IQR\n",
    "    LL = Q1 - 1.5*IQR\n",
    "    return UL, LL\n"
   ]
  },
  {
   "cell_type": "code",
   "execution_count": 1118,
   "metadata": {},
   "outputs": [],
   "source": [
    "for column in df.columns:\n",
    "    if df[column].dtype != 'object':\n",
    "        UL, LL = outlier(df[column])\n",
    "        df[column] = np.where((df[column] > UL) | (\n",
    "            df[column] < LL), np.nan, df[column])\n"
   ]
  },
  {
   "cell_type": "code",
   "execution_count": 1119,
   "metadata": {},
   "outputs": [
    {
     "data": {
      "text/plain": [
       "steps                  814\n",
       "calories              1149\n",
       "entropy_heart          639\n",
       "entropy_setps          641\n",
       "corr_heart_steps         0\n",
       "intensity_karvonen     520\n",
       "sd_norm_heart          636\n",
       "device                   0\n",
       "activity                 0\n",
       "dtype: int64"
      ]
     },
     "execution_count": 1119,
     "metadata": {},
     "output_type": "execute_result"
    }
   ],
   "source": [
    "# display null value\n",
    "df.isna().sum()\n"
   ]
  },
  {
   "cell_type": "code",
   "execution_count": 1120,
   "metadata": {},
   "outputs": [
    {
     "data": {
      "text/html": [
       "<div>\n",
       "<style scoped>\n",
       "    .dataframe tbody tr th:only-of-type {\n",
       "        vertical-align: middle;\n",
       "    }\n",
       "\n",
       "    .dataframe tbody tr th {\n",
       "        vertical-align: top;\n",
       "    }\n",
       "\n",
       "    .dataframe thead th {\n",
       "        text-align: right;\n",
       "    }\n",
       "</style>\n",
       "<table border=\"1\" class=\"dataframe\">\n",
       "  <thead>\n",
       "    <tr style=\"text-align: right;\">\n",
       "      <th></th>\n",
       "      <th>steps</th>\n",
       "      <th>calories</th>\n",
       "      <th>entropy_heart</th>\n",
       "      <th>entropy_setps</th>\n",
       "      <th>corr_heart_steps</th>\n",
       "      <th>intensity_karvonen</th>\n",
       "      <th>sd_norm_heart</th>\n",
       "      <th>device</th>\n",
       "      <th>activity</th>\n",
       "    </tr>\n",
       "  </thead>\n",
       "  <tbody>\n",
       "    <tr>\n",
       "      <th>0</th>\n",
       "      <td>10.771429</td>\n",
       "      <td>0.344533</td>\n",
       "      <td>6.221612</td>\n",
       "      <td>6.116349</td>\n",
       "      <td>1.000000</td>\n",
       "      <td>0.138520</td>\n",
       "      <td>1.000000</td>\n",
       "      <td>apple watch</td>\n",
       "      <td>Lying</td>\n",
       "    </tr>\n",
       "    <tr>\n",
       "      <th>1</th>\n",
       "      <td>11.475325</td>\n",
       "      <td>3.287625</td>\n",
       "      <td>6.221612</td>\n",
       "      <td>6.116349</td>\n",
       "      <td>1.000000</td>\n",
       "      <td>0.137967</td>\n",
       "      <td>1.000000</td>\n",
       "      <td>apple watch</td>\n",
       "      <td>Lying</td>\n",
       "    </tr>\n",
       "    <tr>\n",
       "      <th>2</th>\n",
       "      <td>12.179221</td>\n",
       "      <td>9.484000</td>\n",
       "      <td>6.221612</td>\n",
       "      <td>6.116349</td>\n",
       "      <td>1.000000</td>\n",
       "      <td>0.138587</td>\n",
       "      <td>1.000000</td>\n",
       "      <td>apple watch</td>\n",
       "      <td>Lying</td>\n",
       "    </tr>\n",
       "    <tr>\n",
       "      <th>3</th>\n",
       "      <td>12.883117</td>\n",
       "      <td>10.154556</td>\n",
       "      <td>6.221612</td>\n",
       "      <td>6.116349</td>\n",
       "      <td>1.000000</td>\n",
       "      <td>0.139208</td>\n",
       "      <td>1.000000</td>\n",
       "      <td>apple watch</td>\n",
       "      <td>Lying</td>\n",
       "    </tr>\n",
       "    <tr>\n",
       "      <th>4</th>\n",
       "      <td>13.587013</td>\n",
       "      <td>10.825111</td>\n",
       "      <td>6.221612</td>\n",
       "      <td>6.116349</td>\n",
       "      <td>0.982816</td>\n",
       "      <td>0.139828</td>\n",
       "      <td>0.241567</td>\n",
       "      <td>apple watch</td>\n",
       "      <td>Lying</td>\n",
       "    </tr>\n",
       "    <tr>\n",
       "      <th>...</th>\n",
       "      <td>...</td>\n",
       "      <td>...</td>\n",
       "      <td>...</td>\n",
       "      <td>...</td>\n",
       "      <td>...</td>\n",
       "      <td>...</td>\n",
       "      <td>...</td>\n",
       "      <td>...</td>\n",
       "      <td>...</td>\n",
       "    </tr>\n",
       "    <tr>\n",
       "      <th>6185</th>\n",
       "      <td>2.223684</td>\n",
       "      <td>26.500000</td>\n",
       "      <td>6.339850</td>\n",
       "      <td>6.339850</td>\n",
       "      <td>1.000000</td>\n",
       "      <td>0.001021</td>\n",
       "      <td>0.066959</td>\n",
       "      <td>fitbit</td>\n",
       "      <td>Running 7 METs</td>\n",
       "    </tr>\n",
       "    <tr>\n",
       "      <th>6186</th>\n",
       "      <td>2.105263</td>\n",
       "      <td>28.000000</td>\n",
       "      <td>6.339850</td>\n",
       "      <td>6.339850</td>\n",
       "      <td>1.000000</td>\n",
       "      <td>0.000817</td>\n",
       "      <td>0.066959</td>\n",
       "      <td>fitbit</td>\n",
       "      <td>Running 7 METs</td>\n",
       "    </tr>\n",
       "    <tr>\n",
       "      <th>6187</th>\n",
       "      <td>1.986842</td>\n",
       "      <td>26.500000</td>\n",
       "      <td>6.339850</td>\n",
       "      <td>6.339850</td>\n",
       "      <td>1.000000</td>\n",
       "      <td>0.000613</td>\n",
       "      <td>0.066959</td>\n",
       "      <td>fitbit</td>\n",
       "      <td>Running 7 METs</td>\n",
       "    </tr>\n",
       "    <tr>\n",
       "      <th>6188</th>\n",
       "      <td>1.868421</td>\n",
       "      <td>26.500000</td>\n",
       "      <td>6.339850</td>\n",
       "      <td>6.339850</td>\n",
       "      <td>1.000000</td>\n",
       "      <td>0.000408</td>\n",
       "      <td>0.066959</td>\n",
       "      <td>fitbit</td>\n",
       "      <td>Running 7 METs</td>\n",
       "    </tr>\n",
       "    <tr>\n",
       "      <th>6189</th>\n",
       "      <td>1.750000</td>\n",
       "      <td>25.500000</td>\n",
       "      <td>6.339850</td>\n",
       "      <td>6.339850</td>\n",
       "      <td>1.000000</td>\n",
       "      <td>0.000204</td>\n",
       "      <td>20.737019</td>\n",
       "      <td>fitbit</td>\n",
       "      <td>Running 7 METs</td>\n",
       "    </tr>\n",
       "  </tbody>\n",
       "</table>\n",
       "<p>3263 rows × 9 columns</p>\n",
       "</div>"
      ],
      "text/plain": [
       "          steps   calories  entropy_heart  entropy_setps  corr_heart_steps  \\\n",
       "0     10.771429   0.344533       6.221612       6.116349          1.000000   \n",
       "1     11.475325   3.287625       6.221612       6.116349          1.000000   \n",
       "2     12.179221   9.484000       6.221612       6.116349          1.000000   \n",
       "3     12.883117  10.154556       6.221612       6.116349          1.000000   \n",
       "4     13.587013  10.825111       6.221612       6.116349          0.982816   \n",
       "...         ...        ...            ...            ...               ...   \n",
       "6185   2.223684  26.500000       6.339850       6.339850          1.000000   \n",
       "6186   2.105263  28.000000       6.339850       6.339850          1.000000   \n",
       "6187   1.986842  26.500000       6.339850       6.339850          1.000000   \n",
       "6188   1.868421  26.500000       6.339850       6.339850          1.000000   \n",
       "6189   1.750000  25.500000       6.339850       6.339850          1.000000   \n",
       "\n",
       "      intensity_karvonen  sd_norm_heart       device        activity  \n",
       "0               0.138520       1.000000  apple watch           Lying  \n",
       "1               0.137967       1.000000  apple watch           Lying  \n",
       "2               0.138587       1.000000  apple watch           Lying  \n",
       "3               0.139208       1.000000  apple watch           Lying  \n",
       "4               0.139828       0.241567  apple watch           Lying  \n",
       "...                  ...            ...          ...             ...  \n",
       "6185            0.001021       0.066959       fitbit  Running 7 METs  \n",
       "6186            0.000817       0.066959       fitbit  Running 7 METs  \n",
       "6187            0.000613       0.066959       fitbit  Running 7 METs  \n",
       "6188            0.000408       0.066959       fitbit  Running 7 METs  \n",
       "6189            0.000204      20.737019       fitbit  Running 7 METs  \n",
       "\n",
       "[3263 rows x 9 columns]"
      ]
     },
     "execution_count": 1120,
     "metadata": {},
     "output_type": "execute_result"
    }
   ],
   "source": [
    "# drop outlier\n",
    "df.dropna()\n"
   ]
  },
  {
   "cell_type": "code",
   "execution_count": 1121,
   "metadata": {},
   "outputs": [],
   "source": [
    "# drop null value of X\n",
    "df = df.dropna(axis=0)\n"
   ]
  },
  {
   "cell_type": "code",
   "execution_count": 1122,
   "metadata": {},
   "outputs": [],
   "source": [
    "# split dataset based on device type (apple and fitbit)\n",
    "df_apple = df.loc[df[\"device\"] == \"apple watch\"]\n",
    "df_fitbit = df.loc[df[\"device\"] == \"fitbit\"]\n",
    "\n",
    "# remove \"device\" column\n",
    "df_apple = df_apple.drop(\"device\", axis=1)\n",
    "df_fitbit = df_fitbit.drop(\"device\", axis=1)\n"
   ]
  },
  {
   "cell_type": "markdown",
   "metadata": {},
   "source": [
    "## 3. Training"
   ]
  },
  {
   "cell_type": "markdown",
   "metadata": {},
   "source": [
    "Split Apple & Fitbit data"
   ]
  },
  {
   "cell_type": "code",
   "execution_count": 1123,
   "metadata": {},
   "outputs": [],
   "source": [
    "# df_apple = df.loc[df[\"device\"] == \"apple watch\"]\n",
    "# df_fitbit = df.loc[df[\"device\"] == \"fitbit\"]\n"
   ]
  },
  {
   "cell_type": "code",
   "execution_count": 1124,
   "metadata": {},
   "outputs": [],
   "source": [
    "# prepare data for training (apple)\n",
    "X = df_apple.drop(\"activity\", axis=1)\n",
    "y = df_apple.loc[:, \"activity\"]\n"
   ]
  },
  {
   "cell_type": "code",
   "execution_count": 1125,
   "metadata": {},
   "outputs": [],
   "source": [
    "# prepare data for training (fitbit)\n",
    "X = df_fitbit.drop(\"activity\", axis=1)\n",
    "y = df_fitbit.loc[:, \"activity\"]\n"
   ]
  },
  {
   "cell_type": "markdown",
   "metadata": {},
   "source": [
    "Feature encoding"
   ]
  },
  {
   "cell_type": "code",
   "execution_count": 1126,
   "metadata": {},
   "outputs": [
    {
     "data": {
      "text/plain": [
       "array(['Lying', 'Sitting', 'Self Pace walk', 'Running 3 METs',\n",
       "       'Running 5 METs', 'Running 7 METs'], dtype=object)"
      ]
     },
     "execution_count": 1126,
     "metadata": {},
     "output_type": "execute_result"
    }
   ],
   "source": [
    "# display unique value of activity (apple)\n",
    "df_apple['activity'].unique()\n"
   ]
  },
  {
   "cell_type": "code",
   "execution_count": 1127,
   "metadata": {},
   "outputs": [
    {
     "data": {
      "text/plain": [
       "array(['Lying', 'Sitting', 'Self Pace walk', 'Running 3 METs',\n",
       "       'Running 5 METs', 'Running 7 METs'], dtype=object)"
      ]
     },
     "execution_count": 1127,
     "metadata": {},
     "output_type": "execute_result"
    }
   ],
   "source": [
    "# display unique value of activity (fitbit)\n",
    "df_fitbit['activity'].unique()\n"
   ]
  },
  {
   "cell_type": "code",
   "execution_count": 1128,
   "metadata": {},
   "outputs": [],
   "source": [
    "# feature encoding\n",
    "def one_hot_encoding(df):\n",
    "    ordinal_encoder = ce.OrdinalEncoder(cols=['activity'],\n",
    "                                        mapping=[\n",
    "        {'col': 'activity', 'mapping': {\n",
    "            'Lying': 0, 'Self Pace walk': 1, 'Running 3 METs': 2, 'Running 5 METs': 3, 'Sitting': 4, 'Running 7 METs': 5}},\n",
    "    ])\n",
    "\n",
    "    df_ = ordinal_encoder.fit_transform(df)\n",
    "    return df_\n"
   ]
  },
  {
   "cell_type": "code",
   "execution_count": 1129,
   "metadata": {},
   "outputs": [],
   "source": [
    "def preprocessing(df):\n",
    "    df = one_hot_encoding(df)\n",
    "    X = df.drop(\"activity\", axis=1)\n",
    "    y = df.loc[:, \"activity\"]\n",
    "    # print(y.value_counts())\n",
    "    return X, y\n"
   ]
  },
  {
   "cell_type": "code",
   "execution_count": 1130,
   "metadata": {},
   "outputs": [],
   "source": [
    "# split 20% of data for testing\n",
    "Apple_trainset, Apple_testset = train_test_split(\n",
    "    df_apple, test_size=0.2, random_state=0)\n",
    "fitbit_trainset, fitbit_testset = train_test_split(\n",
    "    df_fitbit, test_size=0.2, random_state=0)\n"
   ]
  },
  {
   "cell_type": "code",
   "execution_count": 1131,
   "metadata": {},
   "outputs": [],
   "source": [
    "XApple_train, yApple_train = preprocessing(Apple_trainset)\n",
    "Xfitbit_train, yfitbit_train = preprocessing(fitbit_trainset)\n"
   ]
  },
  {
   "cell_type": "code",
   "execution_count": 1132,
   "metadata": {},
   "outputs": [],
   "source": [
    "Xfitbit_test, yfitbit_test = preprocessing(fitbit_testset)\n",
    "XApple_test, yApple_test = preprocessing(Apple_testset)\n"
   ]
  },
  {
   "cell_type": "code",
   "execution_count": 1133,
   "metadata": {},
   "outputs": [],
   "source": [
    "# standardization the data\n",
    "def standardisation(df):\n",
    "    scaler = StandardScaler()\n",
    "    X = scaler.fit_transform(df)\n",
    "    return X\n"
   ]
  },
  {
   "cell_type": "code",
   "execution_count": 1134,
   "metadata": {},
   "outputs": [],
   "source": [
    "XApple_train = standardisation(XApple_train)\n",
    "Xfitbit_test = standardisation(Xfitbit_test)\n",
    "XApple_test = standardisation(XApple_test)\n",
    "Xfitbit_train = standardisation(Xfitbit_train)\n"
   ]
  },
  {
   "cell_type": "markdown",
   "metadata": {},
   "source": [
    "## 4. Evaluation"
   ]
  },
  {
   "cell_type": "code",
   "execution_count": 1135,
   "metadata": {},
   "outputs": [],
   "source": [
    "def evaluate_model(model, Xtrain, Ytrain, Xtest, Ytest):\n",
    "    model.fit(Xtrain, Ytrain)\n",
    "    ypred = model.predict(Xtest)\n",
    "    print(classification_report(Ytest, ypred))\n",
    "    print(\"Training accuracy {}\".format(model.score(Xtrain, Ytrain)))\n",
    "    print(\"Testing accuracy {}\".format(model.score(Xtest, Ytest)))\n"
   ]
  },
  {
   "cell_type": "markdown",
   "metadata": {},
   "source": [
    "### Decision Tree Model"
   ]
  },
  {
   "cell_type": "code",
   "execution_count": 1136,
   "metadata": {},
   "outputs": [],
   "source": [
    "tree = DecisionTreeClassifier(criterion='gini', random_state=42, max_depth=13)\n"
   ]
  },
  {
   "cell_type": "code",
   "execution_count": 1137,
   "metadata": {},
   "outputs": [
    {
     "name": "stdout",
     "output_type": "stream",
     "text": [
      "Decision tree for apple watch\n",
      "              precision    recall  f1-score   support\n",
      "\n",
      "           0       0.44      0.43      0.43        98\n",
      "           1       0.42      0.47      0.45        72\n",
      "           2       0.50      0.50      0.50       102\n",
      "           3       0.61      0.57      0.59        94\n",
      "           4       0.31      0.42      0.36        50\n",
      "           5       0.50      0.29      0.37        41\n",
      "\n",
      "    accuracy                           0.47       457\n",
      "   macro avg       0.46      0.45      0.45       457\n",
      "weighted avg       0.48      0.47      0.47       457\n",
      "\n",
      "Training accuracy 0.9632876712328767\n",
      "Testing accuracy 0.4682713347921225\n"
     ]
    }
   ],
   "source": [
    "print(\"Decision tree for apple watch\")\n",
    "\n",
    "evaluate_model(tree, XApple_train, yApple_train, XApple_test, yApple_test)\n"
   ]
  },
  {
   "cell_type": "code",
   "execution_count": 1138,
   "metadata": {},
   "outputs": [
    {
     "name": "stdout",
     "output_type": "stream",
     "text": [
      "Decision tree for Fitbit\n",
      "              precision    recall  f1-score   support\n",
      "\n",
      "           0       0.85      0.65      0.74        84\n",
      "           1       0.23      0.70      0.35        10\n",
      "           2       0.31      0.45      0.37        11\n",
      "           3       0.36      0.36      0.36        11\n",
      "           4       0.75      0.46      0.57        46\n",
      "           5       0.74      1.00      0.85        35\n",
      "\n",
      "    accuracy                           0.64       197\n",
      "   macro avg       0.54      0.60      0.54       197\n",
      "weighted avg       0.72      0.64      0.66       197\n",
      "\n",
      "Training accuracy 1.0\n",
      "Testing accuracy 0.6446700507614214\n"
     ]
    }
   ],
   "source": [
    "print(\"Decision tree for Fitbit\")\n",
    "\n",
    "evaluate_model(tree, Xfitbit_train, yfitbit_train, Xfitbit_test, yfitbit_test)\n"
   ]
  },
  {
   "cell_type": "markdown",
   "metadata": {},
   "source": [
    "### Support-vector machine model"
   ]
  },
  {
   "cell_type": "code",
   "execution_count": 1139,
   "metadata": {},
   "outputs": [],
   "source": [
    "SVM = SVC()\n"
   ]
  },
  {
   "cell_type": "code",
   "execution_count": 1140,
   "metadata": {},
   "outputs": [
    {
     "name": "stdout",
     "output_type": "stream",
     "text": [
      "SVM for apple watch\n",
      "              precision    recall  f1-score   support\n",
      "\n",
      "           0       0.36      0.55      0.44        98\n",
      "           1       0.57      0.38      0.45        72\n",
      "           2       0.53      0.54      0.53       102\n",
      "           3       0.62      0.64      0.63        94\n",
      "           4       0.33      0.18      0.23        50\n",
      "           5       0.62      0.49      0.55        41\n",
      "\n",
      "    accuracy                           0.49       457\n",
      "   macro avg       0.51      0.46      0.47       457\n",
      "weighted avg       0.51      0.49      0.49       457\n",
      "\n",
      "Training accuracy 0.5271232876712328\n",
      "Testing accuracy 0.4923413566739606\n"
     ]
    }
   ],
   "source": [
    "print(\"SVM for apple watch\")\n",
    "\n",
    "evaluate_model(SVM, XApple_train, yApple_train, XApple_test, yApple_test)\n"
   ]
  },
  {
   "cell_type": "code",
   "execution_count": 1141,
   "metadata": {},
   "outputs": [
    {
     "name": "stdout",
     "output_type": "stream",
     "text": [
      "SVM for Fitbit\n",
      "              precision    recall  f1-score   support\n",
      "\n",
      "           0       0.65      0.87      0.74        84\n",
      "           1       0.23      0.30      0.26        10\n",
      "           2       0.00      0.00      0.00        11\n",
      "           3       0.00      0.00      0.00        11\n",
      "           4       0.54      0.43      0.48        46\n",
      "           5       0.79      0.77      0.78        35\n",
      "\n",
      "    accuracy                           0.62       197\n",
      "   macro avg       0.37      0.40      0.38       197\n",
      "weighted avg       0.55      0.62      0.58       197\n",
      "\n",
      "Training accuracy 0.6632653061224489\n",
      "Testing accuracy 0.6243654822335025\n"
     ]
    },
    {
     "name": "stderr",
     "output_type": "stream",
     "text": [
      "/Users/vatanak/Library/Python/3.8/lib/python/site-packages/sklearn/metrics/_classification.py:1327: UndefinedMetricWarning: Precision and F-score are ill-defined and being set to 0.0 in labels with no predicted samples. Use `zero_division` parameter to control this behavior.\n",
      "  _warn_prf(average, modifier, msg_start, len(result))\n",
      "/Users/vatanak/Library/Python/3.8/lib/python/site-packages/sklearn/metrics/_classification.py:1327: UndefinedMetricWarning: Precision and F-score are ill-defined and being set to 0.0 in labels with no predicted samples. Use `zero_division` parameter to control this behavior.\n",
      "  _warn_prf(average, modifier, msg_start, len(result))\n",
      "/Users/vatanak/Library/Python/3.8/lib/python/site-packages/sklearn/metrics/_classification.py:1327: UndefinedMetricWarning: Precision and F-score are ill-defined and being set to 0.0 in labels with no predicted samples. Use `zero_division` parameter to control this behavior.\n",
      "  _warn_prf(average, modifier, msg_start, len(result))\n"
     ]
    }
   ],
   "source": [
    "print(\"SVM for Fitbit\")\n",
    "\n",
    "evaluate_model(SVM, Xfitbit_train, yfitbit_train, Xfitbit_test, yfitbit_test)\n"
   ]
  },
  {
   "cell_type": "markdown",
   "metadata": {},
   "source": [
    "### K-nearest Neighbors Classifier Model"
   ]
  },
  {
   "cell_type": "code",
   "execution_count": 1142,
   "metadata": {},
   "outputs": [],
   "source": [
    "KNN = KNeighborsClassifier()\n"
   ]
  },
  {
   "cell_type": "code",
   "execution_count": 1143,
   "metadata": {},
   "outputs": [
    {
     "name": "stdout",
     "output_type": "stream",
     "text": [
      "KNN for Apple\n",
      "              precision    recall  f1-score   support\n",
      "\n",
      "           0       0.61      0.66      0.63        98\n",
      "           1       0.69      0.83      0.75        72\n",
      "           2       0.76      0.65      0.70       102\n",
      "           3       0.77      0.80      0.79        94\n",
      "           4       0.61      0.46      0.52        50\n",
      "           5       0.71      0.71      0.71        41\n",
      "\n",
      "    accuracy                           0.70       457\n",
      "   macro avg       0.69      0.68      0.68       457\n",
      "weighted avg       0.70      0.70      0.69       457\n",
      "\n",
      "Training accuracy 0.8345205479452055\n",
      "Testing accuracy 0.6958424507658644\n"
     ]
    },
    {
     "name": "stderr",
     "output_type": "stream",
     "text": [
      "/Users/vatanak/Library/Python/3.8/lib/python/site-packages/sklearn/neighbors/_classification.py:237: FutureWarning: Unlike other reduction functions (e.g. `skew`, `kurtosis`), the default behavior of `mode` typically preserves the axis it acts along. In SciPy 1.11.0, this behavior will change: the default value of `keepdims` will become False, the `axis` over which the statistic is taken will be eliminated, and the value None will no longer be accepted. Set `keepdims` to True or False to avoid this warning.\n",
      "  mode, _ = stats.mode(_y[neigh_ind, k], axis=1)\n",
      "/Users/vatanak/Library/Python/3.8/lib/python/site-packages/sklearn/neighbors/_classification.py:237: FutureWarning: Unlike other reduction functions (e.g. `skew`, `kurtosis`), the default behavior of `mode` typically preserves the axis it acts along. In SciPy 1.11.0, this behavior will change: the default value of `keepdims` will become False, the `axis` over which the statistic is taken will be eliminated, and the value None will no longer be accepted. Set `keepdims` to True or False to avoid this warning.\n",
      "  mode, _ = stats.mode(_y[neigh_ind, k], axis=1)\n",
      "/Users/vatanak/Library/Python/3.8/lib/python/site-packages/sklearn/neighbors/_classification.py:237: FutureWarning: Unlike other reduction functions (e.g. `skew`, `kurtosis`), the default behavior of `mode` typically preserves the axis it acts along. In SciPy 1.11.0, this behavior will change: the default value of `keepdims` will become False, the `axis` over which the statistic is taken will be eliminated, and the value None will no longer be accepted. Set `keepdims` to True or False to avoid this warning.\n",
      "  mode, _ = stats.mode(_y[neigh_ind, k], axis=1)\n"
     ]
    }
   ],
   "source": [
    "print(\"KNN for Apple\")\n",
    "\n",
    "evaluate_model(KNN, XApple_train, yApple_train, XApple_test, yApple_test)\n"
   ]
  },
  {
   "cell_type": "code",
   "execution_count": 1144,
   "metadata": {},
   "outputs": [
    {
     "name": "stderr",
     "output_type": "stream",
     "text": [
      "/Users/vatanak/Library/Python/3.8/lib/python/site-packages/sklearn/neighbors/_classification.py:237: FutureWarning: Unlike other reduction functions (e.g. `skew`, `kurtosis`), the default behavior of `mode` typically preserves the axis it acts along. In SciPy 1.11.0, this behavior will change: the default value of `keepdims` will become False, the `axis` over which the statistic is taken will be eliminated, and the value None will no longer be accepted. Set `keepdims` to True or False to avoid this warning.\n",
      "  mode, _ = stats.mode(_y[neigh_ind, k], axis=1)\n",
      "/Users/vatanak/Library/Python/3.8/lib/python/site-packages/sklearn/neighbors/_classification.py:237: FutureWarning: Unlike other reduction functions (e.g. `skew`, `kurtosis`), the default behavior of `mode` typically preserves the axis it acts along. In SciPy 1.11.0, this behavior will change: the default value of `keepdims` will become False, the `axis` over which the statistic is taken will be eliminated, and the value None will no longer be accepted. Set `keepdims` to True or False to avoid this warning.\n",
      "  mode, _ = stats.mode(_y[neigh_ind, k], axis=1)\n"
     ]
    },
    {
     "name": "stdout",
     "output_type": "stream",
     "text": [
      "KNN for Fitbit\n",
      "              precision    recall  f1-score   support\n",
      "\n",
      "           0       0.87      0.82      0.85        84\n",
      "           1       0.38      0.60      0.46        10\n",
      "           2       0.75      0.55      0.63        11\n",
      "           3       0.67      0.55      0.60        11\n",
      "           4       0.80      0.78      0.79        46\n",
      "           5       0.80      0.91      0.85        35\n",
      "\n",
      "    accuracy                           0.79       197\n",
      "   macro avg       0.71      0.70      0.70       197\n",
      "weighted avg       0.80      0.79      0.79       197\n",
      "\n",
      "Training accuracy 0.8647959183673469\n",
      "Testing accuracy 0.7868020304568528\n"
     ]
    },
    {
     "name": "stderr",
     "output_type": "stream",
     "text": [
      "/Users/vatanak/Library/Python/3.8/lib/python/site-packages/sklearn/neighbors/_classification.py:237: FutureWarning: Unlike other reduction functions (e.g. `skew`, `kurtosis`), the default behavior of `mode` typically preserves the axis it acts along. In SciPy 1.11.0, this behavior will change: the default value of `keepdims` will become False, the `axis` over which the statistic is taken will be eliminated, and the value None will no longer be accepted. Set `keepdims` to True or False to avoid this warning.\n",
      "  mode, _ = stats.mode(_y[neigh_ind, k], axis=1)\n"
     ]
    }
   ],
   "source": [
    "print(\"KNN for Fitbit\")\n",
    "\n",
    "evaluate_model(KNN, Xfitbit_train, yfitbit_train, Xfitbit_test, yfitbit_test)\n"
   ]
  },
  {
   "cell_type": "markdown",
   "metadata": {},
   "source": [
    "### According to the 3 trained models above, KNN seems to perform better that Decision tree and Support-vector machine for both Apple and Fitbit. Thus, KNN will be used for our application."
   ]
  }
 ],
 "metadata": {
  "kernelspec": {
   "display_name": "Python 3.8.9 64-bit",
   "language": "python",
   "name": "python3"
  },
  "language_info": {
   "codemirror_mode": {
    "name": "ipython",
    "version": 3
   },
   "file_extension": ".py",
   "mimetype": "text/x-python",
   "name": "python",
   "nbconvert_exporter": "python",
   "pygments_lexer": "ipython3",
   "version": "3.8.9"
  },
  "orig_nbformat": 4,
  "vscode": {
   "interpreter": {
    "hash": "31f2aee4e71d21fbe5cf8b01ff0e069b9275f58929596ceb00d14d90e3e16cd6"
   }
  }
 },
 "nbformat": 4,
 "nbformat_minor": 2
}
