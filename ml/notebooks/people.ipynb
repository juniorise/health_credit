{
 "cells": [
  {
   "cell_type": "markdown",
   "metadata": {},
   "source": [
    "## Import"
   ]
  },
  {
   "cell_type": "code",
   "execution_count": 1317,
   "metadata": {},
   "outputs": [],
   "source": [
    "import sys\n",
    "sys.path.append('..')\n"
   ]
  },
  {
   "cell_type": "code",
   "execution_count": 1318,
   "metadata": {},
   "outputs": [],
   "source": [
    "import pandas as pd\n",
    "import matplotlib.pyplot as plt\n",
    "import seaborn as sns\n",
    "import numpy as np\n",
    "import category_encoders as ce\n",
    "from sklearn.model_selection import train_test_split\n",
    "from sklearn.preprocessing import StandardScaler\n",
    "from sklearn.svm import SVC\n",
    "from sklearn.neighbors import KNeighborsClassifier\n",
    "from sklearn.metrics import f1_score, confusion_matrix, classification_report\n"
   ]
  },
  {
   "cell_type": "markdown",
   "metadata": {},
   "source": [
    "## 1. Data Analysis"
   ]
  },
  {
   "cell_type": "markdown",
   "metadata": {},
   "source": [
    "Display first 10 rows"
   ]
  },
  {
   "cell_type": "code",
   "execution_count": 1319,
   "metadata": {},
   "outputs": [
    {
     "data": {
      "text/html": [
       "<div>\n",
       "<style scoped>\n",
       "    .dataframe tbody tr th:only-of-type {\n",
       "        vertical-align: middle;\n",
       "    }\n",
       "\n",
       "    .dataframe tbody tr th {\n",
       "        vertical-align: top;\n",
       "    }\n",
       "\n",
       "    .dataframe thead th {\n",
       "        text-align: right;\n",
       "    }\n",
       "</style>\n",
       "<table border=\"1\" class=\"dataframe\">\n",
       "  <thead>\n",
       "    <tr style=\"text-align: right;\">\n",
       "      <th></th>\n",
       "      <th>Unnamed: 0</th>\n",
       "      <th>X1</th>\n",
       "      <th>age</th>\n",
       "      <th>gender</th>\n",
       "      <th>height</th>\n",
       "      <th>weight</th>\n",
       "      <th>steps</th>\n",
       "      <th>hear_rate</th>\n",
       "      <th>calories</th>\n",
       "      <th>distance</th>\n",
       "      <th>entropy_heart</th>\n",
       "      <th>entropy_setps</th>\n",
       "      <th>resting_heart</th>\n",
       "      <th>corr_heart_steps</th>\n",
       "      <th>norm_heart</th>\n",
       "      <th>intensity_karvonen</th>\n",
       "      <th>sd_norm_heart</th>\n",
       "      <th>steps_times_distance</th>\n",
       "      <th>device</th>\n",
       "      <th>activity</th>\n",
       "    </tr>\n",
       "  </thead>\n",
       "  <tbody>\n",
       "    <tr>\n",
       "      <th>0</th>\n",
       "      <td>1</td>\n",
       "      <td>1</td>\n",
       "      <td>20</td>\n",
       "      <td>1</td>\n",
       "      <td>168.0</td>\n",
       "      <td>65.4</td>\n",
       "      <td>10.771429</td>\n",
       "      <td>78.531302</td>\n",
       "      <td>0.344533</td>\n",
       "      <td>0.008327</td>\n",
       "      <td>6.221612</td>\n",
       "      <td>6.116349</td>\n",
       "      <td>59.0</td>\n",
       "      <td>1.000000</td>\n",
       "      <td>19.531302</td>\n",
       "      <td>0.138520</td>\n",
       "      <td>1.000000</td>\n",
       "      <td>0.089692</td>\n",
       "      <td>apple watch</td>\n",
       "      <td>Lying</td>\n",
       "    </tr>\n",
       "    <tr>\n",
       "      <th>1</th>\n",
       "      <td>2</td>\n",
       "      <td>2</td>\n",
       "      <td>20</td>\n",
       "      <td>1</td>\n",
       "      <td>168.0</td>\n",
       "      <td>65.4</td>\n",
       "      <td>11.475325</td>\n",
       "      <td>78.453390</td>\n",
       "      <td>3.287625</td>\n",
       "      <td>0.008896</td>\n",
       "      <td>6.221612</td>\n",
       "      <td>6.116349</td>\n",
       "      <td>59.0</td>\n",
       "      <td>1.000000</td>\n",
       "      <td>19.453390</td>\n",
       "      <td>0.137967</td>\n",
       "      <td>1.000000</td>\n",
       "      <td>0.102088</td>\n",
       "      <td>apple watch</td>\n",
       "      <td>Lying</td>\n",
       "    </tr>\n",
       "    <tr>\n",
       "      <th>2</th>\n",
       "      <td>3</td>\n",
       "      <td>3</td>\n",
       "      <td>20</td>\n",
       "      <td>1</td>\n",
       "      <td>168.0</td>\n",
       "      <td>65.4</td>\n",
       "      <td>12.179221</td>\n",
       "      <td>78.540825</td>\n",
       "      <td>9.484000</td>\n",
       "      <td>0.009466</td>\n",
       "      <td>6.221612</td>\n",
       "      <td>6.116349</td>\n",
       "      <td>59.0</td>\n",
       "      <td>1.000000</td>\n",
       "      <td>19.540825</td>\n",
       "      <td>0.138587</td>\n",
       "      <td>1.000000</td>\n",
       "      <td>0.115287</td>\n",
       "      <td>apple watch</td>\n",
       "      <td>Lying</td>\n",
       "    </tr>\n",
       "    <tr>\n",
       "      <th>3</th>\n",
       "      <td>4</td>\n",
       "      <td>4</td>\n",
       "      <td>20</td>\n",
       "      <td>1</td>\n",
       "      <td>168.0</td>\n",
       "      <td>65.4</td>\n",
       "      <td>12.883117</td>\n",
       "      <td>78.628260</td>\n",
       "      <td>10.154556</td>\n",
       "      <td>0.010035</td>\n",
       "      <td>6.221612</td>\n",
       "      <td>6.116349</td>\n",
       "      <td>59.0</td>\n",
       "      <td>1.000000</td>\n",
       "      <td>19.628260</td>\n",
       "      <td>0.139208</td>\n",
       "      <td>1.000000</td>\n",
       "      <td>0.129286</td>\n",
       "      <td>apple watch</td>\n",
       "      <td>Lying</td>\n",
       "    </tr>\n",
       "    <tr>\n",
       "      <th>4</th>\n",
       "      <td>5</td>\n",
       "      <td>5</td>\n",
       "      <td>20</td>\n",
       "      <td>1</td>\n",
       "      <td>168.0</td>\n",
       "      <td>65.4</td>\n",
       "      <td>13.587013</td>\n",
       "      <td>78.715695</td>\n",
       "      <td>10.825111</td>\n",
       "      <td>0.010605</td>\n",
       "      <td>6.221612</td>\n",
       "      <td>6.116349</td>\n",
       "      <td>59.0</td>\n",
       "      <td>0.982816</td>\n",
       "      <td>19.715695</td>\n",
       "      <td>0.139828</td>\n",
       "      <td>0.241567</td>\n",
       "      <td>0.144088</td>\n",
       "      <td>apple watch</td>\n",
       "      <td>Lying</td>\n",
       "    </tr>\n",
       "    <tr>\n",
       "      <th>5</th>\n",
       "      <td>6</td>\n",
       "      <td>6</td>\n",
       "      <td>20</td>\n",
       "      <td>1</td>\n",
       "      <td>168.0</td>\n",
       "      <td>65.4</td>\n",
       "      <td>14.290909</td>\n",
       "      <td>78.803129</td>\n",
       "      <td>11.495667</td>\n",
       "      <td>0.011174</td>\n",
       "      <td>6.221612</td>\n",
       "      <td>6.116349</td>\n",
       "      <td>59.0</td>\n",
       "      <td>1.000000</td>\n",
       "      <td>19.803129</td>\n",
       "      <td>0.140448</td>\n",
       "      <td>0.264722</td>\n",
       "      <td>0.159691</td>\n",
       "      <td>apple watch</td>\n",
       "      <td>Sitting</td>\n",
       "    </tr>\n",
       "    <tr>\n",
       "      <th>6</th>\n",
       "      <td>7</td>\n",
       "      <td>7</td>\n",
       "      <td>20</td>\n",
       "      <td>1</td>\n",
       "      <td>168.0</td>\n",
       "      <td>65.4</td>\n",
       "      <td>14.994805</td>\n",
       "      <td>78.890564</td>\n",
       "      <td>12.166222</td>\n",
       "      <td>0.011744</td>\n",
       "      <td>6.221612</td>\n",
       "      <td>6.116349</td>\n",
       "      <td>59.0</td>\n",
       "      <td>1.000000</td>\n",
       "      <td>19.890564</td>\n",
       "      <td>0.141068</td>\n",
       "      <td>0.264722</td>\n",
       "      <td>0.176096</td>\n",
       "      <td>apple watch</td>\n",
       "      <td>Sitting</td>\n",
       "    </tr>\n",
       "    <tr>\n",
       "      <th>7</th>\n",
       "      <td>8</td>\n",
       "      <td>8</td>\n",
       "      <td>20</td>\n",
       "      <td>1</td>\n",
       "      <td>168.0</td>\n",
       "      <td>65.4</td>\n",
       "      <td>15.698701</td>\n",
       "      <td>78.977999</td>\n",
       "      <td>12.836778</td>\n",
       "      <td>0.012313</td>\n",
       "      <td>6.221612</td>\n",
       "      <td>6.116349</td>\n",
       "      <td>59.0</td>\n",
       "      <td>1.000000</td>\n",
       "      <td>19.977999</td>\n",
       "      <td>0.141688</td>\n",
       "      <td>0.264722</td>\n",
       "      <td>0.193303</td>\n",
       "      <td>apple watch</td>\n",
       "      <td>Sitting</td>\n",
       "    </tr>\n",
       "    <tr>\n",
       "      <th>8</th>\n",
       "      <td>9</td>\n",
       "      <td>9</td>\n",
       "      <td>20</td>\n",
       "      <td>1</td>\n",
       "      <td>168.0</td>\n",
       "      <td>65.4</td>\n",
       "      <td>16.402597</td>\n",
       "      <td>79.065434</td>\n",
       "      <td>13.507333</td>\n",
       "      <td>0.012883</td>\n",
       "      <td>6.221612</td>\n",
       "      <td>6.116349</td>\n",
       "      <td>59.0</td>\n",
       "      <td>1.000000</td>\n",
       "      <td>20.065434</td>\n",
       "      <td>0.142308</td>\n",
       "      <td>0.264722</td>\n",
       "      <td>0.211311</td>\n",
       "      <td>apple watch</td>\n",
       "      <td>Sitting</td>\n",
       "    </tr>\n",
       "    <tr>\n",
       "      <th>9</th>\n",
       "      <td>10</td>\n",
       "      <td>10</td>\n",
       "      <td>20</td>\n",
       "      <td>1</td>\n",
       "      <td>168.0</td>\n",
       "      <td>65.4</td>\n",
       "      <td>17.106494</td>\n",
       "      <td>79.152869</td>\n",
       "      <td>14.177889</td>\n",
       "      <td>0.013452</td>\n",
       "      <td>6.221612</td>\n",
       "      <td>6.116349</td>\n",
       "      <td>59.0</td>\n",
       "      <td>1.000000</td>\n",
       "      <td>20.152869</td>\n",
       "      <td>0.142928</td>\n",
       "      <td>0.264722</td>\n",
       "      <td>0.230121</td>\n",
       "      <td>apple watch</td>\n",
       "      <td>Sitting</td>\n",
       "    </tr>\n",
       "  </tbody>\n",
       "</table>\n",
       "</div>"
      ],
      "text/plain": [
       "   Unnamed: 0  X1  age  gender  height  weight      steps  hear_rate  \\\n",
       "0           1   1   20       1   168.0    65.4  10.771429  78.531302   \n",
       "1           2   2   20       1   168.0    65.4  11.475325  78.453390   \n",
       "2           3   3   20       1   168.0    65.4  12.179221  78.540825   \n",
       "3           4   4   20       1   168.0    65.4  12.883117  78.628260   \n",
       "4           5   5   20       1   168.0    65.4  13.587013  78.715695   \n",
       "5           6   6   20       1   168.0    65.4  14.290909  78.803129   \n",
       "6           7   7   20       1   168.0    65.4  14.994805  78.890564   \n",
       "7           8   8   20       1   168.0    65.4  15.698701  78.977999   \n",
       "8           9   9   20       1   168.0    65.4  16.402597  79.065434   \n",
       "9          10  10   20       1   168.0    65.4  17.106494  79.152869   \n",
       "\n",
       "    calories  distance  entropy_heart  entropy_setps  resting_heart  \\\n",
       "0   0.344533  0.008327       6.221612       6.116349           59.0   \n",
       "1   3.287625  0.008896       6.221612       6.116349           59.0   \n",
       "2   9.484000  0.009466       6.221612       6.116349           59.0   \n",
       "3  10.154556  0.010035       6.221612       6.116349           59.0   \n",
       "4  10.825111  0.010605       6.221612       6.116349           59.0   \n",
       "5  11.495667  0.011174       6.221612       6.116349           59.0   \n",
       "6  12.166222  0.011744       6.221612       6.116349           59.0   \n",
       "7  12.836778  0.012313       6.221612       6.116349           59.0   \n",
       "8  13.507333  0.012883       6.221612       6.116349           59.0   \n",
       "9  14.177889  0.013452       6.221612       6.116349           59.0   \n",
       "\n",
       "   corr_heart_steps  norm_heart  intensity_karvonen  sd_norm_heart  \\\n",
       "0          1.000000   19.531302            0.138520       1.000000   \n",
       "1          1.000000   19.453390            0.137967       1.000000   \n",
       "2          1.000000   19.540825            0.138587       1.000000   \n",
       "3          1.000000   19.628260            0.139208       1.000000   \n",
       "4          0.982816   19.715695            0.139828       0.241567   \n",
       "5          1.000000   19.803129            0.140448       0.264722   \n",
       "6          1.000000   19.890564            0.141068       0.264722   \n",
       "7          1.000000   19.977999            0.141688       0.264722   \n",
       "8          1.000000   20.065434            0.142308       0.264722   \n",
       "9          1.000000   20.152869            0.142928       0.264722   \n",
       "\n",
       "   steps_times_distance       device activity  \n",
       "0              0.089692  apple watch    Lying  \n",
       "1              0.102088  apple watch    Lying  \n",
       "2              0.115287  apple watch    Lying  \n",
       "3              0.129286  apple watch    Lying  \n",
       "4              0.144088  apple watch    Lying  \n",
       "5              0.159691  apple watch  Sitting  \n",
       "6              0.176096  apple watch  Sitting  \n",
       "7              0.193303  apple watch  Sitting  \n",
       "8              0.211311  apple watch  Sitting  \n",
       "9              0.230121  apple watch  Sitting  "
      ]
     },
     "execution_count": 1319,
     "metadata": {},
     "output_type": "execute_result"
    }
   ],
   "source": [
    "df = pd.read_csv('../datasets/people/aw_fb_data.csv')\n",
    "\n",
    "df.head(10)\n"
   ]
  },
  {
   "cell_type": "code",
   "execution_count": 1320,
   "metadata": {},
   "outputs": [
    {
     "name": "stdout",
     "output_type": "stream",
     "text": [
      "<class 'pandas.core.frame.DataFrame'>\n",
      "RangeIndex: 6264 entries, 0 to 6263\n",
      "Data columns (total 20 columns):\n",
      " #   Column                Non-Null Count  Dtype  \n",
      "---  ------                --------------  -----  \n",
      " 0   Unnamed: 0            6264 non-null   int64  \n",
      " 1   X1                    6264 non-null   int64  \n",
      " 2   age                   6264 non-null   int64  \n",
      " 3   gender                6264 non-null   int64  \n",
      " 4   height                6264 non-null   float64\n",
      " 5   weight                6264 non-null   float64\n",
      " 6   steps                 6264 non-null   float64\n",
      " 7   hear_rate             6264 non-null   float64\n",
      " 8   calories              6264 non-null   float64\n",
      " 9   distance              6264 non-null   float64\n",
      " 10  entropy_heart         6264 non-null   float64\n",
      " 11  entropy_setps         6264 non-null   float64\n",
      " 12  resting_heart         6264 non-null   float64\n",
      " 13  corr_heart_steps      6264 non-null   float64\n",
      " 14  norm_heart            6264 non-null   float64\n",
      " 15  intensity_karvonen    6264 non-null   float64\n",
      " 16  sd_norm_heart         6264 non-null   float64\n",
      " 17  steps_times_distance  6264 non-null   float64\n",
      " 18  device                6264 non-null   object \n",
      " 19  activity              6264 non-null   object \n",
      "dtypes: float64(14), int64(4), object(2)\n",
      "memory usage: 978.9+ KB\n"
     ]
    }
   ],
   "source": [
    "df.info()\n"
   ]
  },
  {
   "cell_type": "code",
   "execution_count": 1321,
   "metadata": {},
   "outputs": [
    {
     "data": {
      "text/html": [
       "<div>\n",
       "<style scoped>\n",
       "    .dataframe tbody tr th:only-of-type {\n",
       "        vertical-align: middle;\n",
       "    }\n",
       "\n",
       "    .dataframe tbody tr th {\n",
       "        vertical-align: top;\n",
       "    }\n",
       "\n",
       "    .dataframe thead th {\n",
       "        text-align: right;\n",
       "    }\n",
       "</style>\n",
       "<table border=\"1\" class=\"dataframe\">\n",
       "  <thead>\n",
       "    <tr style=\"text-align: right;\">\n",
       "      <th></th>\n",
       "      <th>Unnamed: 0</th>\n",
       "      <th>X1</th>\n",
       "      <th>age</th>\n",
       "      <th>gender</th>\n",
       "      <th>height</th>\n",
       "      <th>weight</th>\n",
       "      <th>steps</th>\n",
       "      <th>hear_rate</th>\n",
       "      <th>calories</th>\n",
       "      <th>distance</th>\n",
       "      <th>entropy_heart</th>\n",
       "      <th>entropy_setps</th>\n",
       "      <th>resting_heart</th>\n",
       "      <th>corr_heart_steps</th>\n",
       "      <th>norm_heart</th>\n",
       "      <th>intensity_karvonen</th>\n",
       "      <th>sd_norm_heart</th>\n",
       "      <th>steps_times_distance</th>\n",
       "    </tr>\n",
       "  </thead>\n",
       "  <tbody>\n",
       "    <tr>\n",
       "      <th>count</th>\n",
       "      <td>6264.000000</td>\n",
       "      <td>6264.000000</td>\n",
       "      <td>6264.000000</td>\n",
       "      <td>6264.000000</td>\n",
       "      <td>6264.000000</td>\n",
       "      <td>6264.000000</td>\n",
       "      <td>6264.000000</td>\n",
       "      <td>6264.000000</td>\n",
       "      <td>6264.000000</td>\n",
       "      <td>6264.000000</td>\n",
       "      <td>6264.000000</td>\n",
       "      <td>6264.000000</td>\n",
       "      <td>6264.000000</td>\n",
       "      <td>6264.000000</td>\n",
       "      <td>6264.000000</td>\n",
       "      <td>6264.000000</td>\n",
       "      <td>6264.000000</td>\n",
       "      <td>6264.000000</td>\n",
       "    </tr>\n",
       "    <tr>\n",
       "      <th>mean</th>\n",
       "      <td>3132.500000</td>\n",
       "      <td>1771.144317</td>\n",
       "      <td>29.158525</td>\n",
       "      <td>0.476533</td>\n",
       "      <td>169.709052</td>\n",
       "      <td>69.614464</td>\n",
       "      <td>109.562268</td>\n",
       "      <td>86.142331</td>\n",
       "      <td>19.471823</td>\n",
       "      <td>13.832555</td>\n",
       "      <td>6.030314</td>\n",
       "      <td>5.739984</td>\n",
       "      <td>65.869938</td>\n",
       "      <td>0.306447</td>\n",
       "      <td>20.272393</td>\n",
       "      <td>0.155479</td>\n",
       "      <td>8.110854</td>\n",
       "      <td>590.035239</td>\n",
       "    </tr>\n",
       "    <tr>\n",
       "      <th>std</th>\n",
       "      <td>1808.405375</td>\n",
       "      <td>1097.988748</td>\n",
       "      <td>8.908978</td>\n",
       "      <td>0.499489</td>\n",
       "      <td>10.324698</td>\n",
       "      <td>13.451878</td>\n",
       "      <td>222.797908</td>\n",
       "      <td>28.648385</td>\n",
       "      <td>27.309765</td>\n",
       "      <td>45.941437</td>\n",
       "      <td>0.765574</td>\n",
       "      <td>1.256348</td>\n",
       "      <td>21.203017</td>\n",
       "      <td>0.775418</td>\n",
       "      <td>28.388116</td>\n",
       "      <td>0.210927</td>\n",
       "      <td>12.535080</td>\n",
       "      <td>4063.838530</td>\n",
       "    </tr>\n",
       "    <tr>\n",
       "      <th>min</th>\n",
       "      <td>1.000000</td>\n",
       "      <td>1.000000</td>\n",
       "      <td>18.000000</td>\n",
       "      <td>0.000000</td>\n",
       "      <td>143.000000</td>\n",
       "      <td>43.000000</td>\n",
       "      <td>1.000000</td>\n",
       "      <td>2.222222</td>\n",
       "      <td>0.056269</td>\n",
       "      <td>0.000440</td>\n",
       "      <td>0.000000</td>\n",
       "      <td>0.000000</td>\n",
       "      <td>3.000000</td>\n",
       "      <td>-1.000000</td>\n",
       "      <td>-76.000000</td>\n",
       "      <td>-2.714286</td>\n",
       "      <td>0.000000</td>\n",
       "      <td>0.000690</td>\n",
       "    </tr>\n",
       "    <tr>\n",
       "      <th>25%</th>\n",
       "      <td>1566.750000</td>\n",
       "      <td>789.750000</td>\n",
       "      <td>23.000000</td>\n",
       "      <td>0.000000</td>\n",
       "      <td>160.000000</td>\n",
       "      <td>60.000000</td>\n",
       "      <td>5.159534</td>\n",
       "      <td>75.598079</td>\n",
       "      <td>0.735875</td>\n",
       "      <td>0.019135</td>\n",
       "      <td>6.108524</td>\n",
       "      <td>5.909440</td>\n",
       "      <td>58.134333</td>\n",
       "      <td>-0.467303</td>\n",
       "      <td>1.148883</td>\n",
       "      <td>0.009819</td>\n",
       "      <td>0.264722</td>\n",
       "      <td>0.659260</td>\n",
       "    </tr>\n",
       "    <tr>\n",
       "      <th>50%</th>\n",
       "      <td>3132.500000</td>\n",
       "      <td>1720.000000</td>\n",
       "      <td>28.000000</td>\n",
       "      <td>0.000000</td>\n",
       "      <td>168.000000</td>\n",
       "      <td>68.000000</td>\n",
       "      <td>10.092029</td>\n",
       "      <td>77.267680</td>\n",
       "      <td>4.000000</td>\n",
       "      <td>0.181719</td>\n",
       "      <td>6.189825</td>\n",
       "      <td>6.157197</td>\n",
       "      <td>75.000000</td>\n",
       "      <td>0.665829</td>\n",
       "      <td>9.820254</td>\n",
       "      <td>0.079529</td>\n",
       "      <td>2.893503</td>\n",
       "      <td>13.368619</td>\n",
       "    </tr>\n",
       "    <tr>\n",
       "      <th>75%</th>\n",
       "      <td>4698.250000</td>\n",
       "      <td>2759.250000</td>\n",
       "      <td>33.000000</td>\n",
       "      <td>1.000000</td>\n",
       "      <td>180.000000</td>\n",
       "      <td>77.300000</td>\n",
       "      <td>105.847222</td>\n",
       "      <td>95.669118</td>\n",
       "      <td>20.500000</td>\n",
       "      <td>15.697188</td>\n",
       "      <td>6.247928</td>\n",
       "      <td>6.247928</td>\n",
       "      <td>76.138701</td>\n",
       "      <td>1.000000</td>\n",
       "      <td>27.077336</td>\n",
       "      <td>0.211868</td>\n",
       "      <td>9.679672</td>\n",
       "      <td>93.728562</td>\n",
       "    </tr>\n",
       "    <tr>\n",
       "      <th>max</th>\n",
       "      <td>6264.000000</td>\n",
       "      <td>3670.000000</td>\n",
       "      <td>56.000000</td>\n",
       "      <td>1.000000</td>\n",
       "      <td>191.000000</td>\n",
       "      <td>115.000000</td>\n",
       "      <td>1714.000000</td>\n",
       "      <td>194.333333</td>\n",
       "      <td>97.500000</td>\n",
       "      <td>335.000000</td>\n",
       "      <td>6.475733</td>\n",
       "      <td>6.475733</td>\n",
       "      <td>155.000000</td>\n",
       "      <td>1.000000</td>\n",
       "      <td>156.319444</td>\n",
       "      <td>1.297980</td>\n",
       "      <td>74.457929</td>\n",
       "      <td>51520.000000</td>\n",
       "    </tr>\n",
       "  </tbody>\n",
       "</table>\n",
       "</div>"
      ],
      "text/plain": [
       "        Unnamed: 0           X1          age       gender       height  \\\n",
       "count  6264.000000  6264.000000  6264.000000  6264.000000  6264.000000   \n",
       "mean   3132.500000  1771.144317    29.158525     0.476533   169.709052   \n",
       "std    1808.405375  1097.988748     8.908978     0.499489    10.324698   \n",
       "min       1.000000     1.000000    18.000000     0.000000   143.000000   \n",
       "25%    1566.750000   789.750000    23.000000     0.000000   160.000000   \n",
       "50%    3132.500000  1720.000000    28.000000     0.000000   168.000000   \n",
       "75%    4698.250000  2759.250000    33.000000     1.000000   180.000000   \n",
       "max    6264.000000  3670.000000    56.000000     1.000000   191.000000   \n",
       "\n",
       "            weight        steps    hear_rate     calories     distance  \\\n",
       "count  6264.000000  6264.000000  6264.000000  6264.000000  6264.000000   \n",
       "mean     69.614464   109.562268    86.142331    19.471823    13.832555   \n",
       "std      13.451878   222.797908    28.648385    27.309765    45.941437   \n",
       "min      43.000000     1.000000     2.222222     0.056269     0.000440   \n",
       "25%      60.000000     5.159534    75.598079     0.735875     0.019135   \n",
       "50%      68.000000    10.092029    77.267680     4.000000     0.181719   \n",
       "75%      77.300000   105.847222    95.669118    20.500000    15.697188   \n",
       "max     115.000000  1714.000000   194.333333    97.500000   335.000000   \n",
       "\n",
       "       entropy_heart  entropy_setps  resting_heart  corr_heart_steps  \\\n",
       "count    6264.000000    6264.000000    6264.000000       6264.000000   \n",
       "mean        6.030314       5.739984      65.869938          0.306447   \n",
       "std         0.765574       1.256348      21.203017          0.775418   \n",
       "min         0.000000       0.000000       3.000000         -1.000000   \n",
       "25%         6.108524       5.909440      58.134333         -0.467303   \n",
       "50%         6.189825       6.157197      75.000000          0.665829   \n",
       "75%         6.247928       6.247928      76.138701          1.000000   \n",
       "max         6.475733       6.475733     155.000000          1.000000   \n",
       "\n",
       "        norm_heart  intensity_karvonen  sd_norm_heart  steps_times_distance  \n",
       "count  6264.000000         6264.000000    6264.000000           6264.000000  \n",
       "mean     20.272393            0.155479       8.110854            590.035239  \n",
       "std      28.388116            0.210927      12.535080           4063.838530  \n",
       "min     -76.000000           -2.714286       0.000000              0.000690  \n",
       "25%       1.148883            0.009819       0.264722              0.659260  \n",
       "50%       9.820254            0.079529       2.893503             13.368619  \n",
       "75%      27.077336            0.211868       9.679672             93.728562  \n",
       "max     156.319444            1.297980      74.457929          51520.000000  "
      ]
     },
     "execution_count": 1321,
     "metadata": {},
     "output_type": "execute_result"
    }
   ],
   "source": [
    "df.describe()\n"
   ]
  },
  {
   "cell_type": "code",
   "execution_count": 1322,
   "metadata": {},
   "outputs": [
    {
     "data": {
      "text/plain": [
       "(6264, 20)"
      ]
     },
     "execution_count": 1322,
     "metadata": {},
     "output_type": "execute_result"
    }
   ],
   "source": [
    "df.shape\n"
   ]
  },
  {
   "cell_type": "code",
   "execution_count": 1323,
   "metadata": {},
   "outputs": [
    {
     "data": {
      "text/plain": [
       "array(['Lying', 'Sitting', 'Self Pace walk', 'Running 3 METs',\n",
       "       'Running 5 METs', 'Running 7 METs'], dtype=object)"
      ]
     },
     "execution_count": 1323,
     "metadata": {},
     "output_type": "execute_result"
    }
   ],
   "source": [
    "df['activity'].unique()\n"
   ]
  },
  {
   "cell_type": "markdown",
   "metadata": {},
   "source": [
    "According to result above, we can see that there are 7 differet activities of the users."
   ]
  },
  {
   "cell_type": "markdown",
   "metadata": {},
   "source": [
    "### Count total number of each activity"
   ]
  },
  {
   "cell_type": "code",
   "execution_count": 1324,
   "metadata": {},
   "outputs": [
    {
     "data": {
      "text/plain": [
       "Lying             1379\n",
       "Running 7 METs    1114\n",
       "Running 5 METs    1002\n",
       "Running 3 METs     950\n",
       "Sitting            930\n",
       "Self Pace walk     889\n",
       "Name: activity, dtype: int64"
      ]
     },
     "execution_count": 1324,
     "metadata": {},
     "output_type": "execute_result"
    }
   ],
   "source": [
    "df.activity.value_counts()\n"
   ]
  },
  {
   "cell_type": "code",
   "execution_count": 1325,
   "metadata": {},
   "outputs": [
    {
     "data": {
      "text/plain": [
       "float64    14\n",
       "int64       4\n",
       "object      2\n",
       "dtype: int64"
      ]
     },
     "execution_count": 1325,
     "metadata": {},
     "output_type": "execute_result"
    }
   ],
   "source": [
    "df.dtypes.value_counts()\n"
   ]
  },
  {
   "cell_type": "markdown",
   "metadata": {},
   "source": [
    "### Plot object type data"
   ]
  },
  {
   "cell_type": "code",
   "execution_count": 1326,
   "metadata": {},
   "outputs": [
    {
     "data": {
      "text/plain": [
       "<AxesSubplot:ylabel='device'>"
      ]
     },
     "execution_count": 1326,
     "metadata": {},
     "output_type": "execute_result"
    },
    {
     "data": {
      "image/png": "[encoded data removed]",
      "text/plain": [
       "<Figure size 432x288 with 1 Axes>"
      ]
     },
     "metadata": {},
     "output_type": "display_data"
    }
   ],
   "source": [
    "df['device'].value_counts().plot.pie(autopct='%1.1f%%')\n"
   ]
  },
  {
   "cell_type": "code",
   "execution_count": 1327,
   "metadata": {},
   "outputs": [
    {
     "data": {
      "text/plain": [
       "<AxesSubplot:ylabel='activity'>"
      ]
     },
     "execution_count": 1327,
     "metadata": {},
     "output_type": "execute_result"
    },
    {
     "data": {
      "image/png": "[encoded data removed]",
      "text/plain": [
       "<Figure size 432x288 with 1 Axes>"
      ]
     },
     "metadata": {},
     "output_type": "display_data"
    }
   ],
   "source": [
    "df['activity'].value_counts().plot.pie(autopct='%1.1f%%')\n"
   ]
  },
  {
   "cell_type": "markdown",
   "metadata": {},
   "source": [
    "### Plot activities of each device on heatmap"
   ]
  },
  {
   "cell_type": "code",
   "execution_count": 1328,
   "metadata": {},
   "outputs": [
    {
     "data": {
      "text/plain": [
       "<AxesSubplot:xlabel='device', ylabel='activity'>"
      ]
     },
     "execution_count": 1328,
     "metadata": {},
     "output_type": "execute_result"
    },
    {
     "data": {
      "image/png": "[encoded data removed]",
      "text/plain": [
       "<Figure size 432x288 with 2 Axes>"
      ]
     },
     "metadata": {
      "needs_background": "light"
     },
     "output_type": "display_data"
    }
   ],
   "source": [
    "sns.heatmap(pd.crosstab(df[\"activity\"], df[\"device\"]), annot=True, fmt='d')\n"
   ]
  },
  {
   "cell_type": "markdown",
   "metadata": {},
   "source": [
    "## 2. Data Preprocessing"
   ]
  },
  {
   "cell_type": "markdown",
   "metadata": {},
   "source": [
    "Prepare df for prediction"
   ]
  },
  {
   "cell_type": "code",
   "execution_count": 1329,
   "metadata": {},
   "outputs": [],
   "source": [
    "df = df[[\"steps\", \"calories\", \"entropy_heart\", \"entropy_setps\",\n",
    "         \"corr_heart_steps\", \"intensity_karvonen\", \"sd_norm_heart\", \"device\", \"activity\"]]\n"
   ]
  },
  {
   "cell_type": "code",
   "execution_count": 1330,
   "metadata": {},
   "outputs": [
    {
     "data": {
      "text/plain": [
       "steps                 0\n",
       "calories              0\n",
       "entropy_heart         0\n",
       "entropy_setps         0\n",
       "corr_heart_steps      0\n",
       "intensity_karvonen    0\n",
       "sd_norm_heart         0\n",
       "device                0\n",
       "activity              0\n",
       "dtype: int64"
      ]
     },
     "execution_count": 1330,
     "metadata": {},
     "output_type": "execute_result"
    }
   ],
   "source": [
    "df.isna().sum()\n"
   ]
  },
  {
   "cell_type": "markdown",
   "metadata": {},
   "source": [
    "### Find outlier"
   ]
  },
  {
   "cell_type": "code",
   "execution_count": 1331,
   "metadata": {},
   "outputs": [
    {
     "data": {
      "image/png": "[encoded data removed]",
      "text/plain": [
       "<Figure size 1224x1080 with 2 Axes>"
      ]
     },
     "metadata": {
      "needs_background": "light"
     },
     "output_type": "display_data"
    }
   ],
   "source": [
    "ax = plt.subplots(figsize=(17, 15))\n",
    "ax = sns.heatmap(df.corr(), annot=True)\n"
   ]
  },
  {
   "cell_type": "code",
   "execution_count": 1332,
   "metadata": {},
   "outputs": [],
   "source": [
    "# remove outlier using interquartile range (IQR)\n",
    "def outlier_limits(col):\n",
    "    Q3, Q1 = np.nanpercentile(col, [75, 25])\n",
    "    IQR = Q3 - Q1\n",
    "    UL = Q3 + 1.5*IQR\n",
    "    LL = Q1 - 1.5*IQR\n",
    "    return UL, LL\n"
   ]
  },
  {
   "cell_type": "code",
   "execution_count": 1333,
   "metadata": {},
   "outputs": [],
   "source": [
    "for column in df.columns:\n",
    "    if df[column].dtype != 'object':\n",
    "        UL, LL = outlier_limits(df[column])\n",
    "        df[column] = np.where((df[column] > UL) | (\n",
    "            df[column] < LL), np.nan, df[column])\n"
   ]
  },
  {
   "cell_type": "code",
   "execution_count": 1334,
   "metadata": {},
   "outputs": [
    {
     "data": {
      "text/plain": [
       "steps                  814\n",
       "calories              1149\n",
       "entropy_heart          639\n",
       "entropy_setps          641\n",
       "corr_heart_steps         0\n",
       "intensity_karvonen     520\n",
       "sd_norm_heart          636\n",
       "device                   0\n",
       "activity                 0\n",
       "dtype: int64"
      ]
     },
     "execution_count": 1334,
     "metadata": {},
     "output_type": "execute_result"
    }
   ],
   "source": [
    "df.isna().sum()\n"
   ]
  },
  {
   "cell_type": "markdown",
   "metadata": {},
   "source": [
    "Drop outlier"
   ]
  },
  {
   "cell_type": "code",
   "execution_count": 1335,
   "metadata": {},
   "outputs": [
    {
     "data": {
      "text/html": [
       "<div>\n",
       "<style scoped>\n",
       "    .dataframe tbody tr th:only-of-type {\n",
       "        vertical-align: middle;\n",
       "    }\n",
       "\n",
       "    .dataframe tbody tr th {\n",
       "        vertical-align: top;\n",
       "    }\n",
       "\n",
       "    .dataframe thead th {\n",
       "        text-align: right;\n",
       "    }\n",
       "</style>\n",
       "<table border=\"1\" class=\"dataframe\">\n",
       "  <thead>\n",
       "    <tr style=\"text-align: right;\">\n",
       "      <th></th>\n",
       "      <th>steps</th>\n",
       "      <th>calories</th>\n",
       "      <th>entropy_heart</th>\n",
       "      <th>entropy_setps</th>\n",
       "      <th>corr_heart_steps</th>\n",
       "      <th>intensity_karvonen</th>\n",
       "      <th>sd_norm_heart</th>\n",
       "      <th>device</th>\n",
       "      <th>activity</th>\n",
       "    </tr>\n",
       "  </thead>\n",
       "  <tbody>\n",
       "    <tr>\n",
       "      <th>0</th>\n",
       "      <td>10.771429</td>\n",
       "      <td>0.344533</td>\n",
       "      <td>6.221612</td>\n",
       "      <td>6.116349</td>\n",
       "      <td>1.000000</td>\n",
       "      <td>0.138520</td>\n",
       "      <td>1.000000</td>\n",
       "      <td>apple watch</td>\n",
       "      <td>Lying</td>\n",
       "    </tr>\n",
       "    <tr>\n",
       "      <th>1</th>\n",
       "      <td>11.475325</td>\n",
       "      <td>3.287625</td>\n",
       "      <td>6.221612</td>\n",
       "      <td>6.116349</td>\n",
       "      <td>1.000000</td>\n",
       "      <td>0.137967</td>\n",
       "      <td>1.000000</td>\n",
       "      <td>apple watch</td>\n",
       "      <td>Lying</td>\n",
       "    </tr>\n",
       "    <tr>\n",
       "      <th>2</th>\n",
       "      <td>12.179221</td>\n",
       "      <td>9.484000</td>\n",
       "      <td>6.221612</td>\n",
       "      <td>6.116349</td>\n",
       "      <td>1.000000</td>\n",
       "      <td>0.138587</td>\n",
       "      <td>1.000000</td>\n",
       "      <td>apple watch</td>\n",
       "      <td>Lying</td>\n",
       "    </tr>\n",
       "    <tr>\n",
       "      <th>3</th>\n",
       "      <td>12.883117</td>\n",
       "      <td>10.154556</td>\n",
       "      <td>6.221612</td>\n",
       "      <td>6.116349</td>\n",
       "      <td>1.000000</td>\n",
       "      <td>0.139208</td>\n",
       "      <td>1.000000</td>\n",
       "      <td>apple watch</td>\n",
       "      <td>Lying</td>\n",
       "    </tr>\n",
       "    <tr>\n",
       "      <th>4</th>\n",
       "      <td>13.587013</td>\n",
       "      <td>10.825111</td>\n",
       "      <td>6.221612</td>\n",
       "      <td>6.116349</td>\n",
       "      <td>0.982816</td>\n",
       "      <td>0.139828</td>\n",
       "      <td>0.241567</td>\n",
       "      <td>apple watch</td>\n",
       "      <td>Lying</td>\n",
       "    </tr>\n",
       "    <tr>\n",
       "      <th>...</th>\n",
       "      <td>...</td>\n",
       "      <td>...</td>\n",
       "      <td>...</td>\n",
       "      <td>...</td>\n",
       "      <td>...</td>\n",
       "      <td>...</td>\n",
       "      <td>...</td>\n",
       "      <td>...</td>\n",
       "      <td>...</td>\n",
       "    </tr>\n",
       "    <tr>\n",
       "      <th>6185</th>\n",
       "      <td>2.223684</td>\n",
       "      <td>26.500000</td>\n",
       "      <td>6.339850</td>\n",
       "      <td>6.339850</td>\n",
       "      <td>1.000000</td>\n",
       "      <td>0.001021</td>\n",
       "      <td>0.066959</td>\n",
       "      <td>fitbit</td>\n",
       "      <td>Running 7 METs</td>\n",
       "    </tr>\n",
       "    <tr>\n",
       "      <th>6186</th>\n",
       "      <td>2.105263</td>\n",
       "      <td>28.000000</td>\n",
       "      <td>6.339850</td>\n",
       "      <td>6.339850</td>\n",
       "      <td>1.000000</td>\n",
       "      <td>0.000817</td>\n",
       "      <td>0.066959</td>\n",
       "      <td>fitbit</td>\n",
       "      <td>Running 7 METs</td>\n",
       "    </tr>\n",
       "    <tr>\n",
       "      <th>6187</th>\n",
       "      <td>1.986842</td>\n",
       "      <td>26.500000</td>\n",
       "      <td>6.339850</td>\n",
       "      <td>6.339850</td>\n",
       "      <td>1.000000</td>\n",
       "      <td>0.000613</td>\n",
       "      <td>0.066959</td>\n",
       "      <td>fitbit</td>\n",
       "      <td>Running 7 METs</td>\n",
       "    </tr>\n",
       "    <tr>\n",
       "      <th>6188</th>\n",
       "      <td>1.868421</td>\n",
       "      <td>26.500000</td>\n",
       "      <td>6.339850</td>\n",
       "      <td>6.339850</td>\n",
       "      <td>1.000000</td>\n",
       "      <td>0.000408</td>\n",
       "      <td>0.066959</td>\n",
       "      <td>fitbit</td>\n",
       "      <td>Running 7 METs</td>\n",
       "    </tr>\n",
       "    <tr>\n",
       "      <th>6189</th>\n",
       "      <td>1.750000</td>\n",
       "      <td>25.500000</td>\n",
       "      <td>6.339850</td>\n",
       "      <td>6.339850</td>\n",
       "      <td>1.000000</td>\n",
       "      <td>0.000204</td>\n",
       "      <td>20.737019</td>\n",
       "      <td>fitbit</td>\n",
       "      <td>Running 7 METs</td>\n",
       "    </tr>\n",
       "  </tbody>\n",
       "</table>\n",
       "<p>3263 rows × 9 columns</p>\n",
       "</div>"
      ],
      "text/plain": [
       "          steps   calories  entropy_heart  entropy_setps  corr_heart_steps  \\\n",
       "0     10.771429   0.344533       6.221612       6.116349          1.000000   \n",
       "1     11.475325   3.287625       6.221612       6.116349          1.000000   \n",
       "2     12.179221   9.484000       6.221612       6.116349          1.000000   \n",
       "3     12.883117  10.154556       6.221612       6.116349          1.000000   \n",
       "4     13.587013  10.825111       6.221612       6.116349          0.982816   \n",
       "...         ...        ...            ...            ...               ...   \n",
       "6185   2.223684  26.500000       6.339850       6.339850          1.000000   \n",
       "6186   2.105263  28.000000       6.339850       6.339850          1.000000   \n",
       "6187   1.986842  26.500000       6.339850       6.339850          1.000000   \n",
       "6188   1.868421  26.500000       6.339850       6.339850          1.000000   \n",
       "6189   1.750000  25.500000       6.339850       6.339850          1.000000   \n",
       "\n",
       "      intensity_karvonen  sd_norm_heart       device        activity  \n",
       "0               0.138520       1.000000  apple watch           Lying  \n",
       "1               0.137967       1.000000  apple watch           Lying  \n",
       "2               0.138587       1.000000  apple watch           Lying  \n",
       "3               0.139208       1.000000  apple watch           Lying  \n",
       "4               0.139828       0.241567  apple watch           Lying  \n",
       "...                  ...            ...          ...             ...  \n",
       "6185            0.001021       0.066959       fitbit  Running 7 METs  \n",
       "6186            0.000817       0.066959       fitbit  Running 7 METs  \n",
       "6187            0.000613       0.066959       fitbit  Running 7 METs  \n",
       "6188            0.000408       0.066959       fitbit  Running 7 METs  \n",
       "6189            0.000204      20.737019       fitbit  Running 7 METs  \n",
       "\n",
       "[3263 rows x 9 columns]"
      ]
     },
     "execution_count": 1335,
     "metadata": {},
     "output_type": "execute_result"
    }
   ],
   "source": [
    "df.dropna()\n"
   ]
  },
  {
   "cell_type": "code",
   "execution_count": 1336,
   "metadata": {},
   "outputs": [],
   "source": [
    "df = df.dropna(axis=0)\n"
   ]
  },
  {
   "cell_type": "code",
   "execution_count": 1337,
   "metadata": {},
   "outputs": [],
   "source": [
    "# Subdivision du dataset en deux (apple watch et fitbit)\n",
    "df_apple = df.loc[df[\"device\"] == \"apple watch\"]\n",
    "df_fitbit = df.loc[df[\"device\"] == \"fitbit\"]\n",
    "\n",
    "df_apple = df_apple.drop(\"device\", axis=1)\n",
    "df_fitbit = df_fitbit.drop(\"device\", axis=1)\n"
   ]
  },
  {
   "cell_type": "markdown",
   "metadata": {},
   "source": [
    "## 3. Training"
   ]
  },
  {
   "cell_type": "markdown",
   "metadata": {},
   "source": [
    "Split Apple & Fitbit data"
   ]
  },
  {
   "cell_type": "code",
   "execution_count": 1338,
   "metadata": {},
   "outputs": [],
   "source": [
    "# df_apple = df.loc[df[\"device\"] == \"apple watch\"]\n",
    "# df_fitbit = df.loc[df[\"device\"] == \"fitbit\"]\n"
   ]
  },
  {
   "cell_type": "code",
   "execution_count": 1339,
   "metadata": {},
   "outputs": [
    {
     "data": {
      "text/html": [
       "<div>\n",
       "<style scoped>\n",
       "    .dataframe tbody tr th:only-of-type {\n",
       "        vertical-align: middle;\n",
       "    }\n",
       "\n",
       "    .dataframe tbody tr th {\n",
       "        vertical-align: top;\n",
       "    }\n",
       "\n",
       "    .dataframe thead th {\n",
       "        text-align: right;\n",
       "    }\n",
       "</style>\n",
       "<table border=\"1\" class=\"dataframe\">\n",
       "  <thead>\n",
       "    <tr style=\"text-align: right;\">\n",
       "      <th></th>\n",
       "      <th>steps</th>\n",
       "      <th>calories</th>\n",
       "      <th>entropy_heart</th>\n",
       "      <th>entropy_setps</th>\n",
       "      <th>corr_heart_steps</th>\n",
       "      <th>intensity_karvonen</th>\n",
       "      <th>sd_norm_heart</th>\n",
       "      <th>activity</th>\n",
       "    </tr>\n",
       "  </thead>\n",
       "  <tbody>\n",
       "    <tr>\n",
       "      <th>0</th>\n",
       "      <td>10.771429</td>\n",
       "      <td>0.344533</td>\n",
       "      <td>6.221612</td>\n",
       "      <td>6.116349</td>\n",
       "      <td>1.000000</td>\n",
       "      <td>0.138520</td>\n",
       "      <td>1.000000</td>\n",
       "      <td>Lying</td>\n",
       "    </tr>\n",
       "    <tr>\n",
       "      <th>1</th>\n",
       "      <td>11.475325</td>\n",
       "      <td>3.287625</td>\n",
       "      <td>6.221612</td>\n",
       "      <td>6.116349</td>\n",
       "      <td>1.000000</td>\n",
       "      <td>0.137967</td>\n",
       "      <td>1.000000</td>\n",
       "      <td>Lying</td>\n",
       "    </tr>\n",
       "    <tr>\n",
       "      <th>2</th>\n",
       "      <td>12.179221</td>\n",
       "      <td>9.484000</td>\n",
       "      <td>6.221612</td>\n",
       "      <td>6.116349</td>\n",
       "      <td>1.000000</td>\n",
       "      <td>0.138587</td>\n",
       "      <td>1.000000</td>\n",
       "      <td>Lying</td>\n",
       "    </tr>\n",
       "    <tr>\n",
       "      <th>3</th>\n",
       "      <td>12.883117</td>\n",
       "      <td>10.154556</td>\n",
       "      <td>6.221612</td>\n",
       "      <td>6.116349</td>\n",
       "      <td>1.000000</td>\n",
       "      <td>0.139208</td>\n",
       "      <td>1.000000</td>\n",
       "      <td>Lying</td>\n",
       "    </tr>\n",
       "    <tr>\n",
       "      <th>4</th>\n",
       "      <td>13.587013</td>\n",
       "      <td>10.825111</td>\n",
       "      <td>6.221612</td>\n",
       "      <td>6.116349</td>\n",
       "      <td>0.982816</td>\n",
       "      <td>0.139828</td>\n",
       "      <td>0.241567</td>\n",
       "      <td>Lying</td>\n",
       "    </tr>\n",
       "    <tr>\n",
       "      <th>...</th>\n",
       "      <td>...</td>\n",
       "      <td>...</td>\n",
       "      <td>...</td>\n",
       "      <td>...</td>\n",
       "      <td>...</td>\n",
       "      <td>...</td>\n",
       "      <td>...</td>\n",
       "      <td>...</td>\n",
       "    </tr>\n",
       "    <tr>\n",
       "      <th>3620</th>\n",
       "      <td>90.000000</td>\n",
       "      <td>0.756000</td>\n",
       "      <td>6.162427</td>\n",
       "      <td>5.655310</td>\n",
       "      <td>0.682364</td>\n",
       "      <td>0.348133</td>\n",
       "      <td>2.931990</td>\n",
       "      <td>Running 3 METs</td>\n",
       "    </tr>\n",
       "    <tr>\n",
       "      <th>3621</th>\n",
       "      <td>119.000000</td>\n",
       "      <td>0.756000</td>\n",
       "      <td>6.162427</td>\n",
       "      <td>5.655310</td>\n",
       "      <td>0.801849</td>\n",
       "      <td>0.358372</td>\n",
       "      <td>2.931990</td>\n",
       "      <td>Running 3 METs</td>\n",
       "    </tr>\n",
       "    <tr>\n",
       "      <th>3622</th>\n",
       "      <td>64.000000</td>\n",
       "      <td>0.758000</td>\n",
       "      <td>6.162427</td>\n",
       "      <td>5.655310</td>\n",
       "      <td>0.882916</td>\n",
       "      <td>0.368611</td>\n",
       "      <td>2.931990</td>\n",
       "      <td>Running 3 METs</td>\n",
       "    </tr>\n",
       "    <tr>\n",
       "      <th>3623</th>\n",
       "      <td>179.250000</td>\n",
       "      <td>0.459333</td>\n",
       "      <td>6.162427</td>\n",
       "      <td>5.655310</td>\n",
       "      <td>0.937173</td>\n",
       "      <td>0.378850</td>\n",
       "      <td>2.931990</td>\n",
       "      <td>Lying</td>\n",
       "    </tr>\n",
       "    <tr>\n",
       "      <th>3629</th>\n",
       "      <td>136.000000</td>\n",
       "      <td>0.756000</td>\n",
       "      <td>6.162427</td>\n",
       "      <td>5.655310</td>\n",
       "      <td>0.600500</td>\n",
       "      <td>0.440285</td>\n",
       "      <td>3.226870</td>\n",
       "      <td>Running 5 METs</td>\n",
       "    </tr>\n",
       "  </tbody>\n",
       "</table>\n",
       "<p>2282 rows × 8 columns</p>\n",
       "</div>"
      ],
      "text/plain": [
       "           steps   calories  entropy_heart  entropy_setps  corr_heart_steps  \\\n",
       "0      10.771429   0.344533       6.221612       6.116349          1.000000   \n",
       "1      11.475325   3.287625       6.221612       6.116349          1.000000   \n",
       "2      12.179221   9.484000       6.221612       6.116349          1.000000   \n",
       "3      12.883117  10.154556       6.221612       6.116349          1.000000   \n",
       "4      13.587013  10.825111       6.221612       6.116349          0.982816   \n",
       "...          ...        ...            ...            ...               ...   \n",
       "3620   90.000000   0.756000       6.162427       5.655310          0.682364   \n",
       "3621  119.000000   0.756000       6.162427       5.655310          0.801849   \n",
       "3622   64.000000   0.758000       6.162427       5.655310          0.882916   \n",
       "3623  179.250000   0.459333       6.162427       5.655310          0.937173   \n",
       "3629  136.000000   0.756000       6.162427       5.655310          0.600500   \n",
       "\n",
       "      intensity_karvonen  sd_norm_heart        activity  \n",
       "0               0.138520       1.000000           Lying  \n",
       "1               0.137967       1.000000           Lying  \n",
       "2               0.138587       1.000000           Lying  \n",
       "3               0.139208       1.000000           Lying  \n",
       "4               0.139828       0.241567           Lying  \n",
       "...                  ...            ...             ...  \n",
       "3620            0.348133       2.931990  Running 3 METs  \n",
       "3621            0.358372       2.931990  Running 3 METs  \n",
       "3622            0.368611       2.931990  Running 3 METs  \n",
       "3623            0.378850       2.931990           Lying  \n",
       "3629            0.440285       3.226870  Running 5 METs  \n",
       "\n",
       "[2282 rows x 8 columns]"
      ]
     },
     "execution_count": 1339,
     "metadata": {},
     "output_type": "execute_result"
    }
   ],
   "source": [
    "df_apple\n"
   ]
  },
  {
   "cell_type": "code",
   "execution_count": 1340,
   "metadata": {},
   "outputs": [],
   "source": [
    "X = df_apple.drop(\"activity\", axis=1)\n",
    "y = df_apple.loc[:, \"activity\"]\n"
   ]
  },
  {
   "cell_type": "code",
   "execution_count": 1341,
   "metadata": {},
   "outputs": [],
   "source": [
    "X = df_fitbit.drop(\"activity\", axis=1)\n",
    "y = df_fitbit.loc[:, \"activity\"]\n"
   ]
  },
  {
   "cell_type": "markdown",
   "metadata": {},
   "source": [
    "Ordinal encoding"
   ]
  },
  {
   "cell_type": "code",
   "execution_count": 1342,
   "metadata": {},
   "outputs": [
    {
     "data": {
      "text/plain": [
       "array(['Lying', 'Sitting', 'Self Pace walk', 'Running 3 METs',\n",
       "       'Running 5 METs', 'Running 7 METs'], dtype=object)"
      ]
     },
     "execution_count": 1342,
     "metadata": {},
     "output_type": "execute_result"
    }
   ],
   "source": [
    "df_apple['activity'].unique()\n"
   ]
  },
  {
   "cell_type": "code",
   "execution_count": 1343,
   "metadata": {},
   "outputs": [
    {
     "data": {
      "text/plain": [
       "array(['Lying', 'Sitting', 'Self Pace walk', 'Running 3 METs',\n",
       "       'Running 5 METs', 'Running 7 METs'], dtype=object)"
      ]
     },
     "execution_count": 1343,
     "metadata": {},
     "output_type": "execute_result"
    }
   ],
   "source": [
    "df_fitbit['activity'].unique()\n"
   ]
  },
  {
   "cell_type": "code",
   "execution_count": 1344,
   "metadata": {},
   "outputs": [],
   "source": [
    "def one_hot_encoding(df):\n",
    "    ordinal_encoder = ce.OrdinalEncoder(cols=['activity'],\n",
    "                                        mapping=[\n",
    "        {'col': 'activity', 'mapping': {\n",
    "            'Lying': 0, 'Self Pace walk': 1, 'Running 3 METs': 2, 'Running 5 METs': 3, 'Sitting': 4, 'Running 7 METs': 5}},\n",
    "    ])\n",
    "\n",
    "    df_ = ordinal_encoder.fit_transform(df)\n",
    "    return df\n"
   ]
  },
  {
   "cell_type": "code",
   "execution_count": 1345,
   "metadata": {},
   "outputs": [],
   "source": [
    "def preprocessing(df):\n",
    "    df = one_hot_encoding(df)\n",
    "    X = df.drop(\"activity\", axis=1)\n",
    "    y = df.loc[:, \"activity\"]\n",
    "    print(y.value_counts())\n",
    "    return X, y\n"
   ]
  },
  {
   "cell_type": "code",
   "execution_count": 1346,
   "metadata": {},
   "outputs": [],
   "source": [
    "Apple_trainset, Apple_testset = train_test_split(df_apple, test_size=0.2)\n",
    "fitbit_trainset, fitbit_testset = train_test_split(df_fitbit, test_size=0.2)\n"
   ]
  },
  {
   "cell_type": "code",
   "execution_count": 1347,
   "metadata": {},
   "outputs": [
    {
     "name": "stdout",
     "output_type": "stream",
     "text": [
      "Lying             417\n",
      "Running 3 METs    360\n",
      "Self Pace walk    317\n",
      "Running 5 METs    316\n",
      "Sitting           253\n",
      "Running 7 METs    162\n",
      "Name: activity, dtype: int64\n"
     ]
    }
   ],
   "source": [
    "XApple_train, yApple_train = preprocessing(Apple_trainset)\n"
   ]
  },
  {
   "cell_type": "code",
   "execution_count": 1348,
   "metadata": {},
   "outputs": [
    {
     "name": "stdout",
     "output_type": "stream",
     "text": [
      "Lying             295\n",
      "Sitting           175\n",
      "Running 7 METs    161\n",
      "Running 3 METs     58\n",
      "Self Pace walk     52\n",
      "Running 5 METs     43\n",
      "Name: activity, dtype: int64\n"
     ]
    }
   ],
   "source": [
    "Xfitbit_train, yfitbit_train = preprocessing(fitbit_trainset)\n"
   ]
  },
  {
   "cell_type": "code",
   "execution_count": 1349,
   "metadata": {},
   "outputs": [
    {
     "name": "stdout",
     "output_type": "stream",
     "text": [
      "Lying             72\n",
      "Sitting           63\n",
      "Running 7 METs    31\n",
      "Running 5 METs    13\n",
      "Self Pace walk    12\n",
      "Running 3 METs     6\n",
      "Name: activity, dtype: int64\n"
     ]
    }
   ],
   "source": [
    "Xfitbit_test, yfitbit_test = preprocessing(fitbit_testset)\n"
   ]
  },
  {
   "cell_type": "code",
   "execution_count": 1350,
   "metadata": {},
   "outputs": [
    {
     "name": "stdout",
     "output_type": "stream",
     "text": [
      "Lying             110\n",
      "Running 3 METs     92\n",
      "Running 5 METs     86\n",
      "Self Pace walk     83\n",
      "Sitting            56\n",
      "Running 7 METs     30\n",
      "Name: activity, dtype: int64\n"
     ]
    }
   ],
   "source": [
    "XApple_test, yApple_test = preprocessing(Apple_testset)\n"
   ]
  },
  {
   "cell_type": "code",
   "execution_count": 1351,
   "metadata": {},
   "outputs": [],
   "source": [
    "def standardisation(df):\n",
    "    scaler = StandardScaler()\n",
    "    X = scaler.fit_transform(df)\n",
    "    return X\n",
    "\n",
    "\n",
    "XApple_train = standardisation(XApple_train)\n",
    "Xfitbit_test = standardisation(Xfitbit_test)\n",
    "XApple_test = standardisation(XApple_test)\n",
    "Xfitbit_train = standardisation(Xfitbit_train)\n"
   ]
  },
  {
   "cell_type": "markdown",
   "metadata": {},
   "source": [
    "## 4. Evaluation"
   ]
  },
  {
   "cell_type": "code",
   "execution_count": 1352,
   "metadata": {},
   "outputs": [],
   "source": [
    "KNN = KNeighborsClassifier()\n",
    "SVM = SVC()\n"
   ]
  },
  {
   "cell_type": "code",
   "execution_count": 1353,
   "metadata": {},
   "outputs": [],
   "source": [
    "def evaluation(model, Xtrain, Ytrain, Xtest, Ytest):\n",
    "    model.fit(Xtrain, Ytrain)\n",
    "    ypred = KNN.predict(Xtest)\n",
    "    print(confusion_matrix(Ytest, ypred))\n",
    "    print(classification_report(Ytest, ypred))\n",
    "    print(\"Train {}\".format(\n",
    "        model.score(Xtrain, Ytrain)))\n",
    "    print(\"Test {}\".format(\n",
    "        model.score(Xtest, Ytest)))\n"
   ]
  },
  {
   "cell_type": "code",
   "execution_count": 1354,
   "metadata": {},
   "outputs": [
    {
     "name": "stdout",
     "output_type": "stream",
     "text": [
      "evaluation sur apple watch\n",
      "[[76 13  3  5  5  8]\n",
      " [14 61  5  1  7  4]\n",
      " [ 8  0 65  4  6  3]\n",
      " [ 1  1  3 23  0  2]\n",
      " [ 5  6  3  0 67  2]\n",
      " [10  3  4  4  6 29]]\n",
      "                precision    recall  f1-score   support\n",
      "\n",
      "         Lying       0.67      0.69      0.68       110\n",
      "Running 3 METs       0.73      0.66      0.69        92\n",
      "Running 5 METs       0.78      0.76      0.77        86\n",
      "Running 7 METs       0.62      0.77      0.69        30\n",
      "Self Pace walk       0.74      0.81      0.77        83\n",
      "       Sitting       0.60      0.52      0.56        56\n",
      "\n",
      "      accuracy                           0.70       457\n",
      "     macro avg       0.69      0.70      0.69       457\n",
      "  weighted avg       0.70      0.70      0.70       457\n",
      "\n",
      "Train 0.8252054794520548\n",
      "Test 0.7024070021881839\n"
     ]
    },
    {
     "name": "stderr",
     "output_type": "stream",
     "text": [
      "/Users/vatanak/Library/Python/3.8/lib/python/site-packages/sklearn/neighbors/_classification.py:237: FutureWarning: Unlike other reduction functions (e.g. `skew`, `kurtosis`), the default behavior of `mode` typically preserves the axis it acts along. In SciPy 1.11.0, this behavior will change: the default value of `keepdims` will become False, the `axis` over which the statistic is taken will be eliminated, and the value None will no longer be accepted. Set `keepdims` to True or False to avoid this warning.\n",
      "  mode, _ = stats.mode(_y[neigh_ind, k], axis=1)\n",
      "/Users/vatanak/Library/Python/3.8/lib/python/site-packages/sklearn/neighbors/_classification.py:237: FutureWarning: Unlike other reduction functions (e.g. `skew`, `kurtosis`), the default behavior of `mode` typically preserves the axis it acts along. In SciPy 1.11.0, this behavior will change: the default value of `keepdims` will become False, the `axis` over which the statistic is taken will be eliminated, and the value None will no longer be accepted. Set `keepdims` to True or False to avoid this warning.\n",
      "  mode, _ = stats.mode(_y[neigh_ind, k], axis=1)\n",
      "/Users/vatanak/Library/Python/3.8/lib/python/site-packages/sklearn/neighbors/_classification.py:237: FutureWarning: Unlike other reduction functions (e.g. `skew`, `kurtosis`), the default behavior of `mode` typically preserves the axis it acts along. In SciPy 1.11.0, this behavior will change: the default value of `keepdims` will become False, the `axis` over which the statistic is taken will be eliminated, and the value None will no longer be accepted. Set `keepdims` to True or False to avoid this warning.\n",
      "  mode, _ = stats.mode(_y[neigh_ind, k], axis=1)\n"
     ]
    }
   ],
   "source": [
    "print(\"evaluation sur apple watch\")\n",
    "evaluation(KNN, XApple_train, yApple_train, XApple_test, yApple_test)\n"
   ]
  }
 ],
 "metadata": {
  "kernelspec": {
   "display_name": "Python 3.8.9 64-bit",
   "language": "python",
   "name": "python3"
  },
  "language_info": {
   "codemirror_mode": {
    "name": "ipython",
    "version": 3
   },
   "file_extension": ".py",
   "mimetype": "text/x-python",
   "name": "python",
   "nbconvert_exporter": "python",
   "pygments_lexer": "ipython3",
   "version": "3.8.9"
  },
  "orig_nbformat": 4,
  "vscode": {
   "interpreter": {
    "hash": "31f2aee4e71d21fbe5cf8b01ff0e069b9275f58929596ceb00d14d90e3e16cd6"
   }
  }
 },
 "nbformat": 4,
 "nbformat_minor": 2
}
