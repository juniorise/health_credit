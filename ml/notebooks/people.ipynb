{
 "cells": [
  {
   "cell_type": "markdown",
   "metadata": {},
   "source": [
    "# Insurance Recommender Engine\n",
    "\n",
    "Get user health data with smart watch APIs, then analyse & predict their health condition. Based on prediction, we can recommend a best fit insurance.\n"
   ]
  },
  {
   "cell_type": "markdown",
   "metadata": {},
   "source": [
    "Dataset is a sample of 46 participants (26 women) to wear three devices, a GENEActiv, and Apple Watch Series 2, a Fitbit Charge HR2. Participants completed a 65-minute protocol with 40-minutes of total treadmill time and 25-minutes of sitting or lying time.\n",
    "Dataset: https://www.kaggle.com/datasets/aleespinosa/apple-watch-and-fitbit-data\n"
   ]
  },
  {
   "cell_type": "markdown",
   "metadata": {},
   "source": [
    "## Setup\n"
   ]
  },
  {
   "cell_type": "code",
   "execution_count": 1536,
   "metadata": {},
   "outputs": [],
   "source": [
    "import sys\n",
    "sys.path.append('..')\n"
   ]
  },
  {
   "cell_type": "code",
   "execution_count": 1537,
   "metadata": {},
   "outputs": [],
   "source": [
    "import warnings\n",
    "warnings.filterwarnings('ignore')\n",
    "warnings.simplefilter('ignore')\n"
   ]
  },
  {
   "cell_type": "code",
   "execution_count": 1538,
   "metadata": {},
   "outputs": [],
   "source": [
    "import pandas as pd\n",
    "import matplotlib.pyplot as plt\n",
    "import seaborn as sns\n",
    "import numpy as np\n",
    "import category_encoders as ce\n",
    "\n",
    "from sklearn.tree import DecisionTreeClassifier\n",
    "from sklearn.model_selection import train_test_split\n",
    "from sklearn.preprocessing import StandardScaler\n",
    "from sklearn.svm import SVC\n",
    "from sklearn.neighbors import KNeighborsClassifier\n",
    "from sklearn.metrics import f1_score, confusion_matrix, classification_report\n"
   ]
  },
  {
   "cell_type": "markdown",
   "metadata": {},
   "source": [
    "## 1. Data Analysis\n"
   ]
  },
  {
   "cell_type": "code",
   "execution_count": 1539,
   "metadata": {},
   "outputs": [
    {
     "data": {
      "text/html": [
       "<div>\n",
       "<style scoped>\n",
       "    .dataframe tbody tr th:only-of-type {\n",
       "        vertical-align: middle;\n",
       "    }\n",
       "\n",
       "    .dataframe tbody tr th {\n",
       "        vertical-align: top;\n",
       "    }\n",
       "\n",
       "    .dataframe thead th {\n",
       "        text-align: right;\n",
       "    }\n",
       "</style>\n",
       "<table border=\"1\" class=\"dataframe\">\n",
       "  <thead>\n",
       "    <tr style=\"text-align: right;\">\n",
       "      <th></th>\n",
       "      <th>Unnamed: 0</th>\n",
       "      <th>X1</th>\n",
       "      <th>age</th>\n",
       "      <th>gender</th>\n",
       "      <th>height</th>\n",
       "      <th>weight</th>\n",
       "      <th>steps</th>\n",
       "      <th>hear_rate</th>\n",
       "      <th>calories</th>\n",
       "      <th>distance</th>\n",
       "      <th>entropy_heart</th>\n",
       "      <th>entropy_setps</th>\n",
       "      <th>resting_heart</th>\n",
       "      <th>corr_heart_steps</th>\n",
       "      <th>norm_heart</th>\n",
       "      <th>intensity_karvonen</th>\n",
       "      <th>sd_norm_heart</th>\n",
       "      <th>steps_times_distance</th>\n",
       "      <th>device</th>\n",
       "      <th>activity</th>\n",
       "    </tr>\n",
       "  </thead>\n",
       "  <tbody>\n",
       "    <tr>\n",
       "      <th>0</th>\n",
       "      <td>1</td>\n",
       "      <td>1</td>\n",
       "      <td>20</td>\n",
       "      <td>1</td>\n",
       "      <td>168.0</td>\n",
       "      <td>65.4</td>\n",
       "      <td>10.771429</td>\n",
       "      <td>78.531302</td>\n",
       "      <td>0.344533</td>\n",
       "      <td>0.008327</td>\n",
       "      <td>6.221612</td>\n",
       "      <td>6.116349</td>\n",
       "      <td>59.0</td>\n",
       "      <td>1.000000</td>\n",
       "      <td>19.531302</td>\n",
       "      <td>0.138520</td>\n",
       "      <td>1.000000</td>\n",
       "      <td>0.089692</td>\n",
       "      <td>apple watch</td>\n",
       "      <td>Lying</td>\n",
       "    </tr>\n",
       "    <tr>\n",
       "      <th>1</th>\n",
       "      <td>2</td>\n",
       "      <td>2</td>\n",
       "      <td>20</td>\n",
       "      <td>1</td>\n",
       "      <td>168.0</td>\n",
       "      <td>65.4</td>\n",
       "      <td>11.475325</td>\n",
       "      <td>78.453390</td>\n",
       "      <td>3.287625</td>\n",
       "      <td>0.008896</td>\n",
       "      <td>6.221612</td>\n",
       "      <td>6.116349</td>\n",
       "      <td>59.0</td>\n",
       "      <td>1.000000</td>\n",
       "      <td>19.453390</td>\n",
       "      <td>0.137967</td>\n",
       "      <td>1.000000</td>\n",
       "      <td>0.102088</td>\n",
       "      <td>apple watch</td>\n",
       "      <td>Lying</td>\n",
       "    </tr>\n",
       "    <tr>\n",
       "      <th>2</th>\n",
       "      <td>3</td>\n",
       "      <td>3</td>\n",
       "      <td>20</td>\n",
       "      <td>1</td>\n",
       "      <td>168.0</td>\n",
       "      <td>65.4</td>\n",
       "      <td>12.179221</td>\n",
       "      <td>78.540825</td>\n",
       "      <td>9.484000</td>\n",
       "      <td>0.009466</td>\n",
       "      <td>6.221612</td>\n",
       "      <td>6.116349</td>\n",
       "      <td>59.0</td>\n",
       "      <td>1.000000</td>\n",
       "      <td>19.540825</td>\n",
       "      <td>0.138587</td>\n",
       "      <td>1.000000</td>\n",
       "      <td>0.115287</td>\n",
       "      <td>apple watch</td>\n",
       "      <td>Lying</td>\n",
       "    </tr>\n",
       "    <tr>\n",
       "      <th>3</th>\n",
       "      <td>4</td>\n",
       "      <td>4</td>\n",
       "      <td>20</td>\n",
       "      <td>1</td>\n",
       "      <td>168.0</td>\n",
       "      <td>65.4</td>\n",
       "      <td>12.883117</td>\n",
       "      <td>78.628260</td>\n",
       "      <td>10.154556</td>\n",
       "      <td>0.010035</td>\n",
       "      <td>6.221612</td>\n",
       "      <td>6.116349</td>\n",
       "      <td>59.0</td>\n",
       "      <td>1.000000</td>\n",
       "      <td>19.628260</td>\n",
       "      <td>0.139208</td>\n",
       "      <td>1.000000</td>\n",
       "      <td>0.129286</td>\n",
       "      <td>apple watch</td>\n",
       "      <td>Lying</td>\n",
       "    </tr>\n",
       "    <tr>\n",
       "      <th>4</th>\n",
       "      <td>5</td>\n",
       "      <td>5</td>\n",
       "      <td>20</td>\n",
       "      <td>1</td>\n",
       "      <td>168.0</td>\n",
       "      <td>65.4</td>\n",
       "      <td>13.587013</td>\n",
       "      <td>78.715695</td>\n",
       "      <td>10.825111</td>\n",
       "      <td>0.010605</td>\n",
       "      <td>6.221612</td>\n",
       "      <td>6.116349</td>\n",
       "      <td>59.0</td>\n",
       "      <td>0.982816</td>\n",
       "      <td>19.715695</td>\n",
       "      <td>0.139828</td>\n",
       "      <td>0.241567</td>\n",
       "      <td>0.144088</td>\n",
       "      <td>apple watch</td>\n",
       "      <td>Lying</td>\n",
       "    </tr>\n",
       "  </tbody>\n",
       "</table>\n",
       "</div>"
      ],
      "text/plain": [
       "   Unnamed: 0  X1  age  gender  height  weight      steps  hear_rate  \\\n",
       "0           1   1   20       1   168.0    65.4  10.771429  78.531302   \n",
       "1           2   2   20       1   168.0    65.4  11.475325  78.453390   \n",
       "2           3   3   20       1   168.0    65.4  12.179221  78.540825   \n",
       "3           4   4   20       1   168.0    65.4  12.883117  78.628260   \n",
       "4           5   5   20       1   168.0    65.4  13.587013  78.715695   \n",
       "\n",
       "    calories  distance  entropy_heart  entropy_setps  resting_heart  \\\n",
       "0   0.344533  0.008327       6.221612       6.116349           59.0   \n",
       "1   3.287625  0.008896       6.221612       6.116349           59.0   \n",
       "2   9.484000  0.009466       6.221612       6.116349           59.0   \n",
       "3  10.154556  0.010035       6.221612       6.116349           59.0   \n",
       "4  10.825111  0.010605       6.221612       6.116349           59.0   \n",
       "\n",
       "   corr_heart_steps  norm_heart  intensity_karvonen  sd_norm_heart  \\\n",
       "0          1.000000   19.531302            0.138520       1.000000   \n",
       "1          1.000000   19.453390            0.137967       1.000000   \n",
       "2          1.000000   19.540825            0.138587       1.000000   \n",
       "3          1.000000   19.628260            0.139208       1.000000   \n",
       "4          0.982816   19.715695            0.139828       0.241567   \n",
       "\n",
       "   steps_times_distance       device activity  \n",
       "0              0.089692  apple watch    Lying  \n",
       "1              0.102088  apple watch    Lying  \n",
       "2              0.115287  apple watch    Lying  \n",
       "3              0.129286  apple watch    Lying  \n",
       "4              0.144088  apple watch    Lying  "
      ]
     },
     "execution_count": 1539,
     "metadata": {},
     "output_type": "execute_result"
    }
   ],
   "source": [
    "# display first 10 rows\n",
    "df = pd.read_csv('../datasets/people/aw_fb_data.csv')\n",
    "\n",
    "df.head(5)\n"
   ]
  },
  {
   "cell_type": "code",
   "execution_count": 1540,
   "metadata": {},
   "outputs": [
    {
     "name": "stdout",
     "output_type": "stream",
     "text": [
      "<class 'pandas.core.frame.DataFrame'>\n",
      "RangeIndex: 6264 entries, 0 to 6263\n",
      "Data columns (total 20 columns):\n",
      " #   Column                Non-Null Count  Dtype  \n",
      "---  ------                --------------  -----  \n",
      " 0   Unnamed: 0            6264 non-null   int64  \n",
      " 1   X1                    6264 non-null   int64  \n",
      " 2   age                   6264 non-null   int64  \n",
      " 3   gender                6264 non-null   int64  \n",
      " 4   height                6264 non-null   float64\n",
      " 5   weight                6264 non-null   float64\n",
      " 6   steps                 6264 non-null   float64\n",
      " 7   hear_rate             6264 non-null   float64\n",
      " 8   calories              6264 non-null   float64\n",
      " 9   distance              6264 non-null   float64\n",
      " 10  entropy_heart         6264 non-null   float64\n",
      " 11  entropy_setps         6264 non-null   float64\n",
      " 12  resting_heart         6264 non-null   float64\n",
      " 13  corr_heart_steps      6264 non-null   float64\n",
      " 14  norm_heart            6264 non-null   float64\n",
      " 15  intensity_karvonen    6264 non-null   float64\n",
      " 16  sd_norm_heart         6264 non-null   float64\n",
      " 17  steps_times_distance  6264 non-null   float64\n",
      " 18  device                6264 non-null   object \n",
      " 19  activity              6264 non-null   object \n",
      "dtypes: float64(14), int64(4), object(2)\n",
      "memory usage: 978.9+ KB\n"
     ]
    }
   ],
   "source": [
    "df.info()\n"
   ]
  },
  {
   "cell_type": "code",
   "execution_count": 1541,
   "metadata": {},
   "outputs": [
    {
     "data": {
      "text/html": [
       "<div>\n",
       "<style scoped>\n",
       "    .dataframe tbody tr th:only-of-type {\n",
       "        vertical-align: middle;\n",
       "    }\n",
       "\n",
       "    .dataframe tbody tr th {\n",
       "        vertical-align: top;\n",
       "    }\n",
       "\n",
       "    .dataframe thead th {\n",
       "        text-align: right;\n",
       "    }\n",
       "</style>\n",
       "<table border=\"1\" class=\"dataframe\">\n",
       "  <thead>\n",
       "    <tr style=\"text-align: right;\">\n",
       "      <th></th>\n",
       "      <th>Unnamed: 0</th>\n",
       "      <th>X1</th>\n",
       "      <th>age</th>\n",
       "      <th>gender</th>\n",
       "      <th>height</th>\n",
       "      <th>weight</th>\n",
       "      <th>steps</th>\n",
       "      <th>hear_rate</th>\n",
       "      <th>calories</th>\n",
       "      <th>distance</th>\n",
       "      <th>entropy_heart</th>\n",
       "      <th>entropy_setps</th>\n",
       "      <th>resting_heart</th>\n",
       "      <th>corr_heart_steps</th>\n",
       "      <th>norm_heart</th>\n",
       "      <th>intensity_karvonen</th>\n",
       "      <th>sd_norm_heart</th>\n",
       "      <th>steps_times_distance</th>\n",
       "    </tr>\n",
       "  </thead>\n",
       "  <tbody>\n",
       "    <tr>\n",
       "      <th>count</th>\n",
       "      <td>6264.000000</td>\n",
       "      <td>6264.000000</td>\n",
       "      <td>6264.000000</td>\n",
       "      <td>6264.000000</td>\n",
       "      <td>6264.000000</td>\n",
       "      <td>6264.000000</td>\n",
       "      <td>6264.000000</td>\n",
       "      <td>6264.000000</td>\n",
       "      <td>6264.000000</td>\n",
       "      <td>6264.000000</td>\n",
       "      <td>6264.000000</td>\n",
       "      <td>6264.000000</td>\n",
       "      <td>6264.000000</td>\n",
       "      <td>6264.000000</td>\n",
       "      <td>6264.000000</td>\n",
       "      <td>6264.000000</td>\n",
       "      <td>6264.000000</td>\n",
       "      <td>6264.000000</td>\n",
       "    </tr>\n",
       "    <tr>\n",
       "      <th>mean</th>\n",
       "      <td>3132.500000</td>\n",
       "      <td>1771.144317</td>\n",
       "      <td>29.158525</td>\n",
       "      <td>0.476533</td>\n",
       "      <td>169.709052</td>\n",
       "      <td>69.614464</td>\n",
       "      <td>109.562268</td>\n",
       "      <td>86.142331</td>\n",
       "      <td>19.471823</td>\n",
       "      <td>13.832555</td>\n",
       "      <td>6.030314</td>\n",
       "      <td>5.739984</td>\n",
       "      <td>65.869938</td>\n",
       "      <td>0.306447</td>\n",
       "      <td>20.272393</td>\n",
       "      <td>0.155479</td>\n",
       "      <td>8.110854</td>\n",
       "      <td>590.035239</td>\n",
       "    </tr>\n",
       "    <tr>\n",
       "      <th>std</th>\n",
       "      <td>1808.405375</td>\n",
       "      <td>1097.988748</td>\n",
       "      <td>8.908978</td>\n",
       "      <td>0.499489</td>\n",
       "      <td>10.324698</td>\n",
       "      <td>13.451878</td>\n",
       "      <td>222.797908</td>\n",
       "      <td>28.648385</td>\n",
       "      <td>27.309765</td>\n",
       "      <td>45.941437</td>\n",
       "      <td>0.765574</td>\n",
       "      <td>1.256348</td>\n",
       "      <td>21.203017</td>\n",
       "      <td>0.775418</td>\n",
       "      <td>28.388116</td>\n",
       "      <td>0.210927</td>\n",
       "      <td>12.535080</td>\n",
       "      <td>4063.838530</td>\n",
       "    </tr>\n",
       "    <tr>\n",
       "      <th>min</th>\n",
       "      <td>1.000000</td>\n",
       "      <td>1.000000</td>\n",
       "      <td>18.000000</td>\n",
       "      <td>0.000000</td>\n",
       "      <td>143.000000</td>\n",
       "      <td>43.000000</td>\n",
       "      <td>1.000000</td>\n",
       "      <td>2.222222</td>\n",
       "      <td>0.056269</td>\n",
       "      <td>0.000440</td>\n",
       "      <td>0.000000</td>\n",
       "      <td>0.000000</td>\n",
       "      <td>3.000000</td>\n",
       "      <td>-1.000000</td>\n",
       "      <td>-76.000000</td>\n",
       "      <td>-2.714286</td>\n",
       "      <td>0.000000</td>\n",
       "      <td>0.000690</td>\n",
       "    </tr>\n",
       "    <tr>\n",
       "      <th>25%</th>\n",
       "      <td>1566.750000</td>\n",
       "      <td>789.750000</td>\n",
       "      <td>23.000000</td>\n",
       "      <td>0.000000</td>\n",
       "      <td>160.000000</td>\n",
       "      <td>60.000000</td>\n",
       "      <td>5.159534</td>\n",
       "      <td>75.598079</td>\n",
       "      <td>0.735875</td>\n",
       "      <td>0.019135</td>\n",
       "      <td>6.108524</td>\n",
       "      <td>5.909440</td>\n",
       "      <td>58.134333</td>\n",
       "      <td>-0.467303</td>\n",
       "      <td>1.148883</td>\n",
       "      <td>0.009819</td>\n",
       "      <td>0.264722</td>\n",
       "      <td>0.659260</td>\n",
       "    </tr>\n",
       "    <tr>\n",
       "      <th>50%</th>\n",
       "      <td>3132.500000</td>\n",
       "      <td>1720.000000</td>\n",
       "      <td>28.000000</td>\n",
       "      <td>0.000000</td>\n",
       "      <td>168.000000</td>\n",
       "      <td>68.000000</td>\n",
       "      <td>10.092029</td>\n",
       "      <td>77.267680</td>\n",
       "      <td>4.000000</td>\n",
       "      <td>0.181719</td>\n",
       "      <td>6.189825</td>\n",
       "      <td>6.157197</td>\n",
       "      <td>75.000000</td>\n",
       "      <td>0.665829</td>\n",
       "      <td>9.820254</td>\n",
       "      <td>0.079529</td>\n",
       "      <td>2.893503</td>\n",
       "      <td>13.368619</td>\n",
       "    </tr>\n",
       "    <tr>\n",
       "      <th>75%</th>\n",
       "      <td>4698.250000</td>\n",
       "      <td>2759.250000</td>\n",
       "      <td>33.000000</td>\n",
       "      <td>1.000000</td>\n",
       "      <td>180.000000</td>\n",
       "      <td>77.300000</td>\n",
       "      <td>105.847222</td>\n",
       "      <td>95.669118</td>\n",
       "      <td>20.500000</td>\n",
       "      <td>15.697188</td>\n",
       "      <td>6.247928</td>\n",
       "      <td>6.247928</td>\n",
       "      <td>76.138701</td>\n",
       "      <td>1.000000</td>\n",
       "      <td>27.077336</td>\n",
       "      <td>0.211868</td>\n",
       "      <td>9.679672</td>\n",
       "      <td>93.728562</td>\n",
       "    </tr>\n",
       "    <tr>\n",
       "      <th>max</th>\n",
       "      <td>6264.000000</td>\n",
       "      <td>3670.000000</td>\n",
       "      <td>56.000000</td>\n",
       "      <td>1.000000</td>\n",
       "      <td>191.000000</td>\n",
       "      <td>115.000000</td>\n",
       "      <td>1714.000000</td>\n",
       "      <td>194.333333</td>\n",
       "      <td>97.500000</td>\n",
       "      <td>335.000000</td>\n",
       "      <td>6.475733</td>\n",
       "      <td>6.475733</td>\n",
       "      <td>155.000000</td>\n",
       "      <td>1.000000</td>\n",
       "      <td>156.319444</td>\n",
       "      <td>1.297980</td>\n",
       "      <td>74.457929</td>\n",
       "      <td>51520.000000</td>\n",
       "    </tr>\n",
       "  </tbody>\n",
       "</table>\n",
       "</div>"
      ],
      "text/plain": [
       "        Unnamed: 0           X1          age       gender       height  \\\n",
       "count  6264.000000  6264.000000  6264.000000  6264.000000  6264.000000   \n",
       "mean   3132.500000  1771.144317    29.158525     0.476533   169.709052   \n",
       "std    1808.405375  1097.988748     8.908978     0.499489    10.324698   \n",
       "min       1.000000     1.000000    18.000000     0.000000   143.000000   \n",
       "25%    1566.750000   789.750000    23.000000     0.000000   160.000000   \n",
       "50%    3132.500000  1720.000000    28.000000     0.000000   168.000000   \n",
       "75%    4698.250000  2759.250000    33.000000     1.000000   180.000000   \n",
       "max    6264.000000  3670.000000    56.000000     1.000000   191.000000   \n",
       "\n",
       "            weight        steps    hear_rate     calories     distance  \\\n",
       "count  6264.000000  6264.000000  6264.000000  6264.000000  6264.000000   \n",
       "mean     69.614464   109.562268    86.142331    19.471823    13.832555   \n",
       "std      13.451878   222.797908    28.648385    27.309765    45.941437   \n",
       "min      43.000000     1.000000     2.222222     0.056269     0.000440   \n",
       "25%      60.000000     5.159534    75.598079     0.735875     0.019135   \n",
       "50%      68.000000    10.092029    77.267680     4.000000     0.181719   \n",
       "75%      77.300000   105.847222    95.669118    20.500000    15.697188   \n",
       "max     115.000000  1714.000000   194.333333    97.500000   335.000000   \n",
       "\n",
       "       entropy_heart  entropy_setps  resting_heart  corr_heart_steps  \\\n",
       "count    6264.000000    6264.000000    6264.000000       6264.000000   \n",
       "mean        6.030314       5.739984      65.869938          0.306447   \n",
       "std         0.765574       1.256348      21.203017          0.775418   \n",
       "min         0.000000       0.000000       3.000000         -1.000000   \n",
       "25%         6.108524       5.909440      58.134333         -0.467303   \n",
       "50%         6.189825       6.157197      75.000000          0.665829   \n",
       "75%         6.247928       6.247928      76.138701          1.000000   \n",
       "max         6.475733       6.475733     155.000000          1.000000   \n",
       "\n",
       "        norm_heart  intensity_karvonen  sd_norm_heart  steps_times_distance  \n",
       "count  6264.000000         6264.000000    6264.000000           6264.000000  \n",
       "mean     20.272393            0.155479       8.110854            590.035239  \n",
       "std      28.388116            0.210927      12.535080           4063.838530  \n",
       "min     -76.000000           -2.714286       0.000000              0.000690  \n",
       "25%       1.148883            0.009819       0.264722              0.659260  \n",
       "50%       9.820254            0.079529       2.893503             13.368619  \n",
       "75%      27.077336            0.211868       9.679672             93.728562  \n",
       "max     156.319444            1.297980      74.457929          51520.000000  "
      ]
     },
     "execution_count": 1541,
     "metadata": {},
     "output_type": "execute_result"
    }
   ],
   "source": [
    "df.describe()\n"
   ]
  },
  {
   "cell_type": "code",
   "execution_count": 1542,
   "metadata": {},
   "outputs": [
    {
     "data": {
      "text/plain": [
       "(6264, 20)"
      ]
     },
     "execution_count": 1542,
     "metadata": {},
     "output_type": "execute_result"
    }
   ],
   "source": [
    "# display shape of the dataset\n",
    "df.shape\n"
   ]
  },
  {
   "cell_type": "markdown",
   "metadata": {},
   "source": [
    "The dataset contains 6264 rows and 20 columns.\n"
   ]
  },
  {
   "cell_type": "code",
   "execution_count": 1543,
   "metadata": {},
   "outputs": [
    {
     "data": {
      "text/plain": [
       "array(['Lying', 'Sitting', 'Self Pace walk', 'Running 3 METs',\n",
       "       'Running 5 METs', 'Running 7 METs'], dtype=object)"
      ]
     },
     "execution_count": 1543,
     "metadata": {},
     "output_type": "execute_result"
    }
   ],
   "source": [
    "# unique value of \"activity\" column\n",
    "df['activity'].unique()\n"
   ]
  },
  {
   "cell_type": "markdown",
   "metadata": {},
   "source": [
    "According to result above, there are 7 differet activities.\n"
   ]
  },
  {
   "cell_type": "code",
   "execution_count": 1544,
   "metadata": {},
   "outputs": [
    {
     "data": {
      "text/plain": [
       "Lying             1379\n",
       "Running 7 METs    1114\n",
       "Running 5 METs    1002\n",
       "Running 3 METs     950\n",
       "Sitting            930\n",
       "Self Pace walk     889\n",
       "Name: activity, dtype: int64"
      ]
     },
     "execution_count": 1544,
     "metadata": {},
     "output_type": "execute_result"
    }
   ],
   "source": [
    "# count total number of each activity\n",
    "df.activity.value_counts()\n"
   ]
  },
  {
   "cell_type": "code",
   "execution_count": 1545,
   "metadata": {},
   "outputs": [
    {
     "data": {
      "text/plain": [
       "float64    14\n",
       "int64       4\n",
       "object      2\n",
       "dtype: int64"
      ]
     },
     "execution_count": 1545,
     "metadata": {},
     "output_type": "execute_result"
    }
   ],
   "source": [
    "# display type of data\n",
    "df.dtypes.value_counts()\n"
   ]
  },
  {
   "cell_type": "markdown",
   "metadata": {},
   "source": [
    "### Plot object type data\n"
   ]
  },
  {
   "cell_type": "code",
   "execution_count": 1546,
   "metadata": {},
   "outputs": [
    {
     "data": {
      "image/png": "[encoded data removed]",
      "text/plain": [
       "<Figure size 1080x288 with 2 Axes>"
      ]
     },
     "metadata": {},
     "output_type": "display_data"
    }
   ],
   "source": [
    "fig, (ax1, ax2) = plt.subplots(1, 2, figsize=(15, 4))\n",
    "df['device'].value_counts().plot.pie(autopct='%.2f%%', ax=ax1)\n",
    "df['activity'].value_counts().plot.pie(autopct='%.2f%%', ax=ax2)\n",
    "plt.show()\n"
   ]
  },
  {
   "cell_type": "markdown",
   "metadata": {},
   "source": [
    "### Plot activities of each device on heatmap\n"
   ]
  },
  {
   "cell_type": "code",
   "execution_count": 1547,
   "metadata": {},
   "outputs": [
    {
     "data": {
      "text/plain": [
       "<AxesSubplot:xlabel='device', ylabel='activity'>"
      ]
     },
     "execution_count": 1547,
     "metadata": {},
     "output_type": "execute_result"
    },
    {
     "data": {
      "image/png": "[encoded data removed]",
      "text/plain": [
       "<Figure size 432x288 with 2 Axes>"
      ]
     },
     "metadata": {
      "needs_background": "light"
     },
     "output_type": "display_data"
    }
   ],
   "source": [
    "sns.heatmap(pd.crosstab(df[\"activity\"], df[\"device\"]), annot=True, fmt='d')\n"
   ]
  },
  {
   "cell_type": "markdown",
   "metadata": {},
   "source": [
    "## 2. Data Preprocessing\n"
   ]
  },
  {
   "cell_type": "markdown",
   "metadata": {},
   "source": [
    "Prepare useful columns that will be used for building model\n"
   ]
  },
  {
   "cell_type": "code",
   "execution_count": 1548,
   "metadata": {},
   "outputs": [],
   "source": [
    "df = df[[\"hear_rate\", \"steps\", \"distance\", \"calories\",\n",
    "         \"resting_heart\", \"age\", \"gender\", \"height\", \"weight\", \"device\", \"activity\"]]\n"
   ]
  },
  {
   "cell_type": "code",
   "execution_count": 1549,
   "metadata": {},
   "outputs": [
    {
     "data": {
      "text/plain": [
       "hear_rate        0\n",
       "steps            0\n",
       "distance         0\n",
       "calories         0\n",
       "resting_heart    0\n",
       "age              0\n",
       "gender           0\n",
       "height           0\n",
       "weight           0\n",
       "device           0\n",
       "activity         0\n",
       "dtype: int64"
      ]
     },
     "execution_count": 1549,
     "metadata": {},
     "output_type": "execute_result"
    }
   ],
   "source": [
    "# display null value\n",
    "df.isna().sum()\n"
   ]
  },
  {
   "cell_type": "markdown",
   "metadata": {},
   "source": [
    "Plot columns on heatmap to see correlation\n"
   ]
  },
  {
   "cell_type": "code",
   "execution_count": 1550,
   "metadata": {},
   "outputs": [
    {
     "data": {
      "image/png": "[encoded data removed]",
      "text/plain": [
       "<Figure size 432x288 with 2 Axes>"
      ]
     },
     "metadata": {
      "needs_background": "light"
     },
     "output_type": "display_data"
    }
   ],
   "source": [
    "ax = plt.subplots()\n",
    "ax = sns.heatmap(df.corr(), annot=True, cmap=\"Blues\")\n"
   ]
  },
  {
   "cell_type": "code",
   "execution_count": 1551,
   "metadata": {},
   "outputs": [
    {
     "data": {
      "text/plain": [
       "<AxesSubplot:>"
      ]
     },
     "execution_count": 1551,
     "metadata": {},
     "output_type": "execute_result"
    },
    {
     "data": {
      "image/png": "[encoded data removed]",
      "text/plain": [
       "<Figure size 432x288 with 1 Axes>"
      ]
     },
     "metadata": {
      "needs_background": "light"
     },
     "output_type": "display_data"
    }
   ],
   "source": [
    "df.boxplot(meanline=True, showmeans=True)\n"
   ]
  },
  {
   "cell_type": "markdown",
   "metadata": {},
   "source": [
    "According to the boxplot above, we are able to know that the dataset contains outlier.\n"
   ]
  },
  {
   "cell_type": "code",
   "execution_count": 1552,
   "metadata": {},
   "outputs": [],
   "source": [
    "# remove outlier using interquartile range (IQR)\n",
    "def outlier(col):\n",
    "    Q3, Q1 = np.nanpercentile(col, [75, 25])\n",
    "    IQR = Q3 - Q1\n",
    "    UL = Q3 + 1.5*IQR\n",
    "    LL = Q1 - 1.5*IQR\n",
    "    return UL, LL\n"
   ]
  },
  {
   "cell_type": "code",
   "execution_count": 1553,
   "metadata": {},
   "outputs": [],
   "source": [
    "for column in df.columns:\n",
    "    if df[column].dtype != 'object':\n",
    "        UL, LL = outlier(df[column])\n",
    "        df[column] = np.where((df[column] > UL) | (\n",
    "            df[column] < LL), np.nan, df[column])\n"
   ]
  },
  {
   "cell_type": "code",
   "execution_count": 1554,
   "metadata": {},
   "outputs": [
    {
     "data": {
      "text/plain": [
       "hear_rate        1050\n",
       "steps             814\n",
       "distance          278\n",
       "calories         1149\n",
       "resting_heart     634\n",
       "age               390\n",
       "gender              0\n",
       "height              0\n",
       "weight            158\n",
       "device              0\n",
       "activity            0\n",
       "dtype: int64"
      ]
     },
     "execution_count": 1554,
     "metadata": {},
     "output_type": "execute_result"
    }
   ],
   "source": [
    "# display null value\n",
    "df.isna().sum()\n"
   ]
  },
  {
   "cell_type": "code",
   "execution_count": 1555,
   "metadata": {},
   "outputs": [
    {
     "data": {
      "text/html": [
       "<div>\n",
       "<style scoped>\n",
       "    .dataframe tbody tr th:only-of-type {\n",
       "        vertical-align: middle;\n",
       "    }\n",
       "\n",
       "    .dataframe tbody tr th {\n",
       "        vertical-align: top;\n",
       "    }\n",
       "\n",
       "    .dataframe thead th {\n",
       "        text-align: right;\n",
       "    }\n",
       "</style>\n",
       "<table border=\"1\" class=\"dataframe\">\n",
       "  <thead>\n",
       "    <tr style=\"text-align: right;\">\n",
       "      <th></th>\n",
       "      <th>hear_rate</th>\n",
       "      <th>steps</th>\n",
       "      <th>distance</th>\n",
       "      <th>calories</th>\n",
       "      <th>resting_heart</th>\n",
       "      <th>age</th>\n",
       "      <th>gender</th>\n",
       "      <th>height</th>\n",
       "      <th>weight</th>\n",
       "      <th>device</th>\n",
       "      <th>activity</th>\n",
       "    </tr>\n",
       "  </thead>\n",
       "  <tbody>\n",
       "    <tr>\n",
       "      <th>0</th>\n",
       "      <td>78.531302</td>\n",
       "      <td>10.771429</td>\n",
       "      <td>0.008327</td>\n",
       "      <td>0.344533</td>\n",
       "      <td>59.000000</td>\n",
       "      <td>20.0</td>\n",
       "      <td>1.0</td>\n",
       "      <td>168.0</td>\n",
       "      <td>65.4</td>\n",
       "      <td>apple watch</td>\n",
       "      <td>Lying</td>\n",
       "    </tr>\n",
       "    <tr>\n",
       "      <th>1</th>\n",
       "      <td>78.453390</td>\n",
       "      <td>11.475325</td>\n",
       "      <td>0.008896</td>\n",
       "      <td>3.287625</td>\n",
       "      <td>59.000000</td>\n",
       "      <td>20.0</td>\n",
       "      <td>1.0</td>\n",
       "      <td>168.0</td>\n",
       "      <td>65.4</td>\n",
       "      <td>apple watch</td>\n",
       "      <td>Lying</td>\n",
       "    </tr>\n",
       "    <tr>\n",
       "      <th>2</th>\n",
       "      <td>78.540825</td>\n",
       "      <td>12.179221</td>\n",
       "      <td>0.009466</td>\n",
       "      <td>9.484000</td>\n",
       "      <td>59.000000</td>\n",
       "      <td>20.0</td>\n",
       "      <td>1.0</td>\n",
       "      <td>168.0</td>\n",
       "      <td>65.4</td>\n",
       "      <td>apple watch</td>\n",
       "      <td>Lying</td>\n",
       "    </tr>\n",
       "    <tr>\n",
       "      <th>3</th>\n",
       "      <td>78.628260</td>\n",
       "      <td>12.883117</td>\n",
       "      <td>0.010035</td>\n",
       "      <td>10.154556</td>\n",
       "      <td>59.000000</td>\n",
       "      <td>20.0</td>\n",
       "      <td>1.0</td>\n",
       "      <td>168.0</td>\n",
       "      <td>65.4</td>\n",
       "      <td>apple watch</td>\n",
       "      <td>Lying</td>\n",
       "    </tr>\n",
       "    <tr>\n",
       "      <th>4</th>\n",
       "      <td>78.715695</td>\n",
       "      <td>13.587013</td>\n",
       "      <td>0.010605</td>\n",
       "      <td>10.825111</td>\n",
       "      <td>59.000000</td>\n",
       "      <td>20.0</td>\n",
       "      <td>1.0</td>\n",
       "      <td>168.0</td>\n",
       "      <td>65.4</td>\n",
       "      <td>apple watch</td>\n",
       "      <td>Lying</td>\n",
       "    </tr>\n",
       "    <tr>\n",
       "      <th>...</th>\n",
       "      <td>...</td>\n",
       "      <td>...</td>\n",
       "      <td>...</td>\n",
       "      <td>...</td>\n",
       "      <td>...</td>\n",
       "      <td>...</td>\n",
       "      <td>...</td>\n",
       "      <td>...</td>\n",
       "      <td>...</td>\n",
       "      <td>...</td>\n",
       "      <td>...</td>\n",
       "    </tr>\n",
       "    <tr>\n",
       "      <th>6189</th>\n",
       "      <td>75.708658</td>\n",
       "      <td>1.750000</td>\n",
       "      <td>15.782895</td>\n",
       "      <td>25.500000</td>\n",
       "      <td>75.686542</td>\n",
       "      <td>36.0</td>\n",
       "      <td>0.0</td>\n",
       "      <td>172.0</td>\n",
       "      <td>86.4</td>\n",
       "      <td>fitbit</td>\n",
       "      <td>Running 7 METs</td>\n",
       "    </tr>\n",
       "    <tr>\n",
       "      <th>6190</th>\n",
       "      <td>75.686542</td>\n",
       "      <td>1.631579</td>\n",
       "      <td>15.784211</td>\n",
       "      <td>25.500000</td>\n",
       "      <td>75.686542</td>\n",
       "      <td>36.0</td>\n",
       "      <td>0.0</td>\n",
       "      <td>172.0</td>\n",
       "      <td>86.4</td>\n",
       "      <td>fitbit</td>\n",
       "      <td>Running 7 METs</td>\n",
       "    </tr>\n",
       "    <tr>\n",
       "      <th>6191</th>\n",
       "      <td>75.664427</td>\n",
       "      <td>1.513158</td>\n",
       "      <td>15.785526</td>\n",
       "      <td>30.000000</td>\n",
       "      <td>75.686542</td>\n",
       "      <td>36.0</td>\n",
       "      <td>0.0</td>\n",
       "      <td>172.0</td>\n",
       "      <td>86.4</td>\n",
       "      <td>fitbit</td>\n",
       "      <td>Running 7 METs</td>\n",
       "    </tr>\n",
       "    <tr>\n",
       "      <th>6192</th>\n",
       "      <td>75.642311</td>\n",
       "      <td>1.394737</td>\n",
       "      <td>15.786842</td>\n",
       "      <td>31.000000</td>\n",
       "      <td>75.686542</td>\n",
       "      <td>36.0</td>\n",
       "      <td>0.0</td>\n",
       "      <td>172.0</td>\n",
       "      <td>86.4</td>\n",
       "      <td>fitbit</td>\n",
       "      <td>Running 7 METs</td>\n",
       "    </tr>\n",
       "    <tr>\n",
       "      <th>6193</th>\n",
       "      <td>75.620195</td>\n",
       "      <td>1.276316</td>\n",
       "      <td>15.788158</td>\n",
       "      <td>30.000000</td>\n",
       "      <td>75.686542</td>\n",
       "      <td>36.0</td>\n",
       "      <td>0.0</td>\n",
       "      <td>172.0</td>\n",
       "      <td>86.4</td>\n",
       "      <td>fitbit</td>\n",
       "      <td>Running 7 METs</td>\n",
       "    </tr>\n",
       "  </tbody>\n",
       "</table>\n",
       "<p>3089 rows × 11 columns</p>\n",
       "</div>"
      ],
      "text/plain": [
       "      hear_rate      steps   distance   calories  resting_heart   age  gender  \\\n",
       "0     78.531302  10.771429   0.008327   0.344533      59.000000  20.0     1.0   \n",
       "1     78.453390  11.475325   0.008896   3.287625      59.000000  20.0     1.0   \n",
       "2     78.540825  12.179221   0.009466   9.484000      59.000000  20.0     1.0   \n",
       "3     78.628260  12.883117   0.010035  10.154556      59.000000  20.0     1.0   \n",
       "4     78.715695  13.587013   0.010605  10.825111      59.000000  20.0     1.0   \n",
       "...         ...        ...        ...        ...            ...   ...     ...   \n",
       "6189  75.708658   1.750000  15.782895  25.500000      75.686542  36.0     0.0   \n",
       "6190  75.686542   1.631579  15.784211  25.500000      75.686542  36.0     0.0   \n",
       "6191  75.664427   1.513158  15.785526  30.000000      75.686542  36.0     0.0   \n",
       "6192  75.642311   1.394737  15.786842  31.000000      75.686542  36.0     0.0   \n",
       "6193  75.620195   1.276316  15.788158  30.000000      75.686542  36.0     0.0   \n",
       "\n",
       "      height  weight       device        activity  \n",
       "0      168.0    65.4  apple watch           Lying  \n",
       "1      168.0    65.4  apple watch           Lying  \n",
       "2      168.0    65.4  apple watch           Lying  \n",
       "3      168.0    65.4  apple watch           Lying  \n",
       "4      168.0    65.4  apple watch           Lying  \n",
       "...      ...     ...          ...             ...  \n",
       "6189   172.0    86.4       fitbit  Running 7 METs  \n",
       "6190   172.0    86.4       fitbit  Running 7 METs  \n",
       "6191   172.0    86.4       fitbit  Running 7 METs  \n",
       "6192   172.0    86.4       fitbit  Running 7 METs  \n",
       "6193   172.0    86.4       fitbit  Running 7 METs  \n",
       "\n",
       "[3089 rows x 11 columns]"
      ]
     },
     "execution_count": 1555,
     "metadata": {},
     "output_type": "execute_result"
    }
   ],
   "source": [
    "# drop outlier\n",
    "df.dropna()\n"
   ]
  },
  {
   "cell_type": "code",
   "execution_count": 1556,
   "metadata": {},
   "outputs": [],
   "source": [
    "# drop null value of X\n",
    "df = df.dropna(axis=0)\n"
   ]
  },
  {
   "cell_type": "code",
   "execution_count": 1557,
   "metadata": {},
   "outputs": [],
   "source": [
    "# Split dataset based on device type (Apple and Fitbit)\n",
    "df_apple = df.loc[df[\"device\"] == \"apple watch\"]\n",
    "df_fitbit = df.loc[df[\"device\"] == \"fitbit\"]\n",
    "\n",
    "# Remove \"device\" column\n",
    "df_apple = df_apple.drop(\"device\", axis=1)\n",
    "df_fitbit = df_fitbit.drop(\"device\", axis=1)\n"
   ]
  },
  {
   "cell_type": "markdown",
   "metadata": {},
   "source": [
    "## 3. Training\n"
   ]
  },
  {
   "cell_type": "markdown",
   "metadata": {},
   "source": [
    "### 3.1. Split Apple & Fitbit data\n"
   ]
  },
  {
   "cell_type": "code",
   "execution_count": 1558,
   "metadata": {},
   "outputs": [],
   "source": [
    "# Prepare data for training (Apple)\n",
    "X = df_apple.drop(\"activity\", axis=1)\n",
    "y = df_apple.loc[:, \"activity\"]\n"
   ]
  },
  {
   "cell_type": "code",
   "execution_count": 1559,
   "metadata": {},
   "outputs": [],
   "source": [
    "# Prepare data for training (Fitbit)\n",
    "X = df_fitbit.drop(\"activity\", axis=1)\n",
    "y = df_fitbit.loc[:, \"activity\"]\n"
   ]
  },
  {
   "cell_type": "markdown",
   "metadata": {},
   "source": [
    "### 3.2. Feature encoding\n"
   ]
  },
  {
   "cell_type": "code",
   "execution_count": 1560,
   "metadata": {},
   "outputs": [
    {
     "data": {
      "text/plain": [
       "array(['Lying', 'Sitting', 'Self Pace walk', 'Running 3 METs',\n",
       "       'Running 5 METs', 'Running 7 METs'], dtype=object)"
      ]
     },
     "execution_count": 1560,
     "metadata": {},
     "output_type": "execute_result"
    }
   ],
   "source": [
    "# Display unique value of activity (Apple)\n",
    "df_apple['activity'].unique()\n"
   ]
  },
  {
   "cell_type": "code",
   "execution_count": 1561,
   "metadata": {},
   "outputs": [
    {
     "data": {
      "text/plain": [
       "array(['Lying', 'Sitting', 'Self Pace walk', 'Running 3 METs',\n",
       "       'Running 5 METs', 'Running 7 METs'], dtype=object)"
      ]
     },
     "execution_count": 1561,
     "metadata": {},
     "output_type": "execute_result"
    }
   ],
   "source": [
    "# Display unique value of activity (Fitbit)\n",
    "df_fitbit['activity'].unique()\n"
   ]
  },
  {
   "cell_type": "code",
   "execution_count": 365,
   "metadata": {},
   "outputs": [],
   "source": [
    "# Feature encoding\n",
    "mapping = {'Lying': 0, 'Self Pace walk': 1, 'Running 3 METs': 2,\n",
    "           'Running 5 METs': 3, 'Sitting': 4, 'Running 7 METs': 5}\n",
    "\n",
    "\n",
    "def one_hot_encoding(df):\n",
    "    ordinal_encoder = ce.OrdinalEncoder(\n",
    "        cols=['activity'],\n",
    "        mapping=[{\n",
    "            'col': 'activity',\n",
    "            'mapping': mapping\n",
    "        }]\n",
    "    )\n",
    "\n",
    "    df_ = ordinal_encoder.fit_transform(df)\n",
    "    return df_\n"
   ]
  },
  {
   "cell_type": "code",
   "execution_count": 366,
   "metadata": {},
   "outputs": [],
   "source": [
    "def preprocessing(df):\n",
    "    df = one_hot_encoding(df)\n",
    "    X = df.drop(\"activity\", axis=1)\n",
    "    y = df.loc[:, \"activity\"]\n",
    "    return X, y\n"
   ]
  },
  {
   "cell_type": "markdown",
   "metadata": {},
   "source": [
    "### 3.3. Prepare Dataset\n",
    "\n",
    "Split 20% of data for testing\n"
   ]
  },
  {
   "cell_type": "code",
   "execution_count": 367,
   "metadata": {},
   "outputs": [],
   "source": [
    "Apple_trainset, Apple_testset = train_test_split(\n",
    "    df_apple, test_size=0.2, random_state=0)\n",
    "fitbit_trainset, fitbit_testset = train_test_split(\n",
    "    df_fitbit, test_size=0.2, random_state=0)\n"
   ]
  },
  {
   "cell_type": "code",
   "execution_count": 368,
   "metadata": {},
   "outputs": [],
   "source": [
    "XApple_train, yApple_train = preprocessing(Apple_trainset)\n",
    "Xfitbit_train, yfitbit_train = preprocessing(fitbit_trainset)\n"
   ]
  },
  {
   "cell_type": "code",
   "execution_count": 369,
   "metadata": {},
   "outputs": [],
   "source": [
    "Xfitbit_test, yfitbit_test = preprocessing(fitbit_testset)\n",
    "XApple_test, yApple_test = preprocessing(Apple_testset)\n"
   ]
  },
  {
   "cell_type": "markdown",
   "metadata": {},
   "source": [
    "### 3.4. Standardization\n"
   ]
  },
  {
   "cell_type": "code",
   "execution_count": 370,
   "metadata": {},
   "outputs": [],
   "source": [
    "def standardisation(df):\n",
    "    scaler = StandardScaler()\n",
    "    X = scaler.fit_transform(df)\n",
    "    return X\n"
   ]
  },
  {
   "cell_type": "code",
   "execution_count": 371,
   "metadata": {},
   "outputs": [],
   "source": [
    "XApple_train = standardisation(XApple_train)\n",
    "Xfitbit_test = standardisation(Xfitbit_test)\n",
    "XApple_test = standardisation(XApple_test)\n",
    "Xfitbit_train = standardisation(Xfitbit_train)\n"
   ]
  },
  {
   "cell_type": "markdown",
   "metadata": {},
   "source": [
    "## 4. Evaluation\n"
   ]
  },
  {
   "cell_type": "code",
   "execution_count": 422,
   "metadata": {},
   "outputs": [],
   "source": [
    "def evaluate_model(model, Xtrain, Ytrain, Xtest, Ytest):\n",
    "    model.fit(Xtrain, Ytrain)\n",
    "    ypred = model.predict(Xtest)\n",
    "    print(classification_report(Ytest, ypred))\n",
    "    print(\"Training accuracy {}\".format(model.score(Xtrain, Ytrain)))\n",
    "    print(\"Testing accuracy {}\".format(model.score(Xtest, Ytest)))\n",
    "    print(\"Mapping:\\n{}\".format(mapping))\n"
   ]
  },
  {
   "cell_type": "markdown",
   "metadata": {},
   "source": [
    "### 4.1. Decision Tree Model\n"
   ]
  },
  {
   "cell_type": "code",
   "execution_count": 423,
   "metadata": {},
   "outputs": [],
   "source": [
    "tree = DecisionTreeClassifier(criterion='gini', random_state=42, max_depth=13)\n"
   ]
  },
  {
   "cell_type": "code",
   "execution_count": 424,
   "metadata": {},
   "outputs": [
    {
     "name": "stdout",
     "output_type": "stream",
     "text": [
      "              precision    recall  f1-score   support\n",
      "\n",
      "           0       0.36      0.38      0.37        98\n",
      "           1       0.52      0.41      0.46        75\n",
      "           2       0.55      0.50      0.52        98\n",
      "           3       0.51      0.50      0.50        70\n",
      "           4       0.30      0.40      0.34        55\n",
      "           5       0.51      0.53      0.52        49\n",
      "\n",
      "    accuracy                           0.45       445\n",
      "   macro avg       0.46      0.45      0.45       445\n",
      "weighted avg       0.46      0.45      0.45       445\n",
      "\n",
      "Training accuracy 0.9527293190770962\n",
      "Testing accuracy 0.449438202247191\n",
      "Mapping:\n",
      "{'Lying': 0, 'Self Pace walk': 1, 'Running 3 METs': 2, 'Running 5 METs': 3, 'Sitting': 4, 'Running 7 METs': 5}\n"
     ]
    }
   ],
   "source": [
    "# Decision tree for Apple Watch\n",
    "evaluate_model(tree, XApple_train, yApple_train, XApple_test, yApple_test)\n"
   ]
  },
  {
   "cell_type": "code",
   "execution_count": 425,
   "metadata": {},
   "outputs": [
    {
     "name": "stdout",
     "output_type": "stream",
     "text": [
      "              precision    recall  f1-score   support\n",
      "\n",
      "           0       0.97      0.33      0.50        87\n",
      "           1       0.33      0.17      0.22         6\n",
      "           2       0.00      0.00      0.00         6\n",
      "           3       0.10      0.89      0.17         9\n",
      "           4       0.38      0.20      0.26        40\n",
      "           5       0.72      1.00      0.84        26\n",
      "\n",
      "    accuracy                           0.41       174\n",
      "   macro avg       0.42      0.43      0.33       174\n",
      "weighted avg       0.70      0.41      0.45       174\n",
      "\n",
      "Training accuracy 1.0\n",
      "Testing accuracy 0.41379310344827586\n",
      "Mapping:\n",
      "{'Lying': 0, 'Self Pace walk': 1, 'Running 3 METs': 2, 'Running 5 METs': 3, 'Sitting': 4, 'Running 7 METs': 5}\n"
     ]
    }
   ],
   "source": [
    "# Decision tree for Fitbit\n",
    "evaluate_model(tree, Xfitbit_train, yfitbit_train, Xfitbit_test, yfitbit_test)\n"
   ]
  },
  {
   "cell_type": "markdown",
   "metadata": {},
   "source": [
    "### 4.2. Support-vector machine model\n"
   ]
  },
  {
   "cell_type": "code",
   "execution_count": 426,
   "metadata": {},
   "outputs": [],
   "source": [
    "SVM = SVC()\n"
   ]
  },
  {
   "cell_type": "code",
   "execution_count": 427,
   "metadata": {},
   "outputs": [
    {
     "name": "stdout",
     "output_type": "stream",
     "text": [
      "              precision    recall  f1-score   support\n",
      "\n",
      "           0       0.31      0.70      0.43        98\n",
      "           1       0.48      0.33      0.39        75\n",
      "           2       0.57      0.38      0.45        98\n",
      "           3       0.55      0.47      0.51        70\n",
      "           4       0.38      0.11      0.17        55\n",
      "           5       0.61      0.35      0.44        49\n",
      "\n",
      "    accuracy                           0.42       445\n",
      "   macro avg       0.48      0.39      0.40       445\n",
      "weighted avg       0.47      0.42      0.41       445\n",
      "\n",
      "Training accuracy 0.46933033202025887\n",
      "Testing accuracy 0.4202247191011236\n",
      "Mapping:\n",
      "{'Lying': 0, 'Self Pace walk': 1, 'Running 3 METs': 2, 'Running 5 METs': 3, 'Sitting': 4, 'Running 7 METs': 5}\n"
     ]
    }
   ],
   "source": [
    "# SVM for Apple Watch\n",
    "evaluate_model(SVM, XApple_train, yApple_train, XApple_test, yApple_test)\n"
   ]
  },
  {
   "cell_type": "code",
   "execution_count": 428,
   "metadata": {},
   "outputs": [
    {
     "name": "stdout",
     "output_type": "stream",
     "text": [
      "              precision    recall  f1-score   support\n",
      "\n",
      "           0       0.62      0.84      0.72        87\n",
      "           1       0.33      0.33      0.33         6\n",
      "           2       0.00      0.00      0.00         6\n",
      "           3       0.00      0.00      0.00         9\n",
      "           4       0.38      0.12      0.19        40\n",
      "           5       0.68      1.00      0.81        26\n",
      "\n",
      "    accuracy                           0.61       174\n",
      "   macro avg       0.34      0.38      0.34       174\n",
      "weighted avg       0.51      0.61      0.53       174\n",
      "\n",
      "Training accuracy 0.6060606060606061\n",
      "Testing accuracy 0.6091954022988506\n",
      "Mapping:\n",
      "{'Lying': 0, 'Self Pace walk': 1, 'Running 3 METs': 2, 'Running 5 METs': 3, 'Sitting': 4, 'Running 7 METs': 5}\n"
     ]
    }
   ],
   "source": [
    "# SVM for Fitbit\n",
    "evaluate_model(SVM, Xfitbit_train, yfitbit_train, Xfitbit_test, yfitbit_test)\n"
   ]
  },
  {
   "cell_type": "markdown",
   "metadata": {},
   "source": [
    "### 4.3. K-nearest Neighbors Classifier Model\n"
   ]
  },
  {
   "cell_type": "code",
   "execution_count": 429,
   "metadata": {},
   "outputs": [],
   "source": [
    "KNN = KNeighborsClassifier()\n"
   ]
  },
  {
   "cell_type": "code",
   "execution_count": 430,
   "metadata": {},
   "outputs": [
    {
     "name": "stdout",
     "output_type": "stream",
     "text": [
      "              precision    recall  f1-score   support\n",
      "\n",
      "           0       0.65      0.62      0.64        98\n",
      "           1       0.66      0.89      0.76        75\n",
      "           2       0.78      0.74      0.76        98\n",
      "           3       0.71      0.71      0.71        70\n",
      "           4       0.58      0.55      0.56        55\n",
      "           5       0.74      0.51      0.60        49\n",
      "\n",
      "    accuracy                           0.69       445\n",
      "   macro avg       0.69      0.67      0.67       445\n",
      "weighted avg       0.69      0.69      0.68       445\n",
      "\n",
      "Training accuracy 0.8064153066966798\n",
      "Testing accuracy 0.6876404494382022\n",
      "Mapping:\n",
      "{'Lying': 0, 'Self Pace walk': 1, 'Running 3 METs': 2, 'Running 5 METs': 3, 'Sitting': 4, 'Running 7 METs': 5}\n"
     ]
    }
   ],
   "source": [
    "# KNN for Apple Watch\n",
    "evaluate_model(KNN, XApple_train, yApple_train, XApple_test, yApple_test)\n"
   ]
  },
  {
   "cell_type": "code",
   "execution_count": 431,
   "metadata": {},
   "outputs": [
    {
     "name": "stdout",
     "output_type": "stream",
     "text": [
      "              precision    recall  f1-score   support\n",
      "\n",
      "           0       0.74      0.71      0.73        87\n",
      "           1       0.17      0.17      0.17         6\n",
      "           2       0.33      0.50      0.40         6\n",
      "           3       0.55      0.67      0.60         9\n",
      "           4       0.61      0.50      0.55        40\n",
      "           5       0.77      0.92      0.84        26\n",
      "\n",
      "    accuracy                           0.67       174\n",
      "   macro avg       0.53      0.58      0.55       174\n",
      "weighted avg       0.67      0.67      0.66       174\n",
      "\n",
      "Training accuracy 0.823953823953824\n",
      "Testing accuracy 0.6666666666666666\n",
      "Mapping:\n",
      "{'Lying': 0, 'Self Pace walk': 1, 'Running 3 METs': 2, 'Running 5 METs': 3, 'Sitting': 4, 'Running 7 METs': 5}\n"
     ]
    }
   ],
   "source": [
    "# KNN for Fitbit\n",
    "evaluate_model(KNN, Xfitbit_train, yfitbit_train, Xfitbit_test, yfitbit_test)\n"
   ]
  },
  {
   "cell_type": "markdown",
   "metadata": {},
   "source": [
    "## 5. Conclusion\n"
   ]
  },
  {
   "cell_type": "markdown",
   "metadata": {},
   "source": [
    "According to the 3 trained models above, KNN seems to perform better that Decision tree and Support-vector machine for both Apple and Fitbit. Thus, KNN will be used for our application.\n"
   ]
  },
  {
   "cell_type": "markdown",
   "metadata": {},
   "source": [
    "Based on the data we receive from health tracker watch, we are able to predict the activity (behavior) of the user as we can see each activity's score (f1-score). Therefore, we can offer user a best fit insurance when we integrate to insurance API.\n"
   ]
  },
  {
   "cell_type": "markdown",
   "metadata": {},
   "source": [
    "| Map | Label | F1-Score |\n",
    "| - | - | - |\n",
    "| 5 | Running 7 METs | 0.84 |\n",
    "| 0 | Lying | 0.73 |\n",
    "| 3 | Running 5 METs | 0.60 |\n",
    "| 4 | Sitting | 0.55 |\n",
    "| 2 | Running 3 METs | 0.40 |\n",
    "| 1 | Self Pace walk | 0.17 |\n",
    "\n",
    "For example, these data show that user like to do activity `Running 7 METs`, so FWD will consider whether the activity should be good for health or not."
   ]
  }
 ],
 "metadata": {
  "kernelspec": {
   "display_name": "Python 3.8.11 ('base')",
   "language": "python",
   "name": "python3"
  },
  "language_info": {
   "codemirror_mode": {
    "name": "ipython",
    "version": 3
   },
   "file_extension": ".py",
   "mimetype": "text/x-python",
   "name": "python",
   "nbconvert_exporter": "python",
   "pygments_lexer": "ipython3",
   "version": "3.8.11"
  },
  "orig_nbformat": 4,
  "vscode": {
   "interpreter": {
    "hash": "40d3a090f54c6569ab1632332b64b2c03c39dcf918b08424e98f38b5ae0af88f"
   }
  }
 },
 "nbformat": 4,
 "nbformat_minor": 2
}
